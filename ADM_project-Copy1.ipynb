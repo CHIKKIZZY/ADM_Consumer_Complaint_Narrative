{
 "cells": [
  {
   "cell_type": "code",
   "execution_count": 26,
   "metadata": {
    "collapsed": true
   },
   "outputs": [],
   "source": [
    "from collections import Counter, defaultdict\n",
    "import math\n",
    "import numpy as np\n",
    "import os\n",
    "#import pandas as pd\n",
    "import re\n",
    "from scipy.sparse import csr_matrix\n",
    "#import urllib.request\n",
    "#import zipfile\n"
   ]
  },
  {
   "cell_type": "code",
   "execution_count": 27,
   "metadata": {
    "collapsed": false
   },
   "outputs": [],
   "source": [
    "# Read in data from pandas\n",
    "import pandas as pd\n",
    "\n",
    "# This is used for fast string concatination\n",
    "from io import StringIO\n",
    "\n",
    "# Use nltk for valid words\n",
    "import nltk\n",
    "# Need to make hash 'dictionaries' from nltk for fast processing\n",
    "import collections as co\n",
    "\n",
    "\n",
    "import warnings # current version of seaborn generates a bunch of warnings that we'll ignore\n",
    "warnings.filterwarnings(\"ignore\")\n",
    "import seaborn as sns\n",
    "import matplotlib.pyplot as plt\n",
    "sns.set(style=\"white\", color_codes=True)\n"
   ]
  },
  {
   "cell_type": "code",
   "execution_count": 28,
   "metadata": {
    "collapsed": false
   },
   "outputs": [],
   "source": [
    "# Read the input\n",
    "d = pd.read_csv(\"F:\\IITC\\ADM\\Extra\\consumer_complaints.csv\") # the consumer dataset is now a Pandas DataFrame\n",
    "# Only interested in data with consumer complaints\n",
    "d = d[d['Consumer complaint narrative'].notnull()]"
   ]
  },
  {
   "cell_type": "code",
   "execution_count": 29,
   "metadata": {
    "collapsed": false
   },
   "outputs": [
    {
     "name": "stdout",
     "output_type": "stream",
     "text": [
      "56777     Received Capital One charge card offer XXXX. A...\n",
      "56834     I do n't know how they got my cell number. I t...\n",
      "56884     I 'm a longtime member of Charter One Bank/RBS...\n",
      "56894     After looking at my credit report, I saw a col...\n",
      "56898     I received a call from a XXXX XXXX from XXXX @...\n",
      "56910     Was not contacted 4 years later about some pri...\n",
      "56911     Collection Consultants is reporting a collecti...\n",
      "56914     I had my purse stolen in 2007. They never foun...\n",
      "56917     I attempted to apply for a Discover Card Onlin...\n",
      "56918     Continued attempts by XXXX XXXX XXXX to collec...\n",
      "56920     This is a continuation of a previous issue wit...\n",
      "56928     Going through a divorce, my ex and I were unab...\n",
      "56930     I am assisted with my mortgage through an agen...\n",
      "56939     i submitted a payment on XXXX XXXX 2015 for my...\n",
      "56940     I recieved a notice from Midland Credit Manage...\n",
      "56956     XXXX Card services was bought out by Capital O...\n",
      "56965     I was reported late by Discover Card to the re...\n",
      "56982     XXXX i receive an email from citibank regardin...\n",
      "56983     I agreed to a settlement arrangement on a acco...\n",
      "56985     Green Tree Financial somehow got XXXX Loan AFT...\n",
      "56989     I took out a Loan from Cash Central XXXX, Al f...\n",
      "56990     I filed ChapterXXXX bankruptcy on my accounts ...\n",
      "56995     To whom it may concern, To those that follow t...\n",
      "56996     I 'm no longer an account holder of SunTrust. ...\n",
      "57004     I 've been receiving numerous robocalls, hang-...\n",
      "57007     My mortgage servicer, Wells Fargo, did not giv...\n",
      "57012     Please investigate the practices of Experian. ...\n",
      "57014     Portfolio Recovery does not disclose who is ca...\n",
      "57022     After banking with Citibank for over 3 years, ...\n",
      "57023     I am a victim of a parked debt bought by a deb...\n",
      "                                ...                        \n",
      "669665    There was an account opened with XXXX I have n...\n",
      "669670    Fastunsecured.com submitted my information to ...\n",
      "669675    Green Tree Servicing failed to honor my perman...\n",
      "669685    Opened checking account with valid funds. Remo...\n",
      "669693    Disputed the XXXX bankruptcies showing on my r...\n",
      "669694    I was evaluating Wells Fargo Home Mortgage to ...\n",
      "669702    I have sent Equifax several letters over 3 mon...\n",
      "669715    We have a mortgage with Loan Care, a XXXX Comp...\n",
      "669716    Ditech Financial has misapplied payments we ha...\n",
      "669721    I 'm XXXX, disalbled, after an accident at wor...\n",
      "669723    Fedloan Servicing, a Department of Education S...\n",
      "669727    We went to refinance with another company due ...\n",
      "669730    I have asked 21st Century Mortgage twice to st...\n",
      "669731    I purchased a timeshare and in 2012 defaulted ...\n",
      "669732    Edward Jones XXXX billed my account for {$440....\n",
      "669739    On XX/XX/2016 I made a deposit of {$900.00} vi...\n",
      "669742    I closed my savings and checking account at Ke...\n",
      "669743    I have sent letters to the credit bureaus as w...\n",
      "669746    On XXXX XXXX, 2016, I sent a letter to the cre...\n",
      "669748    I was a victim of identity theft and noticed a...\n",
      "669749    American Express has charged me an annual fee ...\n",
      "669754    PNC Mortgage charged me {$650.00} for an appra...\n",
      "669758    I have been working with clients for 8 months,...\n",
      "669759    I have a loan through first national bank of o...\n",
      "669761    Chase put a negative account on my credit file...\n",
      "669763    My mortgage company has tried twice now to add...\n",
      "669769    This is an additional complaint to the previou...\n",
      "669771    I have been a customer with Capitalone for ove...\n",
      "669772    I am paying off my loan by making largish paym...\n",
      "669776    I have been in a battle to make mortgage payme...\n",
      "Name: Consumer complaint narrative, dtype: object\n"
     ]
    }
   ],
   "source": [
    "print(d['Consumer complaint narrative'])"
   ]
  },
  {
   "cell_type": "code",
   "execution_count": 30,
   "metadata": {
    "collapsed": false
   },
   "outputs": [
    {
     "name": "stdout",
     "output_type": "stream",
     "text": [
      "      Date received           Product                            Sub-product  \\\n",
      "56834     3/23/2015   Debt collection  Other (i.e. phone, health club, etc.)   \n",
      "56884     3/23/2015       Credit card                                    NaN   \n",
      "56894     3/23/2015  Credit reporting                                    NaN   \n",
      "56898     3/23/2015   Debt collection                            Payday loan   \n",
      "\n",
      "                                        Issue  \\\n",
      "56834     Improper contact or sharing of info   \n",
      "56884                                 Rewards   \n",
      "56894  Incorrect information on credit report   \n",
      "56898     Improper contact or sharing of info   \n",
      "\n",
      "                                   Sub-issue  \\\n",
      "56834      Contacted me after I asked not to   \n",
      "56884                                    NaN   \n",
      "56894                Information is not mine   \n",
      "56898  Talked to a third party about my debt   \n",
      "\n",
      "                            Consumer complaint narrative  \\\n",
      "56834  I do n't know how they got my cell number. I t...   \n",
      "56884  I 'm a longtime member of Charter One Bank/RBS...   \n",
      "56894  After looking at my credit report, I saw a col...   \n",
      "56898  I received a call from a XXXX XXXX from XXXX @...   \n",
      "\n",
      "                                Company public response  \\\n",
      "56834                                               NaN   \n",
      "56884                                               NaN   \n",
      "56894  Company chooses not to provide a public response   \n",
      "56898                                               NaN   \n",
      "\n",
      "                              Company State ZIP code Tags  \\\n",
      "56834    CCS Financial Services, Inc.    AR    727XX  NaN   \n",
      "56884  Citizens Financial Group, Inc.    MI    482XX  NaN   \n",
      "56894                        Experian    FL    331XX  NaN   \n",
      "56898          Big Picture Loans, LLC    SC    291XX  NaN   \n",
      "\n",
      "      Consumer consent provided? Submitted via Date sent to company  \\\n",
      "56834           Consent provided           Web            3/23/2015   \n",
      "56884           Consent provided           Web            3/23/2015   \n",
      "56894           Consent provided           Web            3/27/2015   \n",
      "56898           Consent provided           Web            3/23/2015   \n",
      "\n",
      "          Company response to consumer Timely response? Consumer disputed?  \\\n",
      "56834          Closed with explanation              Yes                 No   \n",
      "56884          Closed with explanation              Yes                Yes   \n",
      "56894  Closed with non-monetary relief              Yes                 No   \n",
      "56898          Closed with explanation              Yes                 No   \n",
      "\n",
      "       Complaint ID  \n",
      "56834     1296593.0  \n",
      "56884     1296693.0  \n",
      "56894     1296955.0  \n",
      "56898     1296727.0  \n"
     ]
    }
   ],
   "source": [
    "print(d[1:5])"
   ]
  },
  {
   "cell_type": "code",
   "execution_count": null,
   "metadata": {
    "collapsed": false
   },
   "outputs": [],
   "source": [
    "# We want a very fast way to concat strings.\n",
    "#  Try += if you don't believe this method is faster.\n",
    "s=StringIO()\n",
    "d['Consumer complaint narrative'].apply(lambda x: s.write(x))\n",
    "\n",
    "k=s.getvalue()\n",
    "s.close()\n",
    "k=k.lower()\n",
    "k=k.split()\n"
   ]
  },
  {
   "cell_type": "code",
   "execution_count": null,
   "metadata": {
    "collapsed": false
   },
   "outputs": [],
   "source": [
    "#nltk.download()\n",
    "#k\n"
   ]
  },
  {
   "cell_type": "code",
   "execution_count": null,
   "metadata": {
    "collapsed": false
   },
   "outputs": [],
   "source": [
    "print(len(k))"
   ]
  },
  {
   "cell_type": "code",
   "execution_count": null,
   "metadata": {
    "collapsed": false
   },
   "outputs": [],
   "source": [
    "# Next only want valid strings\n",
    "words = co.Counter(nltk.corpus.words.words())\n",
    "print(words)"
   ]
  },
  {
   "cell_type": "code",
   "execution_count": null,
   "metadata": {
    "collapsed": false
   },
   "outputs": [],
   "source": [
    "stopWords = co.Counter( nltk.corpus.stopwords.words() )\n",
    "\n",
    "print(stopWords)"
   ]
  },
  {
   "cell_type": "code",
   "execution_count": null,
   "metadata": {
    "collapsed": false
   },
   "outputs": [],
   "source": [
    "\n",
    "k=[i for i in k if i in words and i not in stopWords]\n",
    "\n",
    "s=\" \".join(k)\n",
    "\n",
    "\n",
    "c = co.Counter(k)"
   ]
  },
  {
   "cell_type": "code",
   "execution_count": null,
   "metadata": {
    "collapsed": false
   },
   "outputs": [],
   "source": [
    "# Take a look at the 14 most common words\n",
    "freq_words = c.most_common(100)"
   ]
  },
  {
   "cell_type": "code",
   "execution_count": null,
   "metadata": {
    "collapsed": false
   },
   "outputs": [],
   "source": [
    "print(freq_words)"
   ]
  },
  {
   "cell_type": "code",
   "execution_count": null,
   "metadata": {
    "collapsed": false
   },
   "outputs": [],
   "source": [
    "voc = list\n",
    "voc = [word[0] for word in freq_words] "
   ]
  },
  {
   "cell_type": "code",
   "execution_count": null,
   "metadata": {
    "collapsed": false
   },
   "outputs": [],
   "source": [
    "print(type(voc))\n",
    "print(voc)"
   ]
  },
  {
   "cell_type": "code",
   "execution_count": null,
   "metadata": {
    "collapsed": false
   },
   "outputs": [],
   "source": [
    "vocab = {}\n",
    "\n",
    "for word in voc:\n",
    "    #print(word)\n",
    "    if word not in vocab.keys():\n",
    "        vocab.setdefault(word,-1)\n"
   ]
  },
  {
   "cell_type": "code",
   "execution_count": null,
   "metadata": {
    "collapsed": false
   },
   "outputs": [],
   "source": [
    "print(type(vocab))\n",
    "print(vocab)\n"
   ]
  },
  {
   "cell_type": "code",
   "execution_count": null,
   "metadata": {
    "collapsed": true
   },
   "outputs": [],
   "source": [
    "vocab_list = sorted(vocab.keys(), key = lambda x:x)\n",
    "#print('vocab_list = ', vocab_list)\n",
    "    \n",
    "for i,term in enumerate(vocab_list):\n",
    "    vocab[term] = i"
   ]
  },
  {
   "cell_type": "code",
   "execution_count": null,
   "metadata": {
    "collapsed": false
   },
   "outputs": [],
   "source": [
    "print(type(vocab))\n",
    "print(vocab)\n"
   ]
  },
  {
   "cell_type": "code",
   "execution_count": null,
   "metadata": {
    "collapsed": false
   },
   "outputs": [],
   "source": [
    "s[0:100]"
   ]
  },
  {
   "cell_type": "code",
   "execution_count": null,
   "metadata": {
    "collapsed": false
   },
   "outputs": [],
   "source": [
    "print(k[0:10],\"\\n\\nLength of k %s\" % len(k))"
   ]
  },
  {
   "cell_type": "code",
   "execution_count": null,
   "metadata": {
    "collapsed": true
   },
   "outputs": [],
   "source": [
    "def tokenize_string(my_string):\n",
    "    \"\"\" DONE. You should use this in your tokenize function.\n",
    "    \"\"\"\n",
    "    #return re.findall('[\\w\\-]+', my_string.lower())\n",
    "    #\\W -> Matches any non-alphanumeric character; \n",
    "    #this is equivalent to the class [^a-zA-Z0-9_]. \n",
    "       \n",
    "    word_list = re.sub('\\W+', ' ', my_string.lower()).split()\n",
    "\n",
    "    return(word_list)"
   ]
  },
  {
   "cell_type": "code",
   "execution_count": null,
   "metadata": {
    "collapsed": true
   },
   "outputs": [],
   "source": [
    "def tokenize(data):\n",
    "    \"\"\"\n",
    "    Append a new column to the movies DataFrame with header 'tokens'.\n",
    "    This will contain a list of strings, one per token, extracted\n",
    "    from the 'genre' field of each movie. Use the tokenize_string method above.\n",
    "    Note: you may modify the movies parameter directly; no need to make\n",
    "    a new copy.\n",
    "    Params:\n",
    "      movies...The movies DataFrame\n",
    "    Returns:\n",
    "      The movies DataFrame, augmented to include a new column called 'tokens'.\n",
    "    >>> movies = pd.DataFrame([[123, 'Horror|Romance'], [456, 'Sci-Fi']], columns=['movieId', 'genres'])\n",
    "    >>> movies = tokenize(movies)\n",
    "    >>> movies['tokens'].tolist()\n",
    "    [['horror', 'romance'], ['sci-fi']]\n",
    "    \"\"\"\n",
    "    ###TODO\n",
    "    \n",
    "    # step 1 -> do tokenize_string for each row in movies['genres']\n",
    "\n",
    "    all_words = []\n",
    "    for row in data['Consumer complaint narrative']:\n",
    "        #genre_list = re.sub(r'[||)|(]', r' ',row.lower()).split()\n",
    "        word_list = tokenize_string(row)\n",
    "        #print(word_list)\n",
    "        #print(len(genre_list))\n",
    "        all_words.append(word_list)\n",
    "    \n",
    "    # step 2 -> add column tokens in movies\n",
    "    array = np.array(all_words)\n",
    "    \n",
    "    #print(array[:5])\n",
    "    #print('#list = ',len(array))\n",
    "    \n",
    "    new_data = d.assign(tokens = array)\n",
    "    \n",
    "    #print(new_movies.head(5))\n",
    "    return(new_data)  \n",
    "    pass"
   ]
  },
  {
   "cell_type": "code",
   "execution_count": null,
   "metadata": {
    "collapsed": true
   },
   "outputs": [],
   "source": [
    "def featurize(data):\n",
    "    \"\"\"\n",
    "    Append a new column to the movies DataFrame with header 'features'.\n",
    "    Each row will contain a csr_matrix of shape (1, num_features). Each\n",
    "    entry in this matrix will contain the tf-idf value of the term, as\n",
    "    defined in class:\n",
    "    tfidf(i, d) := tf(i, d) / max_k tf(k, d) * log10(N/df(i))\n",
    "    where:\n",
    "    i is a term\n",
    "    d is a document (movie)\n",
    "    tf(i, d) is the frequency of term i in document d\n",
    "    max_k tf(k, d) is the maximum frequency of any term in document d\n",
    "    N is the number of documents (movies)\n",
    "    df(i) is the number of unique documents containing term i\n",
    "    Params:\n",
    "      movies...The movies DataFrame\n",
    "    Returns:\n",
    "      A tuple containing:\n",
    "      - The movies DataFrame, which has been modified to include a column named 'features'.\n",
    "      - The vocab, a dict from term to int. Make sure the vocab is sorted alphabetically as in a2 (e.g., {'aardvark': 0, 'boy': 1, ...})\n",
    "   \n",
    "    \"\"\"\n",
    "    ###TODO\n",
    "    #print(movies[:5]) \n",
    "    \n",
    "    #step 1 -> build a vocab and df(term)\n",
    "    vocab = {}\n",
    "    vocab_list = []\n",
    "    df = {}\n",
    "    \n",
    "    for row1 in data['tokens']:\n",
    "        row = list(set(row1))\n",
    "        for term in row:\n",
    "            if term not in vocab.keys():\n",
    "                vocab.setdefault(term,-1)\n",
    "             \n",
    "            if term not in df.keys(): \n",
    "                df.setdefault(term,1)\n",
    "            else :\n",
    "                df[term] += 1\n",
    "             \n",
    "             \n",
    "    #print('vocab = ', vocab)\n",
    "    \n",
    "    vocab_list = sorted(vocab.keys(), key = lambda x:x)\n",
    "    #print('vocab_list = ', vocab_list)\n",
    "    \n",
    "    for i,term in enumerate(vocab_list):\n",
    "         vocab[term] = i\n",
    "         \n",
    "    #print('Sorted vocab = ', sorted(vocab.items()))\n",
    "    #print('df = ',sorted(df.items(), key=lambda x:x[0]))\n",
    "    \n",
    "    # step 2 -> Build a csr_matrix for each row of movies['tokens']\n",
    "    N = len(data)\n",
    "    #print('N = ',N)\n",
    "    \n",
    "    #[comedy, comedy, comedy, horror]  -> max_k tf(k, d) = 3 \n",
    "    #[action, comedy,thriller] -> tf(action, d) =1\n",
    "    # df(i) ->\n",
    "    #num_features is the total number of unique features across all documents.\n",
    "    \n",
    "    csr_array =[]\n",
    "    \n",
    "    for row1 in data['tokens']:\n",
    "        csr_row = []\n",
    "        csr_col = []\n",
    "        csr_data = []\n",
    "        max_k = 0\n",
    "       \n",
    "        max_k = Counter(row1).most_common()[:1][0][1]\n",
    "        row = list(set(row1))\n",
    "\n",
    "        #print('removed duplicates =',row)\n",
    "        for term in row:       \n",
    "            csr_row.append(0)\n",
    "            csr_col.append(vocab[term])\n",
    "            #tfidf(i, d) := tf(i, d) / max_k tf(k, d) * log10(N/df(i))\n",
    "            tf = Counter(row1)[term]\n",
    "            #max_k = max_k.most_common()[:1][0][1]\n",
    "         \n",
    "            #print('term = %s ---> tf = %d ---> max_k = %d'%(term,tf,max_k))\n",
    "            tfidf = (tf / max_k) * math.log10(N/df[term])\n",
    "            csr_data.append(tfidf)\n",
    "           \n",
    "         \n",
    "        #print('csr_row = ',csr_row) \n",
    "        #print('csr_col = ',csr_col)\n",
    "        #print('csr_data=',csr_data)\n",
    "        X = csr_matrix((csr_data, (csr_row, csr_col)), shape=(1, len(vocab)), dtype=np.float64)\n",
    "       \n",
    "        #print('X ->\\n',X.toarray())\n",
    "        csr_array.append(X)\n",
    "    \n",
    "\n",
    "    # step 3 -> add column features to movies \n",
    "    #print('size of csr_array = ',len(csr_array)) \n",
    "    #print('CSR = ',csr_array[:2])  \n",
    "    new_data = data.assign(features = csr_array)\n",
    "    #print(new_movies.head(2))\n",
    "     \n",
    "    return(new_data,vocab)   \n",
    "    \n",
    "    pass"
   ]
  },
  {
   "cell_type": "code",
   "execution_count": null,
   "metadata": {
    "collapsed": true
   },
   "outputs": [],
   "source": [
    "d1 = d[1:100]"
   ]
  },
  {
   "cell_type": "code",
   "execution_count": null,
   "metadata": {
    "collapsed": false
   },
   "outputs": [
    {
     "ename": "ValueError",
     "evalue": "Length of values does not match length of index",
     "output_type": "error",
     "traceback": [
      "\u001b[0;31m---------------------------------------------------------------------------\u001b[0m",
      "\u001b[0;31mValueError\u001b[0m                                Traceback (most recent call last)",
      "\u001b[0;32m<ipython-input-51-ad2e0d90d66f>\u001b[0m in \u001b[0;36m<module>\u001b[0;34m()\u001b[0m\n\u001b[0;32m----> 1\u001b[0;31m \u001b[0mdata\u001b[0m \u001b[1;33m=\u001b[0m \u001b[0mtokenize\u001b[0m\u001b[1;33m(\u001b[0m\u001b[0md1\u001b[0m\u001b[1;33m)\u001b[0m\u001b[1;33m\u001b[0m\u001b[0m\n\u001b[0m",
      "\u001b[0;32m<ipython-input-48-c66f5be2885e>\u001b[0m in \u001b[0;36mtokenize\u001b[0;34m(data)\u001b[0m\n\u001b[1;32m     33\u001b[0m     \u001b[1;31m#print('#list = ',len(array))\u001b[0m\u001b[1;33m\u001b[0m\u001b[1;33m\u001b[0m\u001b[0m\n\u001b[1;32m     34\u001b[0m \u001b[1;33m\u001b[0m\u001b[0m\n\u001b[0;32m---> 35\u001b[0;31m     \u001b[0mnew_data\u001b[0m \u001b[1;33m=\u001b[0m \u001b[0md\u001b[0m\u001b[1;33m.\u001b[0m\u001b[0massign\u001b[0m\u001b[1;33m(\u001b[0m\u001b[0mtokens\u001b[0m \u001b[1;33m=\u001b[0m \u001b[0marray\u001b[0m\u001b[1;33m)\u001b[0m\u001b[1;33m\u001b[0m\u001b[0m\n\u001b[0m\u001b[1;32m     36\u001b[0m \u001b[1;33m\u001b[0m\u001b[0m\n\u001b[1;32m     37\u001b[0m     \u001b[1;31m#print(new_movies.head(5))\u001b[0m\u001b[1;33m\u001b[0m\u001b[1;33m\u001b[0m\u001b[0m\n",
      "\u001b[0;32mC:\\Users\\Swapnil\\Anaconda3\\lib\\site-packages\\pandas\\core\\frame.py\u001b[0m in \u001b[0;36massign\u001b[0;34m(self, **kwargs)\u001b[0m\n\u001b[1;32m   2525\u001b[0m         \u001b[1;31m# ... and then assign\u001b[0m\u001b[1;33m\u001b[0m\u001b[1;33m\u001b[0m\u001b[0m\n\u001b[1;32m   2526\u001b[0m         \u001b[1;32mfor\u001b[0m \u001b[0mk\u001b[0m\u001b[1;33m,\u001b[0m \u001b[0mv\u001b[0m \u001b[1;32min\u001b[0m \u001b[0msorted\u001b[0m\u001b[1;33m(\u001b[0m\u001b[0mresults\u001b[0m\u001b[1;33m.\u001b[0m\u001b[0mitems\u001b[0m\u001b[1;33m(\u001b[0m\u001b[1;33m)\u001b[0m\u001b[1;33m)\u001b[0m\u001b[1;33m:\u001b[0m\u001b[1;33m\u001b[0m\u001b[0m\n\u001b[0;32m-> 2527\u001b[0;31m             \u001b[0mdata\u001b[0m\u001b[1;33m[\u001b[0m\u001b[0mk\u001b[0m\u001b[1;33m]\u001b[0m \u001b[1;33m=\u001b[0m \u001b[0mv\u001b[0m\u001b[1;33m\u001b[0m\u001b[0m\n\u001b[0m\u001b[1;32m   2528\u001b[0m \u001b[1;33m\u001b[0m\u001b[0m\n\u001b[1;32m   2529\u001b[0m         \u001b[1;32mreturn\u001b[0m \u001b[0mdata\u001b[0m\u001b[1;33m\u001b[0m\u001b[0m\n",
      "\u001b[0;32mC:\\Users\\Swapnil\\Anaconda3\\lib\\site-packages\\pandas\\core\\frame.py\u001b[0m in \u001b[0;36m__setitem__\u001b[0;34m(self, key, value)\u001b[0m\n\u001b[1;32m   2355\u001b[0m         \u001b[1;32melse\u001b[0m\u001b[1;33m:\u001b[0m\u001b[1;33m\u001b[0m\u001b[0m\n\u001b[1;32m   2356\u001b[0m             \u001b[1;31m# set column\u001b[0m\u001b[1;33m\u001b[0m\u001b[1;33m\u001b[0m\u001b[0m\n\u001b[0;32m-> 2357\u001b[0;31m             \u001b[0mself\u001b[0m\u001b[1;33m.\u001b[0m\u001b[0m_set_item\u001b[0m\u001b[1;33m(\u001b[0m\u001b[0mkey\u001b[0m\u001b[1;33m,\u001b[0m \u001b[0mvalue\u001b[0m\u001b[1;33m)\u001b[0m\u001b[1;33m\u001b[0m\u001b[0m\n\u001b[0m\u001b[1;32m   2358\u001b[0m \u001b[1;33m\u001b[0m\u001b[0m\n\u001b[1;32m   2359\u001b[0m     \u001b[1;32mdef\u001b[0m \u001b[0m_setitem_slice\u001b[0m\u001b[1;33m(\u001b[0m\u001b[0mself\u001b[0m\u001b[1;33m,\u001b[0m \u001b[0mkey\u001b[0m\u001b[1;33m,\u001b[0m \u001b[0mvalue\u001b[0m\u001b[1;33m)\u001b[0m\u001b[1;33m:\u001b[0m\u001b[1;33m\u001b[0m\u001b[0m\n",
      "\u001b[0;32mC:\\Users\\Swapnil\\Anaconda3\\lib\\site-packages\\pandas\\core\\frame.py\u001b[0m in \u001b[0;36m_set_item\u001b[0;34m(self, key, value)\u001b[0m\n\u001b[1;32m   2421\u001b[0m \u001b[1;33m\u001b[0m\u001b[0m\n\u001b[1;32m   2422\u001b[0m         \u001b[0mself\u001b[0m\u001b[1;33m.\u001b[0m\u001b[0m_ensure_valid_index\u001b[0m\u001b[1;33m(\u001b[0m\u001b[0mvalue\u001b[0m\u001b[1;33m)\u001b[0m\u001b[1;33m\u001b[0m\u001b[0m\n\u001b[0;32m-> 2423\u001b[0;31m         \u001b[0mvalue\u001b[0m \u001b[1;33m=\u001b[0m \u001b[0mself\u001b[0m\u001b[1;33m.\u001b[0m\u001b[0m_sanitize_column\u001b[0m\u001b[1;33m(\u001b[0m\u001b[0mkey\u001b[0m\u001b[1;33m,\u001b[0m \u001b[0mvalue\u001b[0m\u001b[1;33m)\u001b[0m\u001b[1;33m\u001b[0m\u001b[0m\n\u001b[0m\u001b[1;32m   2424\u001b[0m         \u001b[0mNDFrame\u001b[0m\u001b[1;33m.\u001b[0m\u001b[0m_set_item\u001b[0m\u001b[1;33m(\u001b[0m\u001b[0mself\u001b[0m\u001b[1;33m,\u001b[0m \u001b[0mkey\u001b[0m\u001b[1;33m,\u001b[0m \u001b[0mvalue\u001b[0m\u001b[1;33m)\u001b[0m\u001b[1;33m\u001b[0m\u001b[0m\n\u001b[1;32m   2425\u001b[0m \u001b[1;33m\u001b[0m\u001b[0m\n",
      "\u001b[0;32mC:\\Users\\Swapnil\\Anaconda3\\lib\\site-packages\\pandas\\core\\frame.py\u001b[0m in \u001b[0;36m_sanitize_column\u001b[0;34m(self, key, value)\u001b[0m\n\u001b[1;32m   2576\u001b[0m \u001b[1;33m\u001b[0m\u001b[0m\n\u001b[1;32m   2577\u001b[0m             \u001b[1;31m# turn me into an ndarray\u001b[0m\u001b[1;33m\u001b[0m\u001b[1;33m\u001b[0m\u001b[0m\n\u001b[0;32m-> 2578\u001b[0;31m             \u001b[0mvalue\u001b[0m \u001b[1;33m=\u001b[0m \u001b[0m_sanitize_index\u001b[0m\u001b[1;33m(\u001b[0m\u001b[0mvalue\u001b[0m\u001b[1;33m,\u001b[0m \u001b[0mself\u001b[0m\u001b[1;33m.\u001b[0m\u001b[0mindex\u001b[0m\u001b[1;33m,\u001b[0m \u001b[0mcopy\u001b[0m\u001b[1;33m=\u001b[0m\u001b[1;32mFalse\u001b[0m\u001b[1;33m)\u001b[0m\u001b[1;33m\u001b[0m\u001b[0m\n\u001b[0m\u001b[1;32m   2579\u001b[0m             \u001b[1;32mif\u001b[0m \u001b[1;32mnot\u001b[0m \u001b[0misinstance\u001b[0m\u001b[1;33m(\u001b[0m\u001b[0mvalue\u001b[0m\u001b[1;33m,\u001b[0m \u001b[1;33m(\u001b[0m\u001b[0mnp\u001b[0m\u001b[1;33m.\u001b[0m\u001b[0mndarray\u001b[0m\u001b[1;33m,\u001b[0m \u001b[0mIndex\u001b[0m\u001b[1;33m)\u001b[0m\u001b[1;33m)\u001b[0m\u001b[1;33m:\u001b[0m\u001b[1;33m\u001b[0m\u001b[0m\n\u001b[1;32m   2580\u001b[0m                 \u001b[1;32mif\u001b[0m \u001b[0misinstance\u001b[0m\u001b[1;33m(\u001b[0m\u001b[0mvalue\u001b[0m\u001b[1;33m,\u001b[0m \u001b[0mlist\u001b[0m\u001b[1;33m)\u001b[0m \u001b[1;32mand\u001b[0m \u001b[0mlen\u001b[0m\u001b[1;33m(\u001b[0m\u001b[0mvalue\u001b[0m\u001b[1;33m)\u001b[0m \u001b[1;33m>\u001b[0m \u001b[1;36m0\u001b[0m\u001b[1;33m:\u001b[0m\u001b[1;33m\u001b[0m\u001b[0m\n",
      "\u001b[0;32mC:\\Users\\Swapnil\\Anaconda3\\lib\\site-packages\\pandas\\core\\series.py\u001b[0m in \u001b[0;36m_sanitize_index\u001b[0;34m(data, index, copy)\u001b[0m\n\u001b[1;32m   2768\u001b[0m \u001b[1;33m\u001b[0m\u001b[0m\n\u001b[1;32m   2769\u001b[0m     \u001b[1;32mif\u001b[0m \u001b[0mlen\u001b[0m\u001b[1;33m(\u001b[0m\u001b[0mdata\u001b[0m\u001b[1;33m)\u001b[0m \u001b[1;33m!=\u001b[0m \u001b[0mlen\u001b[0m\u001b[1;33m(\u001b[0m\u001b[0mindex\u001b[0m\u001b[1;33m)\u001b[0m\u001b[1;33m:\u001b[0m\u001b[1;33m\u001b[0m\u001b[0m\n\u001b[0;32m-> 2770\u001b[0;31m         \u001b[1;32mraise\u001b[0m \u001b[0mValueError\u001b[0m\u001b[1;33m(\u001b[0m\u001b[1;34m'Length of values does not match length of '\u001b[0m \u001b[1;34m'index'\u001b[0m\u001b[1;33m)\u001b[0m\u001b[1;33m\u001b[0m\u001b[0m\n\u001b[0m\u001b[1;32m   2771\u001b[0m \u001b[1;33m\u001b[0m\u001b[0m\n\u001b[1;32m   2772\u001b[0m     \u001b[1;32mif\u001b[0m \u001b[0misinstance\u001b[0m\u001b[1;33m(\u001b[0m\u001b[0mdata\u001b[0m\u001b[1;33m,\u001b[0m \u001b[0mPeriodIndex\u001b[0m\u001b[1;33m)\u001b[0m\u001b[1;33m:\u001b[0m\u001b[1;33m\u001b[0m\u001b[0m\n",
      "\u001b[0;31mValueError\u001b[0m: Length of values does not match length of index"
     ]
    }
   ],
   "source": [
    "data = tokenize(d1)"
   ]
  },
  {
   "cell_type": "code",
   "execution_count": null,
   "metadata": {
    "collapsed": false
   },
   "outputs": [],
   "source": [
    "data, vocab = featurize(data)"
   ]
  },
  {
   "cell_type": "code",
   "execution_count": null,
   "metadata": {
    "collapsed": false
   },
   "outputs": [],
   "source": [
    "print('vocab:')\n",
    "print(sorted(vocab.items())[:1000])"
   ]
  },
  {
   "cell_type": "code",
   "execution_count": null,
   "metadata": {
    "collapsed": false
   },
   "outputs": [],
   "source": [
    "print(len(vocab))"
   ]
  },
  {
   "cell_type": "code",
   "execution_count": null,
   "metadata": {
    "collapsed": true
   },
   "outputs": [],
   "source": []
  }
 ],
 "metadata": {
  "anaconda-cloud": {},
  "kernelspec": {
   "display_name": "Python [Root]",
   "language": "python",
   "name": "Python [Root]"
  },
  "language_info": {
   "codemirror_mode": {
    "name": "ipython",
    "version": 3
   },
   "file_extension": ".py",
   "mimetype": "text/x-python",
   "name": "python",
   "nbconvert_exporter": "python",
   "pygments_lexer": "ipython3",
   "version": "3.5.2"
  }
 },
 "nbformat": 4,
 "nbformat_minor": 0
}
