{
 "cells": [
  {
   "cell_type": "code",
   "execution_count": 1,
   "metadata": {
    "collapsed": true
   },
   "outputs": [],
   "source": [
    "#importing packages\n",
    "from collections import Counter, defaultdict\n",
    "import math\n",
    "import numpy as np\n",
    "import os\n",
    "import pandas as pd\n",
    "import re\n",
    "from scipy.sparse import csr_matrix\n",
    "#import urllib.request\n",
    "#import zipfile\n",
    "\n",
    "# Use nltk for valid words\n",
    "import nltk\n",
    "# Need to make hash 'dictionaries' from nltk for fast processing\n",
    "import collections as co\n"
   ]
  },
  {
   "cell_type": "code",
   "execution_count": 2,
   "metadata": {
    "collapsed": false
   },
   "outputs": [
    {
     "name": "stderr",
     "output_type": "stream",
     "text": [
      "C:\\Users\\Swapnil\\Anaconda3\\lib\\site-packages\\IPython\\core\\interactiveshell.py:2717: DtypeWarning: Columns (5,11) have mixed types. Specify dtype option on import or set low_memory=False.\n",
      "  interactivity=interactivity, compiler=compiler, result=result)\n"
     ]
    }
   ],
   "source": [
    "# Read the input\n",
    "d = pd.read_csv(\"F:\\IITC\\ADM\\Extra\\consumer_complaints.csv\") # the consumer dataset is now a Pandas DataFrame\n",
    "# Only interested in data with consumer complaints\n",
    "d = d[d['Consumer complaint narrative'].notnull()]"
   ]
  },
  {
   "cell_type": "code",
   "execution_count": 3,
   "metadata": {
    "collapsed": false
   },
   "outputs": [
    {
     "name": "stdout",
     "output_type": "stream",
     "text": [
      "56777     Received Capital One charge card offer XXXX. A...\n",
      "56834     I do n't know how they got my cell number. I t...\n",
      "56884     I 'm a longtime member of Charter One Bank/RBS...\n",
      "56894     After looking at my credit report, I saw a col...\n",
      "56898     I received a call from a XXXX XXXX from XXXX @...\n",
      "56910     Was not contacted 4 years later about some pri...\n",
      "56911     Collection Consultants is reporting a collecti...\n",
      "56914     I had my purse stolen in 2007. They never foun...\n",
      "56917     I attempted to apply for a Discover Card Onlin...\n",
      "56918     Continued attempts by XXXX XXXX XXXX to collec...\n",
      "56920     This is a continuation of a previous issue wit...\n",
      "56928     Going through a divorce, my ex and I were unab...\n",
      "56930     I am assisted with my mortgage through an agen...\n",
      "56939     i submitted a payment on XXXX XXXX 2015 for my...\n",
      "56940     I recieved a notice from Midland Credit Manage...\n",
      "56956     XXXX Card services was bought out by Capital O...\n",
      "56965     I was reported late by Discover Card to the re...\n",
      "56982     XXXX i receive an email from citibank regardin...\n",
      "56983     I agreed to a settlement arrangement on a acco...\n",
      "56985     Green Tree Financial somehow got XXXX Loan AFT...\n",
      "56989     I took out a Loan from Cash Central XXXX, Al f...\n",
      "56990     I filed ChapterXXXX bankruptcy on my accounts ...\n",
      "56995     To whom it may concern, To those that follow t...\n",
      "56996     I 'm no longer an account holder of SunTrust. ...\n",
      "57004     I 've been receiving numerous robocalls, hang-...\n",
      "57007     My mortgage servicer, Wells Fargo, did not giv...\n",
      "57012     Please investigate the practices of Experian. ...\n",
      "57014     Portfolio Recovery does not disclose who is ca...\n",
      "57022     After banking with Citibank for over 3 years, ...\n",
      "57023     I am a victim of a parked debt bought by a deb...\n",
      "                                ...                        \n",
      "669665    There was an account opened with XXXX I have n...\n",
      "669670    Fastunsecured.com submitted my information to ...\n",
      "669675    Green Tree Servicing failed to honor my perman...\n",
      "669685    Opened checking account with valid funds. Remo...\n",
      "669693    Disputed the XXXX bankruptcies showing on my r...\n",
      "669694    I was evaluating Wells Fargo Home Mortgage to ...\n",
      "669702    I have sent Equifax several letters over 3 mon...\n",
      "669715    We have a mortgage with Loan Care, a XXXX Comp...\n",
      "669716    Ditech Financial has misapplied payments we ha...\n",
      "669721    I 'm XXXX, disalbled, after an accident at wor...\n",
      "669723    Fedloan Servicing, a Department of Education S...\n",
      "669727    We went to refinance with another company due ...\n",
      "669730    I have asked 21st Century Mortgage twice to st...\n",
      "669731    I purchased a timeshare and in 2012 defaulted ...\n",
      "669732    Edward Jones XXXX billed my account for {$440....\n",
      "669739    On XX/XX/2016 I made a deposit of {$900.00} vi...\n",
      "669742    I closed my savings and checking account at Ke...\n",
      "669743    I have sent letters to the credit bureaus as w...\n",
      "669746    On XXXX XXXX, 2016, I sent a letter to the cre...\n",
      "669748    I was a victim of identity theft and noticed a...\n",
      "669749    American Express has charged me an annual fee ...\n",
      "669754    PNC Mortgage charged me {$650.00} for an appra...\n",
      "669758    I have been working with clients for 8 months,...\n",
      "669759    I have a loan through first national bank of o...\n",
      "669761    Chase put a negative account on my credit file...\n",
      "669763    My mortgage company has tried twice now to add...\n",
      "669769    This is an additional complaint to the previou...\n",
      "669771    I have been a customer with Capitalone for ove...\n",
      "669772    I am paying off my loan by making largish paym...\n",
      "669776    I have been in a battle to make mortgage payme...\n",
      "Name: Consumer complaint narrative, dtype: object\n"
     ]
    }
   ],
   "source": [
    "print(d['Consumer complaint narrative'])"
   ]
  },
  {
   "cell_type": "code",
   "execution_count": 4,
   "metadata": {
    "collapsed": false
   },
   "outputs": [
    {
     "name": "stdout",
     "output_type": "stream",
     "text": [
      "      Date received           Product                            Sub-product  \\\n",
      "56834     3/23/2015   Debt collection  Other (i.e. phone, health club, etc.)   \n",
      "56884     3/23/2015       Credit card                                    NaN   \n",
      "56894     3/23/2015  Credit reporting                                    NaN   \n",
      "56898     3/23/2015   Debt collection                            Payday loan   \n",
      "\n",
      "                                        Issue  \\\n",
      "56834     Improper contact or sharing of info   \n",
      "56884                                 Rewards   \n",
      "56894  Incorrect information on credit report   \n",
      "56898     Improper contact or sharing of info   \n",
      "\n",
      "                                   Sub-issue  \\\n",
      "56834      Contacted me after I asked not to   \n",
      "56884                                    NaN   \n",
      "56894                Information is not mine   \n",
      "56898  Talked to a third party about my debt   \n",
      "\n",
      "                            Consumer complaint narrative  \\\n",
      "56834  I do n't know how they got my cell number. I t...   \n",
      "56884  I 'm a longtime member of Charter One Bank/RBS...   \n",
      "56894  After looking at my credit report, I saw a col...   \n",
      "56898  I received a call from a XXXX XXXX from XXXX @...   \n",
      "\n",
      "                                Company public response  \\\n",
      "56834                                               NaN   \n",
      "56884                                               NaN   \n",
      "56894  Company chooses not to provide a public response   \n",
      "56898                                               NaN   \n",
      "\n",
      "                              Company State ZIP code Tags  \\\n",
      "56834    CCS Financial Services, Inc.    AR    727XX  NaN   \n",
      "56884  Citizens Financial Group, Inc.    MI    482XX  NaN   \n",
      "56894                        Experian    FL    331XX  NaN   \n",
      "56898          Big Picture Loans, LLC    SC    291XX  NaN   \n",
      "\n",
      "      Consumer consent provided? Submitted via Date sent to company  \\\n",
      "56834           Consent provided           Web            3/23/2015   \n",
      "56884           Consent provided           Web            3/23/2015   \n",
      "56894           Consent provided           Web            3/27/2015   \n",
      "56898           Consent provided           Web            3/23/2015   \n",
      "\n",
      "          Company response to consumer Timely response? Consumer disputed?  \\\n",
      "56834          Closed with explanation              Yes                 No   \n",
      "56884          Closed with explanation              Yes                Yes   \n",
      "56894  Closed with non-monetary relief              Yes                 No   \n",
      "56898          Closed with explanation              Yes                 No   \n",
      "\n",
      "       Complaint ID  \n",
      "56834     1296593.0  \n",
      "56884     1296693.0  \n",
      "56894     1296955.0  \n",
      "56898     1296727.0  \n"
     ]
    }
   ],
   "source": [
    "print(d[1:5])"
   ]
  },
  {
   "cell_type": "code",
   "execution_count": 42,
   "metadata": {
    "collapsed": true
   },
   "outputs": [],
   "source": [
    "def tokenize_string(my_string):\n",
    "    \"\"\" DONE. You should use this in your tokenize function.\n",
    "    \"\"\"\n",
    "    #return re.findall('[\\w\\-]+', my_string.lower())\n",
    "    #\\W -> Matches any non-alphanumeric character; \n",
    "    #this is equivalent to the class [^a-zA-Z0-9_]. \n",
    "      \n",
    "    # preprocessing ->\n",
    "    # remove numbers    \n",
    "    word_list = re.sub('[^a-zA-Z]+', ' ', my_string.lower()).split()\n",
    "    \n",
    "   \n",
    "    # remove stop words\n",
    "    stopWords = co.Counter( nltk.corpus.stopwords.words() )\n",
    "\n",
    "    #print(stopWords)\n",
    "    \n",
    "    clean_word_list = [x for x in word_list if x not in stopWords]\n",
    "    \n",
    "    #print(clean_word_list)\n",
    "    \n",
    "    \n",
    "    # remove small and large words\n",
    "   \n",
    "    word_list = [x for x in clean_word_list if len(x) > 4 and len(x) < 15 ]\n",
    "    \n",
    "    \n",
    "    # remove xxxx\n",
    "    \n",
    "    clean_word_list = [x for x in word_list if \"xxxx\" not in x ]\n",
    "   \n",
    "    # remove too low and too high frequency words -> we can't calculate here\n",
    "\n",
    "    \n",
    "    \n",
    "    return(clean_word_list)"
   ]
  },
  {
   "cell_type": "code",
   "execution_count": 18,
   "metadata": {
    "collapsed": true
   },
   "outputs": [],
   "source": [
    "def tokenize(data):\n",
    "    \"\"\"\n",
    "    Append a new column to the movies DataFrame with header 'tokens'.\n",
    "    This will contain a list of strings, one per token, extracted\n",
    "    from the 'genre' field of each movie. Use the tokenize_string method above.\n",
    "    Note: you may modify the movies parameter directly; no need to make\n",
    "    a new copy.\n",
    "    Params:\n",
    "      movies...The movies DataFrame\n",
    "    Returns:\n",
    "      The movies DataFrame, augmented to include a new column called 'tokens'.\n",
    "    >>> movies = pd.DataFrame([[123, 'Horror|Romance'], [456, 'Sci-Fi']], columns=['movieId', 'genres'])\n",
    "    >>> movies = tokenize(movies)\n",
    "    >>> movies['tokens'].tolist()\n",
    "    [['horror', 'romance'], ['sci-fi']]\n",
    "    \"\"\"\n",
    "    ###TODO\n",
    "    \n",
    "    # step 1 -> do tokenize_string for each row in movies['genres']\n",
    "\n",
    "    all_words = []\n",
    "    for row in data['Consumer complaint narrative']:\n",
    "        #genre_list = re.sub(r'[||)|(]', r' ',row.lower()).split()\n",
    "        word_list = tokenize_string(row)\n",
    "        #print(word_list)\n",
    "        #print(len(genre_list))\n",
    "        all_words.append(word_list)\n",
    "    \n",
    "    # step 2 -> add column tokens in movies\n",
    "    array = np.array(all_words)\n",
    "    \n",
    "    #print(array[:5])\n",
    "    #print('#list = ',len(array))\n",
    "    \n",
    "    new_data = d.assign(tokens = array)\n",
    "    \n",
    "    #print(new_movies.head(5))\n",
    "    return(new_data)  \n",
    "    pass"
   ]
  },
  {
   "cell_type": "code",
   "execution_count": 38,
   "metadata": {
    "collapsed": false
   },
   "outputs": [],
   "source": [
    "def featurize(data):\n",
    "    \"\"\"\n",
    "    Append a new column to the movies DataFrame with header 'features'.\n",
    "    Each row will contain a csr_matrix of shape (1, num_features). Each\n",
    "    entry in this matrix will contain the tf-idf value of the term, as\n",
    "    defined in class:\n",
    "    tfidf(i, d) := tf(i, d) / max_k tf(k, d) * log10(N/df(i))\n",
    "    where:\n",
    "    i is a term\n",
    "    d is a document (movie)\n",
    "    tf(i, d) is the frequency of term i in document d\n",
    "    max_k tf(k, d) is the maximum frequency of any term in document d\n",
    "    N is the number of documents (movies)\n",
    "    df(i) is the number of unique documents containing term i\n",
    "    Params:\n",
    "      movies...The movies DataFrame\n",
    "    Returns:\n",
    "      A tuple containing:\n",
    "      - The movies DataFrame, which has been modified to include a column named 'features'.\n",
    "      - The vocab, a dict from term to int. Make sure the vocab is sorted alphabetically as in a2 (e.g., {'aardvark': 0, 'boy': 1, ...})\n",
    "   \n",
    "    \"\"\"\n",
    "    ###TODO\n",
    "    #print(movies[:5]) \n",
    "    \n",
    "    #step 1 -> build a vocab and df(term)\n",
    "    vocab = {}\n",
    "    vocab_list = []\n",
    "    df = {}\n",
    "    \n",
    "    for row1 in data['tokens']:\n",
    "        row = list(set(row1))\n",
    "        for term in row:\n",
    "            if term not in vocab.keys():\n",
    "                vocab.setdefault(term,-1)\n",
    "             \n",
    "            if term not in df.keys(): \n",
    "                df.setdefault(term,1)\n",
    "            else :\n",
    "                df[term] += 1\n",
    "             \n",
    "             \n",
    "    #print('vocab = ', vocab)\n",
    "    \n",
    "    vocab_list = sorted(vocab.keys(), key = lambda x:x)\n",
    "    #print('vocab_list = ', vocab_list)\n",
    "    \n",
    "    for i,term in enumerate(vocab_list):\n",
    "         vocab[term] = i\n",
    "            \n",
    "    #        \n",
    "         \n",
    "    #print('Sorted vocab = ', sorted(vocab.items()))\n",
    "    #print('df = ',sorted(df.items(), key=lambda x:x[0]))\n",
    "    \n",
    "    # step 2 -> Build a csr_matrix for each row of movies['tokens']\n",
    "    N = len(data)\n",
    "    #print('N = ',N)\n",
    "    \n",
    "    #[comedy, comedy, comedy, horror]  -> max_k tf(k, d) = 3 \n",
    "    #[action, comedy,thriller] -> tf(action, d) =1\n",
    "    # df(i) ->\n",
    "    #num_features is the total number of unique features across all documents.\n",
    "    \n",
    "    csr_array =[]\n",
    "    \n",
    "    for row1 in data['tokens']:\n",
    "        csr_row = []\n",
    "        csr_col = []\n",
    "        csr_data = []\n",
    "        max_k = 0\n",
    "       \n",
    "        #print(row1)\n",
    "        \n",
    "        if row1 != []:\n",
    "            max_k = Counter(row1).most_common()[:1][0][1]\n",
    "            row = list(set(row1))\n",
    "\n",
    "            #print(max_k)\n",
    "\n",
    "            #print('removed duplicates =',row)\n",
    "            for term in row:       \n",
    "                csr_row.append(0)\n",
    "                csr_col.append(vocab[term])\n",
    "                #tfidf(i, d) := tf(i, d) / max_k tf(k, d) * log10(N/df(i))\n",
    "                tf = Counter(row1)[term]\n",
    "                #max_k = max_k.most_common()[:1][0][1]\n",
    "         \n",
    "                #print('term = %s ---> tf = %d ---> max_k = %d'%(term,tf,max_k))\n",
    "                tfidf = (tf / max_k) * math.log10(N/df[term])\n",
    "                csr_data.append(tfidf)\n",
    "           \n",
    "\n",
    "         \n",
    "        X = csr_matrix((csr_data, (csr_row, csr_col)), shape=(1, len(vocab)), dtype=np.float64)\n",
    "       \n",
    "        #print('X ->\\n',X.toarray())\n",
    "        csr_array.append(X)\n",
    "    \n",
    "\n",
    "    # step 3 -> add column features to movies \n",
    "    #print('size of csr_array = ',len(csr_array)) \n",
    "    #print('CSR = ',csr_array[:2])  \n",
    "    new_data = data.assign(features = csr_array)\n",
    "    #print(new_movies.head(2))\n",
    "     \n",
    "    return(new_data,vocab)   \n",
    "    \n",
    "    pass"
   ]
  },
  {
   "cell_type": "code",
   "execution_count": 8,
   "metadata": {
    "collapsed": false
   },
   "outputs": [],
   "source": [
    "data = tokenize(d)"
   ]
  },
  {
   "cell_type": "code",
   "execution_count": 12,
   "metadata": {
    "collapsed": false
   },
   "outputs": [
    {
     "name": "stdout",
     "output_type": "stream",
     "text": [
      "56834    [know, got, cell, number, told, would, deal, o...\n",
      "56884    [longtime, member, charter, one, bank, rbs, ci...\n",
      "56894    [looking, credit, report, saw, collection, acc...\n",
      "56898    [received, call, xxxx, xxxx, xxxx, xxxx, ext, ...\n",
      "Name: tokens, dtype: object\n"
     ]
    }
   ],
   "source": [
    "print(data['tokens'][1:5])"
   ]
  },
  {
   "cell_type": "code",
   "execution_count": 39,
   "metadata": {
    "collapsed": false
   },
   "outputs": [],
   "source": [
    "data, vocab = featurize(data)"
   ]
  },
  {
   "cell_type": "code",
   "execution_count": 40,
   "metadata": {
    "collapsed": false
   },
   "outputs": [
    {
     "name": "stdout",
     "output_type": "stream",
     "text": [
      "vocab:\n",
      "[('aa', 0), ('aaa', 1), ('aaaa', 2), ('aaaaan', 3), ('aaaaargh', 4), ('aaadvantage', 5), ('aaaked', 6), ('aaarm', 7), ('aab', 8), ('aac', 9), ('aacceptance', 10), ('aaccount', 11), ('aaccounts', 12), ('aacount', 13), ('aadavantage', 14), ('aaddress', 15), ('aadhar', 16), ('aadvantage', 17), ('aadvatage', 18), ('aafes', 19), ('aafraid', 20), ('aag', 21), ('aagain', 22), ('aagainst', 23), ('aagon', 24), ('aaii', 25), ('aaliant', 26), ('aallc', 27), ('aallcdelete', 28), ('aalthough', 29), ('aamco', 30), ('aamerican', 31), ('aams', 32), ('aand', 33), ('aapproved', 34), ('aapproximatly', 35), ('aaproximately', 36), ('aarea', 37), ('aargon', 38), ('aarmr', 39), ('aaron', 40), ('aarons', 41), ('aaround', 42), ('aarp', 43), ('aarrearge', 44), ('aas', 45), ('aasigned', 46), ('aasked', 47), ('aasking', 48), ('aastra', 49), ('aat', 50), ('aatached', 51), ('aattempting', 52), ('aaudulent', 53), ('aavantage', 54), ('aavings', 55), ('ab', 56), ('aba', 57), ('aback', 58), ('abad', 59), ('abailable', 60), ('abalance', 61), ('aballished', 62), ('abandament', 63), ('abanding', 64), ('abandment', 65), ('abandoment', 66), ('abandon', 67), ('abandonded', 68), ('abandoned', 69), ('abandoning', 70), ('abandonment', 71), ('abandons', 72), ('abank', 73), ('abankruptcy', 74), ('abate', 75), ('abated', 76), ('abatement', 77), ('abatements', 78), ('abating', 79), ('abberation', 80), ('abbott', 81), ('abbout', 82), ('abbreviated', 83), ('abbreviation', 84), ('abbreviations', 85), ('abc', 86), ('abd', 87), ('abdense', 88), ('abdication', 89), ('abduction', 90), ('abe', 91), ('abel', 92), ('abendroth', 93), ('aberrant', 94), ('aberration', 95), ('abet', 96), ('abetted', 97), ('abetting', 98), ('abeyance', 99), ('abhorrent', 100), ('abhorrently', 101), ('abhorring', 102), ('abide', 103), ('abided', 104), ('abides', 105), ('abiding', 106), ('abie', 107), ('abiiity', 108), ('abilility', 109), ('abilities', 110), ('ability', 111), ('abilityto', 112), ('abill', 113), ('abillionaire', 114), ('abiltiy', 115), ('abin', 116), ('abit', 117), ('abject', 118), ('abjection', 119), ('abjectly', 120), ('abjured', 121), ('able', 122), ('abled', 123), ('ablet', 124), ('ableto', 125), ('abletowork', 126), ('ablexxxx', 127), ('ablifgation', 128), ('ablity', 129), ('ablove', 130), ('ablsolutely', 131), ('abm', 132), ('abnb', 133), ('abnegates', 134), ('abnk', 135), ('abnormal', 136), ('abnormality', 137), ('abnormally', 138), ('abnove', 139), ('abnoxious', 140), ('aboa', 141), ('aboard', 142), ('abode', 143), ('aboit', 144), ('abolish', 145), ('abolished', 146), ('abolity', 147), ('abominable', 148), ('abominably', 149), ('abomination', 150), ('abondoned', 151), ('aboout', 152), ('abor', 153), ('abort', 154), ('aborted', 155), ('abortive', 156), ('aboslutely', 157), ('aboth', 158), ('abother', 159), ('abou', 160), ('abound', 161), ('abounded', 162), ('abount', 163), ('abour', 164), ('abouta', 165), ('aboutitems', 166), ('aboutme', 167), ('aboutmy', 168), ('aboutpfc', 169), ('abouts', 170), ('aboutthe', 171), ('aboutthis', 172), ('aboutwhat', 173), ('aboutwhere', 174), ('aboutxx', 175), ('aboutxxxx', 176), ('aboutxxxxxxxx', 177), ('abouty', 178), ('abouv', 179), ('abov', 180), ('aboveboard', 181), ('aboved', 182), ('abovementioned', 183), ('abovemy', 184), ('abover', 185), ('aboveviolations', 186), ('abovewhat', 187), ('aboveyour', 188), ('aboy', 189), ('abpps', 190), ('abrahamsen', 191), ('abrasive', 192), ('abrasiveness', 193), ('abreast', 194), ('abridge', 195), ('abridged', 196), ('abroad', 197), ('abrogate', 198), ('abrogated', 199), ('abrogation', 200), ('abrubtly', 201), ('abrupt', 202), ('abruptly', 203), ('abs', 204), ('absand', 205), ('abscences', 206), ('abscessed', 207), ('abscond', 208), ('absconded', 209), ('absconds', 210), ('absence', 211), ('absences', 212), ('absense', 213), ('absent', 214), ('absentee', 215), ('absentmindedly', 216), ('absents', 217), ('absloutely', 218), ('absolute', 219), ('absolutely', 220), ('absolution', 221), ('absolutley', 222), ('absolutly', 223), ('absolve', 224), ('absolved', 225), ('absolves', 226), ('absolving', 227), ('absorb', 228), ('absorbance', 229), ('absorbant', 230), ('absorbed', 231), ('absorbeda', 232), ('absorbent', 233), ('absorbers', 234), ('absorbing', 235), ('absorbs', 236), ('absorve', 237), ('absoulutely', 238), ('absoutely', 239), ('abstain', 240), ('abstaining', 241), ('abstract', 242), ('abstractor', 243), ('abstracts', 244), ('absuive', 245), ('absurb', 246), ('absurbed', 247), ('absurd', 248), ('absurdity', 249), ('absurdly', 250), ('abt', 251), ('abts', 252), ('abu', 253), ('abundance', 254), ('abundant', 255), ('abundantky', 256), ('abundantly', 257), ('abuse', 258), ('abused', 259), ('abuser', 260), ('abusers', 261), ('abuses', 262), ('abusewe', 263), ('abusiness', 264), ('abusing', 265), ('abusive', 266), ('abusively', 267), ('abusiveness', 268), ('abusivetowards', 269), ('abusrd', 270), ('abusuve', 271), ('abut', 272), ('abutting', 273), ('abuy', 274), ('abv', 275), ('aby', 276), ('abysmal', 277), ('abyss', 278), ('abyssmal', 279), ('ac', 280), ('aca', 281), ('acac', 282), ('academia', 283), ('academic', 284), ('academically', 285), ('academics', 286), ('academy', 287), ('acadia', 288), ('acall', 289), ('acar', 290), ('acardand', 291), ('acase', 292), ('acash', 293), ('acassions', 294), ('acatually', 295), ('acb', 296), ('acc', 297), ('accap', 298), ('accaptable', 299), ('accations', 300), ('accaunts', 301), ('acccept', 302), ('accceptable', 303), ('accceptance', 304), ('acccess', 305), ('acccording', 306), ('acccordingly', 307), ('acccount', 308), ('acccountability', 309), ('acccounts', 310), ('acccouts', 311), ('accct', 312), ('acccumulated', 313), ('acccused', 314), ('accdg', 315), ('accecpted', 316), ('acceded', 317), ('acceed', 318), ('accel', 319), ('acceleratate', 320), ('accelerate', 321), ('accelerated', 322), ('accelerates', 323), ('accelerating', 324), ('acceleration', 325), ('accelerator', 326), ('accellerate', 327), ('accent', 328), ('accented', 329), ('accents', 330), ('accep', 331), ('accepance', 332), ('accepatance', 333), ('accepatnce', 334), ('accepeted', 335), ('accept', 336), ('acceptability', 337), ('acceptable', 338), ('acceptace', 339), ('acceptaced', 340), ('acceptadditional', 341), ('acceptal', 342), ('acceptanc', 343), ('acceptance', 344), ('acceptances', 345), ('acceptanceto', 346), ('acceptane', 347), ('acceptation', 348), ('accepted', 349), ('acceptedthe', 350), ('acceptible', 351), ('acceptin', 352), ('accepting', 353), ('acceptiong', 354), ('acceptmodifications', 355), ('acceptnce', 356), ('acceptor', 357), ('acceptqnce', 358), ('accepts', 359), ('acceptted', 360), ('accertain', 361), ('acces', 362), ('accesable', 363), ('accesing', 364), ('accesive', 365), ('accesor', 366), ('access', 367), ('accessable', 368), ('accessbut', 369), ('accessed', 370), ('accesses', 371), ('accesshave', 372), ('accessi', 373), ('accessibility', 374), ('accessible', 375), ('accessing', 376), ('accessions', 377), ('accessive', 378), ('accessoptional', 379), ('accessor', 380), ('accessories', 381), ('accessors', 382), ('accessory', 383), ('accesss', 384), ('accesssecure', 385), ('accessto', 386), ('accessxxxx', 387), ('accessy', 388), ('accet', 389), ('accident', 390), ('accidentaccident', 391), ('accidental', 392), ('accidentally', 393), ('accidently', 394), ('accidents', 395), ('accidentxxxx', 396), ('accion', 397), ('accitons', 398), ('acciunt', 399), ('accknowledge', 400), ('accknowledged', 401), ('accknowledgements', 402), ('acclimate', 403), ('accnt', 404), ('accnts', 405), ('acco', 406), ('accocated', 407), ('accoct', 408), ('accocunt', 409), ('accoding', 410), ('accodording', 411), ('accoint', 412), ('accoiunt', 413), ('accomdate', 414), ('accomedating', 415), ('accomendated', 416), ('accomidate', 417), ('accommendated', 418), ('accommodate', 419), ('accommodated', 420), ('accommodateing', 421), ('accommodates', 422), ('accommodatiing', 423), ('accommodating', 424), ('accommodation', 425), ('accommodations', 426), ('accomodate', 427), ('accomodated', 428), ('accomodating', 429), ('accomodation', 430), ('accomodations', 431), ('accompanied', 432), ('accompanies', 433), ('accompany', 434), ('accompanying', 435), ('accomplice', 436), ('accomplices', 437), ('accomplich', 438), ('accomplised', 439), ('accomplish', 440), ('accomplished', 441), ('accomplishes', 442), ('accomplishing', 443), ('accomplishment', 444), ('accomplishments', 445), ('accompliss', 446), ('accomts', 447), ('accont', 448), ('acconting', 449), ('acconut', 450), ('accoount', 451), ('accopunts', 452), ('accord', 453), ('accordamce', 454), ('accordance', 455), ('accorday', 456), ('accorded', 457), ('accordi', 458), ('accordiance', 459), ('according', 460), ('accordingly', 461), ('accordingto', 462), ('accordinly', 463), ('accordint', 464), ('accordnace', 465), ('accords', 466), ('accoriding', 467), ('accoring', 468), ('accosiates', 469), ('accosted', 470), ('accou', 471), ('accouding', 472), ('accouint', 473), ('accoumts', 474), ('accoun', 475), ('accounbt', 476), ('accound', 477), ('accoung', 478), ('accoungs', 479), ('accounr', 480), ('accounrding', 481), ('accouns', 482), ('account', 483), ('accounta', 484), ('accountabie', 485), ('accountabilities', 486), ('accountability', 487), ('accountabillity', 488), ('accountable', 489), ('accountablility', 490), ('accountablity', 491), ('accountably', 492), ('accountaccount', 493), ('accountagain', 494), ('accountall', 495), ('accountamts', 496), ('accountancy', 497), ('accountand', 498), ('accountandhow', 499)]\n"
     ]
    }
   ],
   "source": [
    "print('vocab:')\n",
    "print(sorted(vocab.items())[:500])"
   ]
  },
  {
   "cell_type": "code",
   "execution_count": 41,
   "metadata": {
    "collapsed": false
   },
   "outputs": [
    {
     "name": "stdout",
     "output_type": "stream",
     "text": [
      "63974\n"
     ]
    }
   ],
   "source": [
    "print(len(vocab))"
   ]
  },
  {
   "cell_type": "code",
   "execution_count": null,
   "metadata": {
    "collapsed": true
   },
   "outputs": [],
   "source": []
  }
 ],
 "metadata": {
  "anaconda-cloud": {},
  "kernelspec": {
   "display_name": "Python [Root]",
   "language": "python",
   "name": "Python [Root]"
  },
  "language_info": {
   "codemirror_mode": {
    "name": "ipython",
    "version": 3
   },
   "file_extension": ".py",
   "mimetype": "text/x-python",
   "name": "python",
   "nbconvert_exporter": "python",
   "pygments_lexer": "ipython3",
   "version": "3.5.2"
  }
 },
 "nbformat": 4,
 "nbformat_minor": 0
}
