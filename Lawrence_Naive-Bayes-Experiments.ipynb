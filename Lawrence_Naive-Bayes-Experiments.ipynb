{
 "cells": [
  {
   "cell_type": "code",
   "execution_count": 1,
   "metadata": {
    "collapsed": false
   },
   "outputs": [
    {
     "name": "stderr",
     "output_type": "stream",
     "text": [
      "C:\\Users\\Lawrence\\Anaconda3\\lib\\site-packages\\sklearn\\cross_validation.py:44: DeprecationWarning: This module was deprecated in version 0.18 in favor of the model_selection module into which all the refactored classes and functions are moved. Also note that the interface of the new CV iterators are different from that of this module. This module will be removed in 0.20.\n",
      "  \"This module will be removed in 0.20.\", DeprecationWarning)\n"
     ]
    }
   ],
   "source": [
    "#importing packages\n",
    "import numpy as np\n",
    "import pandas as pd\n",
    "from matplotlib import pyplot as plt\n",
    "from sklearn.ensemble import RandomForestClassifier\n",
    "from sklearn.cross_validation import train_test_split\n",
    "from sklearn.naive_bayes import MultinomialNB\n",
    "from sklearn.naive_bayes import GaussianNB\n",
    "%matplotlib inline"
   ]
  },
  {
   "cell_type": "code",
   "execution_count": 36,
   "metadata": {
    "collapsed": true
   },
   "outputs": [],
   "source": [
    "data = pd.read_csv('Consumer_Complaints_with_Consumer_Complaint_Narratives.csv')"
   ]
  },
  {
   "cell_type": "code",
   "execution_count": 37,
   "metadata": {
    "collapsed": false
   },
   "outputs": [
    {
     "data": {
      "text/html": [
       "<div>\n",
       "<table border=\"1\" class=\"dataframe\">\n",
       "  <thead>\n",
       "    <tr style=\"text-align: right;\">\n",
       "      <th></th>\n",
       "      <th>Date_received</th>\n",
       "      <th>Product</th>\n",
       "      <th>Sub-product</th>\n",
       "      <th>Issue</th>\n",
       "      <th>Sub-issue</th>\n",
       "      <th>Consumer_complaint_narrative</th>\n",
       "      <th>Company_public_response</th>\n",
       "      <th>Company</th>\n",
       "      <th>State</th>\n",
       "      <th>ZIP_code</th>\n",
       "      <th>Tags</th>\n",
       "      <th>Consumer_consent_provided?</th>\n",
       "      <th>Submitted_via</th>\n",
       "      <th>Date_sent_to_company</th>\n",
       "      <th>Company_response_to_consumer</th>\n",
       "      <th>Timely_response?</th>\n",
       "      <th>Consumer_disputed?</th>\n",
       "      <th>Complaint_ID</th>\n",
       "    </tr>\n",
       "  </thead>\n",
       "  <tbody>\n",
       "    <tr>\n",
       "      <th>0</th>\n",
       "      <td>12/2/2016</td>\n",
       "      <td>Consumer Loan</td>\n",
       "      <td>Vehicle loan</td>\n",
       "      <td>Taking out the loan or lease</td>\n",
       "      <td>NaN</td>\n",
       "      <td>Capitol One 360 keeps changing what I owe on m...</td>\n",
       "      <td>NaN</td>\n",
       "      <td>Capital One</td>\n",
       "      <td>OH</td>\n",
       "      <td>453XX</td>\n",
       "      <td>NaN</td>\n",
       "      <td>Consent provided</td>\n",
       "      <td>Web</td>\n",
       "      <td>12/2/2016</td>\n",
       "      <td>Closed with explanation</td>\n",
       "      <td>Yes</td>\n",
       "      <td>No</td>\n",
       "      <td>2233355</td>\n",
       "    </tr>\n",
       "    <tr>\n",
       "      <th>1</th>\n",
       "      <td>12/15/2016</td>\n",
       "      <td>Credit reporting</td>\n",
       "      <td>NaN</td>\n",
       "      <td>Unable to get credit report/credit score</td>\n",
       "      <td>Problem getting my free annual report</td>\n",
       "      <td>I requested all XXXX reports. I got through th...</td>\n",
       "      <td>Company has responded to the consumer and the ...</td>\n",
       "      <td>Experian</td>\n",
       "      <td>FL</td>\n",
       "      <td>320XX</td>\n",
       "      <td>NaN</td>\n",
       "      <td>Consent provided</td>\n",
       "      <td>Web</td>\n",
       "      <td>12/15/2016</td>\n",
       "      <td>Closed with non-monetary relief</td>\n",
       "      <td>Yes</td>\n",
       "      <td>No</td>\n",
       "      <td>2252210</td>\n",
       "    </tr>\n",
       "    <tr>\n",
       "      <th>2</th>\n",
       "      <td>11/13/2016</td>\n",
       "      <td>Student loan</td>\n",
       "      <td>Federal student loan servicing</td>\n",
       "      <td>Dealing with my lender or servicer</td>\n",
       "      <td>Having problems with customer service</td>\n",
       "      <td>I received a forberance on my loans last sprin...</td>\n",
       "      <td>NaN</td>\n",
       "      <td>AES/PHEAA</td>\n",
       "      <td>PA</td>\n",
       "      <td>151XX</td>\n",
       "      <td>NaN</td>\n",
       "      <td>Consent provided</td>\n",
       "      <td>Web</td>\n",
       "      <td>11/15/2016</td>\n",
       "      <td>Closed with explanation</td>\n",
       "      <td>Yes</td>\n",
       "      <td>No</td>\n",
       "      <td>2205926</td>\n",
       "    </tr>\n",
       "  </tbody>\n",
       "</table>\n",
       "</div>"
      ],
      "text/plain": [
       "  Date_received           Product                     Sub-product  \\\n",
       "0     12/2/2016     Consumer Loan                    Vehicle loan   \n",
       "1    12/15/2016  Credit reporting                             NaN   \n",
       "2    11/13/2016      Student loan  Federal student loan servicing   \n",
       "\n",
       "                                      Issue  \\\n",
       "0              Taking out the loan or lease   \n",
       "1  Unable to get credit report/credit score   \n",
       "2        Dealing with my lender or servicer   \n",
       "\n",
       "                               Sub-issue  \\\n",
       "0                                    NaN   \n",
       "1  Problem getting my free annual report   \n",
       "2  Having problems with customer service   \n",
       "\n",
       "                        Consumer_complaint_narrative  \\\n",
       "0  Capitol One 360 keeps changing what I owe on m...   \n",
       "1  I requested all XXXX reports. I got through th...   \n",
       "2  I received a forberance on my loans last sprin...   \n",
       "\n",
       "                             Company_public_response      Company State  \\\n",
       "0                                                NaN  Capital One    OH   \n",
       "1  Company has responded to the consumer and the ...     Experian    FL   \n",
       "2                                                NaN    AES/PHEAA    PA   \n",
       "\n",
       "  ZIP_code Tags Consumer_consent_provided? Submitted_via Date_sent_to_company  \\\n",
       "0    453XX  NaN           Consent provided           Web            12/2/2016   \n",
       "1    320XX  NaN           Consent provided           Web           12/15/2016   \n",
       "2    151XX  NaN           Consent provided           Web           11/15/2016   \n",
       "\n",
       "      Company_response_to_consumer Timely_response? Consumer_disputed?  \\\n",
       "0          Closed with explanation              Yes                 No   \n",
       "1  Closed with non-monetary relief              Yes                 No   \n",
       "2          Closed with explanation              Yes                 No   \n",
       "\n",
       "   Complaint_ID  \n",
       "0       2233355  \n",
       "1       2252210  \n",
       "2       2205926  "
      ]
     },
     "execution_count": 37,
     "metadata": {},
     "output_type": "execute_result"
    }
   ],
   "source": [
    "data.head(3)"
   ]
  },
  {
   "cell_type": "code",
   "execution_count": 38,
   "metadata": {
    "collapsed": false
   },
   "outputs": [],
   "source": [
    "#-->data['Company_response_to_consumer']"
   ]
  },
  {
   "cell_type": "code",
   "execution_count": 39,
   "metadata": {
    "collapsed": true
   },
   "outputs": [],
   "source": [
    "#filter and retain records with desired company response labels\n",
    "responselist = ['Closed with explanation', 'Closed with non-monetary relief', 'Closed with monetary relief']\n",
    "df = data[data.Company_response_to_consumer.isin(responselist)]"
   ]
  },
  {
   "cell_type": "code",
   "execution_count": 40,
   "metadata": {
    "collapsed": false
   },
   "outputs": [
    {
     "data": {
      "text/plain": [
       "134855"
      ]
     },
     "execution_count": 40,
     "metadata": {},
     "output_type": "execute_result"
    }
   ],
   "source": [
    "#-->df['Company_response_to_consumer']\n",
    "len(df.index) #number of records"
   ]
  },
  {
   "cell_type": "code",
   "execution_count": 41,
   "metadata": {
    "collapsed": true
   },
   "outputs": [],
   "source": [
    "#drop features/columns not needed for experiment\n",
    "df = df.drop('Sub-product', 1)\n",
    "df = df.drop('Sub-issue', 1)\n",
    "df = df.drop('Consumer_complaint_narrative', 1)\n",
    "df = df.drop('Company_public_response', 1)\n",
    "df = df.drop('Tags', 1)\n",
    "df = df.drop('Consumer_consent_provided?', 1)\n",
    "df = df.drop('Submitted_via', 1)\n",
    "df = df.drop('Date_sent_to_company', 1)\n",
    "df = df.drop('Timely_response?', 1)\n",
    "df = df.drop('Consumer_disputed?', 1)\n",
    "df = df.drop('Complaint_ID', 1)"
   ]
  },
  {
   "cell_type": "code",
   "execution_count": 42,
   "metadata": {
    "collapsed": false
   },
   "outputs": [
    {
     "data": {
      "text/html": [
       "<div>\n",
       "<table border=\"1\" class=\"dataframe\">\n",
       "  <thead>\n",
       "    <tr style=\"text-align: right;\">\n",
       "      <th></th>\n",
       "      <th>Date_received</th>\n",
       "      <th>Product</th>\n",
       "      <th>Issue</th>\n",
       "      <th>Company</th>\n",
       "      <th>State</th>\n",
       "      <th>ZIP_code</th>\n",
       "      <th>Company_response_to_consumer</th>\n",
       "    </tr>\n",
       "  </thead>\n",
       "  <tbody>\n",
       "    <tr>\n",
       "      <th>0</th>\n",
       "      <td>12/2/2016</td>\n",
       "      <td>Consumer Loan</td>\n",
       "      <td>Taking out the loan or lease</td>\n",
       "      <td>Capital One</td>\n",
       "      <td>OH</td>\n",
       "      <td>453XX</td>\n",
       "      <td>Closed with explanation</td>\n",
       "    </tr>\n",
       "    <tr>\n",
       "      <th>1</th>\n",
       "      <td>12/15/2016</td>\n",
       "      <td>Credit reporting</td>\n",
       "      <td>Unable to get credit report/credit score</td>\n",
       "      <td>Experian</td>\n",
       "      <td>FL</td>\n",
       "      <td>320XX</td>\n",
       "      <td>Closed with non-monetary relief</td>\n",
       "    </tr>\n",
       "    <tr>\n",
       "      <th>2</th>\n",
       "      <td>11/13/2016</td>\n",
       "      <td>Student loan</td>\n",
       "      <td>Dealing with my lender or servicer</td>\n",
       "      <td>AES/PHEAA</td>\n",
       "      <td>PA</td>\n",
       "      <td>151XX</td>\n",
       "      <td>Closed with explanation</td>\n",
       "    </tr>\n",
       "  </tbody>\n",
       "</table>\n",
       "</div>"
      ],
      "text/plain": [
       "  Date_received           Product                                     Issue  \\\n",
       "0     12/2/2016     Consumer Loan              Taking out the loan or lease   \n",
       "1    12/15/2016  Credit reporting  Unable to get credit report/credit score   \n",
       "2    11/13/2016      Student loan        Dealing with my lender or servicer   \n",
       "\n",
       "       Company State ZIP_code     Company_response_to_consumer  \n",
       "0  Capital One    OH    453XX          Closed with explanation  \n",
       "1     Experian    FL    320XX  Closed with non-monetary relief  \n",
       "2    AES/PHEAA    PA    151XX          Closed with explanation  "
      ]
     },
     "execution_count": 42,
     "metadata": {},
     "output_type": "execute_result"
    }
   ],
   "source": [
    "df.head(3)"
   ]
  },
  {
   "cell_type": "code",
   "execution_count": 43,
   "metadata": {
    "collapsed": false
   },
   "outputs": [
    {
     "data": {
      "text/plain": [
       "Date_received                   object\n",
       "Product                         object\n",
       "Issue                           object\n",
       "Company                         object\n",
       "State                           object\n",
       "ZIP_code                        object\n",
       "Company_response_to_consumer    object\n",
       "dtype: object"
      ]
     },
     "execution_count": 43,
     "metadata": {},
     "output_type": "execute_result"
    }
   ],
   "source": [
    "df.dtypes"
   ]
  },
  {
   "cell_type": "code",
   "execution_count": 44,
   "metadata": {
    "collapsed": true
   },
   "outputs": [],
   "source": [
    "#Override null entries to avoid negative numbers when converting to category\n",
    "df.State.replace(np.NaN, 'XX', inplace=True)\n",
    "df.ZIP_code.replace(np.NaN, 'XXXXX', inplace=True)"
   ]
  },
  {
   "cell_type": "code",
   "execution_count": 45,
   "metadata": {
    "collapsed": true
   },
   "outputs": [],
   "source": [
    "#convert column types to 'category'\n",
    "df['Product'] = df['Product'].astype('category')\n",
    "df['Issue'] = df['Issue'].astype('category')\n",
    "df['Company'] = df['Company'].astype('category')\n",
    "df['State'] = df['State'].astype('category')\n",
    "df['ZIP_code'] = df['ZIP_code'].astype('category')\n",
    "df['Company_response_to_consumer'] = df['Company_response_to_consumer'].astype('category')"
   ]
  },
  {
   "cell_type": "code",
   "execution_count": 46,
   "metadata": {
    "collapsed": false
   },
   "outputs": [
    {
     "data": {
      "text/plain": [
       "Date_received                     object\n",
       "Product                         category\n",
       "Issue                           category\n",
       "Company                         category\n",
       "State                           category\n",
       "ZIP_code                        category\n",
       "Company_response_to_consumer    category\n",
       "dtype: object"
      ]
     },
     "execution_count": 46,
     "metadata": {},
     "output_type": "execute_result"
    }
   ],
   "source": [
    "df.dtypes"
   ]
  },
  {
   "cell_type": "code",
   "execution_count": 47,
   "metadata": {
    "collapsed": false
   },
   "outputs": [
    {
     "data": {
      "text/plain": [
       "Index(['Product', 'Issue', 'Company', 'State', 'ZIP_code',\n",
       "       'Company_response_to_consumer'],\n",
       "      dtype='object')"
      ]
     },
     "execution_count": 47,
     "metadata": {},
     "output_type": "execute_result"
    }
   ],
   "source": [
    "#select columns of 'category' type\n",
    "cat_columns = df.select_dtypes(['category']).columns\n",
    "cat_columns"
   ]
  },
  {
   "cell_type": "code",
   "execution_count": 48,
   "metadata": {
    "collapsed": true
   },
   "outputs": [],
   "source": [
    "#assign number values to categories\n",
    "df[cat_columns] = df[cat_columns].apply(lambda x: x.cat.codes)\n",
    "#-->df"
   ]
  },
  {
   "cell_type": "code",
   "execution_count": 49,
   "metadata": {
    "collapsed": false
   },
   "outputs": [
    {
     "data": {
      "text/plain": [
       "0"
      ]
     },
     "execution_count": 49,
     "metadata": {},
     "output_type": "execute_result"
    }
   ],
   "source": [
    "##increment State and ZIP_code by 1 to change -1 to 0 and preserve distinction property\n",
    "#for index, row in df.iterrows():\n",
    "#    if row['State']<0:\n",
    "#        print (row['State'])\n",
    "## NOTE: MultinomialNB did not work initially because 'State' and 'ZIP_code' contain null inputs which gets changed to -1 by\n",
    "## the category transformation. This causes an error because MultinomialNB cannot operate on negative values. So in order to test\n",
    "## prediction on MultinomialNB I'll be removing 'State' and 'ZIP_code' from the data and matrix\n",
    "\n",
    "len(df[df.ZIP_code < 0])"
   ]
  },
  {
   "cell_type": "code",
   "execution_count": 479,
   "metadata": {
    "collapsed": true
   },
   "outputs": [],
   "source": [
    "#sort by date recieved and split data to train and test set at this point\n",
    "df['Date_received'] = pd.to_datetime(df['Date_received'])\n",
    "df = df.sort_values('Date_received')\n",
    "cutoff = int(df.shape[0] * 0.2)\n",
    "train = df.iloc[:cutoff]\n",
    "test = df.iloc[cutoff +1:]\n",
    "#test.tail(10)"
   ]
  },
  {
   "cell_type": "code",
   "execution_count": 480,
   "metadata": {
    "collapsed": false
   },
   "outputs": [
    {
     "data": {
      "text/plain": [
       "85680    0\n",
       "85040    0\n",
       "85083    0\n",
       "Name: Company_response_to_consumer, dtype: int8"
      ]
     },
     "execution_count": 480,
     "metadata": {},
     "output_type": "execute_result"
    }
   ],
   "source": [
    "#seperate class/target column from rest of data\n",
    "target_train = train[\"Company_response_to_consumer\"] #dataframe with only consumer complaint\n",
    "target_test = test[\"Company_response_to_consumer\"]\n",
    "#remove other features not needed in experiment\n",
    "vec_train = train.drop('Company_response_to_consumer', 1) #dataframe with all except consumer complaint\n",
    "vec_train = vec_train.drop('Date_received', 1)\n",
    "vec_test = test.drop('Company_response_to_consumer', 1)\n",
    "vec_test = vec_test.drop('Date_received', 1)\n",
    "\n",
    "target_test.tail(3)"
   ]
  },
  {
   "cell_type": "code",
   "execution_count": 481,
   "metadata": {
    "collapsed": false
   },
   "outputs": [
    {
     "data": {
      "text/plain": [
       "array([[   3,   49,  874,   50,  280],\n",
       "       [   2,   28,  530,   25,   18],\n",
       "       [   2,   14, 1273,   13,  324],\n",
       "       ..., \n",
       "       [   4,   24,  822,   20,  568],\n",
       "       [   3,   49,  851,   58,  906],\n",
       "       [   4,   24, 1879,   35,  263]], dtype=int16)"
      ]
     },
     "execution_count": 481,
     "metadata": {},
     "output_type": "execute_result"
    }
   ],
   "source": [
    "#convert *_vec dataframe to vector (any of the two sets of code will do)\n",
    "vec_train2 = vec_train.values\n",
    "vec_train2\n",
    "#numpyMatrix = df_vec.as_matrix()\n",
    "#numpyMatrix"
   ]
  },
  {
   "cell_type": "code",
   "execution_count": 482,
   "metadata": {
    "collapsed": false
   },
   "outputs": [
    {
     "data": {
      "text/plain": [
       "array([[   4,   24,  812,    8,  868],\n",
       "       [   6,   56, 1791,   25,   16],\n",
       "       [   6,   57, 1701,   45,  896],\n",
       "       ..., \n",
       "       [  10,   34, 2287,   45,  896],\n",
       "       [   2,   22,  529,    8,  869],\n",
       "       [   4,   37, 2161,   39,   65]], dtype=int16)"
      ]
     },
     "execution_count": 482,
     "metadata": {},
     "output_type": "execute_result"
    }
   ],
   "source": [
    "vec_test2 = vec_test.values\n",
    "vec_test2"
   ]
  },
  {
   "cell_type": "code",
   "execution_count": 483,
   "metadata": {
    "collapsed": true
   },
   "outputs": [],
   "source": [
    "#machine learning algorithhm used for classification\n",
    "mnb = MultinomialNB()\n",
    "gnb = GaussianNB()"
   ]
  },
  {
   "cell_type": "code",
   "execution_count": 484,
   "metadata": {
    "collapsed": true
   },
   "outputs": [],
   "source": [
    "#covert to integer type to enable classification\n",
    "#target_train = target_train.astype('int')\n",
    "#vec_train = vec_train.astype('int')\n",
    "\n",
    "#=======================================================================================================================#\n",
    "# Beginning of Experiment 1: GaussianNB on Product\tIssue\tCompany \tState\tZIP_code"
   ]
  },
  {
   "cell_type": "code",
   "execution_count": 485,
   "metadata": {
    "collapsed": false
   },
   "outputs": [
    {
     "data": {
      "text/plain": [
       "MultinomialNB(alpha=1.0, class_prior=None, fit_prior=True)"
      ]
     },
     "execution_count": 485,
     "metadata": {},
     "output_type": "execute_result"
    }
   ],
   "source": [
    "#build classifier on train set\n",
    "mnb.fit(vec_train2, target_train)"
   ]
  },
  {
   "cell_type": "code",
   "execution_count": 486,
   "metadata": {
    "collapsed": false
   },
   "outputs": [
    {
     "data": {
      "text/plain": [
       "array([2, 0, 2, ..., 0, 2, 0], dtype=int8)"
      ]
     },
     "execution_count": 486,
     "metadata": {},
     "output_type": "execute_result"
    }
   ],
   "source": [
    "#use built classifier to predict labels of test set\n",
    "mnb_pred = mnb.predict(vec_test2)\n",
    "mnb_pred"
   ]
  },
  {
   "cell_type": "code",
   "execution_count": 487,
   "metadata": {
    "collapsed": false
   },
   "outputs": [
    {
     "data": {
      "text/plain": [
       "array([2, 0, 0, ..., 0, 0, 0], dtype=int8)"
      ]
     },
     "execution_count": 487,
     "metadata": {},
     "output_type": "execute_result"
    }
   ],
   "source": [
    "#get actual labels of test set\n",
    "actual = np.array(target_test)\n",
    "actual"
   ]
  },
  {
   "cell_type": "code",
   "execution_count": 488,
   "metadata": {
    "collapsed": false
   },
   "outputs": [],
   "source": [
    "#count correct predictions\n",
    "actualExp = 0 # counts actual 'closed with explanation' OR (0) labels\n",
    "actualRel = 0 # counts actual 'closed with monetary relief' OR (1) labels\n",
    "actualNon = 0 # counts actual 'closed with non-monetary relief' OR (2) labels\n",
    "    \n",
    "predExp = 0 # counts correct predicted 0 labels\n",
    "predExp_Rel = 0 # counts incorrect predictions of 0 when 1\n",
    "predExp_Non = 0 # counts incorrect predictions of 0 when 2\n",
    "   \n",
    "predRel = 0 # counts correct predicted 1 labels\n",
    "predRel_Exp = 0 # counts incorrect predicitons of 1 when 0\n",
    "predRel_Non = 0 # counts incorrect predictions of 1 when 2\n",
    "    \n",
    "predNon = 0 # counts correct predicted 2 labels\n",
    "predNon_Exp = 0 # counts incorrect predictions of 2 when 0\n",
    "predNon_Rel = 0 # counts incorrect predicitons of 2 when 1"
   ]
  },
  {
   "cell_type": "code",
   "execution_count": 489,
   "metadata": {
    "collapsed": true
   },
   "outputs": [],
   "source": [
    "for i in range (len(mnb_pred)):\n",
    "    act = actual[i]\n",
    "    pred = mnb_pred[i]\n",
    "    \n",
    "    if pred == act:\n",
    "        if act == 0:\n",
    "            predExp = predExp + 1\n",
    "            actualExp = actualExp + 1\n",
    "        elif act == 1:\n",
    "            predRel = predRel + 1\n",
    "            actualRel = actualRel + 1\n",
    "        elif act == 2:\n",
    "            predNon = predNon + 1\n",
    "            actualNon = actualNon + 1\n",
    "    \n",
    "    else:\n",
    "        if act == 0:\n",
    "            actualExp = actualExp + 1\n",
    "            if pred == 1:\n",
    "                predRel_Exp = predRel_Exp + 1\n",
    "            elif pred == 2:\n",
    "                predNon_Exp = predNon_Exp + 1\n",
    "        if act == 1:\n",
    "            actualRel = actualRel + 1\n",
    "            if pred == 0:\n",
    "                predExp_Rel = predExp_Rel + 1\n",
    "            elif pred == 2:\n",
    "                predNon_Rel = predNon_Rel + 1\n",
    "        if act == 2:\n",
    "            actualNon = actualNon + 1\n",
    "            if pred == 0:\n",
    "                predExp_Non = predExp_Non + 1\n",
    "            elif pred == 1:\n",
    "                predRel_Non = predRel_Non + 1"
   ]
  },
  {
   "cell_type": "code",
   "execution_count": 490,
   "metadata": {
    "collapsed": false
   },
   "outputs": [
    {
     "name": "stdout",
     "output_type": "stream",
     "text": [
      "predExp: 46880\n",
      "predExp_Rel: 3802\n",
      "predExp_Non: 7165\n",
      "predRel: 440\n",
      "predRel_Exp: 1934\n",
      "predRel_Non: 291\n",
      "predNon: 5811\n",
      "predNon_Exp: 37419\n",
      "predNon_Rel: 4141\n",
      "actualExp: 86233\n",
      "actualRel: 8383\n",
      "actualNon: 13267\n"
     ]
    },
    {
     "data": {
      "text/plain": [
       "0.4924872315378697"
      ]
     },
     "execution_count": 490,
     "metadata": {},
     "output_type": "execute_result"
    }
   ],
   "source": [
    "print (\"predExp: %d\" % ( predExp ))\n",
    "print (\"predExp_Rel: %d\" % ( predExp_Rel ))\n",
    "print (\"predExp_Non: %d\" % ( predExp_Non ))\n",
    "print (\"predRel: %d\" % ( predRel ))\n",
    "print (\"predRel_Exp: %d\" % ( predRel_Exp ))\n",
    "print (\"predRel_Non: %d\" % ( predRel_Non ))\n",
    "print (\"predNon: %d\" % ( predNon ))\n",
    "print (\"predNon_Exp: %d\" % ( predNon_Exp ))\n",
    "print (\"predNon_Rel: %d\" % ( predNon_Rel ))\n",
    "print (\"actualExp: %d\" % ( actualExp ))\n",
    "print (\"actualRel: %d\" % ( actualRel ))\n",
    "print (\"actualNon: %d\" % ( actualNon ))\n",
    "\n",
    "accuracy = (predExp+predRel+predNon)/(actualExp+actualRel+actualNon)\n",
    "accuracy"
   ]
  },
  {
   "cell_type": "code",
   "execution_count": 491,
   "metadata": {
    "collapsed": true
   },
   "outputs": [],
   "source": [
    "# End of Experiment 1: GaussianNB on Product\tIssue\tCompany \tState\tZIP_code\n",
    "# =======================================================================================================================#\n",
    "# Beginning of Experiment 2:MultinomialNB on Product\tIssue\tCompany"
   ]
  },
  {
   "cell_type": "code",
   "execution_count": 492,
   "metadata": {
    "collapsed": false
   },
   "outputs": [
    {
     "data": {
      "text/plain": [
       "GaussianNB(priors=None)"
      ]
     },
     "execution_count": 492,
     "metadata": {},
     "output_type": "execute_result"
    }
   ],
   "source": [
    "#df_vec2 = df_vec.drop('State', 1)\n",
    "#df_vec2 = df_vec2.drop('ZIP_code', 1)\n",
    "gnb.fit(vec_train, target_train)"
   ]
  },
  {
   "cell_type": "code",
   "execution_count": 493,
   "metadata": {
    "collapsed": false
   },
   "outputs": [
    {
     "data": {
      "text/plain": [
       "array([0, 0, 0, ..., 0, 0, 0], dtype=int8)"
      ]
     },
     "execution_count": 493,
     "metadata": {},
     "output_type": "execute_result"
    }
   ],
   "source": [
    "#use built classifier to predict labels of test set\n",
    "gnb_pred = gnb.predict(vec_test)\n",
    "gnb_pred"
   ]
  },
  {
   "cell_type": "code",
   "execution_count": 494,
   "metadata": {
    "collapsed": true
   },
   "outputs": [],
   "source": [
    "#count correct predictions\n",
    "actualExp = 0 # counts actual 'closed with explanation' OR (0) labels\n",
    "actualRel = 0 # counts actual 'closed with monetary relief' OR (1) labels\n",
    "actualNon = 0 # counts actual 'closed with non-monetary relief' OR (2) labels\n",
    "\n",
    "predExp = 0 # counts correct predicted 0 labels\n",
    "predExp_Rel = 0 # counts incorrect predictions of 0 when 1\n",
    "predExp_Non = 0 # counts incorrect predictions of 0 when 2\n",
    "\n",
    "predRel = 0 # counts correct predicted 1 labels\n",
    "predRel_Exp = 0 # counts incorrect predicitons of 1 when 0\n",
    "predRel_Non = 0 # counts incorrect predictions of 1 when 2\n",
    "\n",
    "predNon = 0 # counts correct predicted 2 labels\n",
    "predNon_Exp = 0 # counts incorrect predictions of 2 when 0\n",
    "predNon_Rel = 0 # counts incorrect predicitons of 2 when 1"
   ]
  },
  {
   "cell_type": "code",
   "execution_count": 495,
   "metadata": {
    "collapsed": true
   },
   "outputs": [],
   "source": [
    "for i in range (len(gnb_pred)):\n",
    "    act = actual[i]\n",
    "    pred = gnb_pred[i]\n",
    "    \n",
    "    if pred == act:\n",
    "        if act == 0:\n",
    "            predExp = predExp + 1\n",
    "            actualExp = actualExp + 1\n",
    "        elif act == 1:\n",
    "            predRel = predRel + 1\n",
    "            actualRel = actualRel + 1\n",
    "        elif act == 2:\n",
    "            predNon = predNon + 1\n",
    "            actualNon = actualNon + 1\n",
    "    \n",
    "    else:\n",
    "        if act == 0:\n",
    "            actualExp = actualExp + 1\n",
    "            if pred == 1:\n",
    "                predRel_Exp = predRel_Exp + 1\n",
    "            elif pred == 2:\n",
    "                predNon_Exp = predNon_Exp + 1\n",
    "        if act == 1:\n",
    "            actualRel = actualRel + 1\n",
    "            if pred == 0:\n",
    "                predExp_Rel = predExp_Rel + 1\n",
    "            elif pred == 2:\n",
    "                predNon_Rel = predNon_Rel + 1\n",
    "        if act == 2:\n",
    "            actualNon = actualNon + 1\n",
    "            if pred == 0:\n",
    "                predExp_Non = predExp_Non + 1\n",
    "            elif pred == 1:\n",
    "                predRel_Non = predRel_Non + 1"
   ]
  },
  {
   "cell_type": "code",
   "execution_count": 496,
   "metadata": {
    "collapsed": false
   },
   "outputs": [
    {
     "name": "stdout",
     "output_type": "stream",
     "text": [
      "predExp: 86233\n",
      "predExp_Rel: 8383\n",
      "predExp_Non: 13267\n",
      "predRel: 0\n",
      "predRel_Exp: 0\n",
      "predRel_Non: 0\n",
      "predNon: 0\n",
      "predNon_Exp: 0\n",
      "predNon_Rel: 0\n",
      "actualExp: 86233\n",
      "actualRel: 8383\n",
      "actualNon: 13267\n"
     ]
    },
    {
     "data": {
      "text/plain": [
       "0.7993196333064524"
      ]
     },
     "execution_count": 496,
     "metadata": {},
     "output_type": "execute_result"
    }
   ],
   "source": [
    "print (\"predExp: %d\" % ( predExp ))\n",
    "print (\"predExp_Rel: %d\" % ( predExp_Rel ))\n",
    "print (\"predExp_Non: %d\" % ( predExp_Non ))\n",
    "print (\"predRel: %d\" % ( predRel ))\n",
    "print (\"predRel_Exp: %d\" % ( predRel_Exp ))\n",
    "print (\"predRel_Non: %d\" % ( predRel_Non ))\n",
    "print (\"predNon: %d\" % ( predNon ))\n",
    "print (\"predNon_Exp: %d\" % ( predNon_Exp ))\n",
    "print (\"predNon_Rel: %d\" % ( predNon_Rel ))\n",
    "print (\"actualExp: %d\" % ( actualExp ))\n",
    "print (\"actualRel: %d\" % ( actualRel ))\n",
    "print (\"actualNon: %d\" % ( actualNon ))\n",
    "\n",
    "accuracy = (predExp+predRel+predNon)/(actualExp+actualRel+actualNon)\n",
    "accuracy"
   ]
  },
  {
   "cell_type": "code",
   "execution_count": 497,
   "metadata": {
    "collapsed": true
   },
   "outputs": [],
   "source": [
    "# End of Experiment 2:MultinomialNB on Product\tIssue\tCompany\n",
    "# =======================================================================================================================#"
   ]
  },
  {
   "cell_type": "code",
   "execution_count": 498,
   "metadata": {
    "collapsed": false
   },
   "outputs": [
    {
     "data": {
      "text/plain": [
       "85680    0\n",
       "85040    0\n",
       "85083    0\n",
       "Name: Company_response_to_consumer, dtype: int8"
      ]
     },
     "execution_count": 498,
     "metadata": {},
     "output_type": "execute_result"
    }
   ],
   "source": [
    "#remove other features not needed in experiment\n",
    "vec_train = vec_train.drop('State', 1) \n",
    "vec_train = vec_train.drop('ZIP_code', 1)\n",
    "vec_test = vec_test.drop('State', 1)\n",
    "vec_test = vec_test.drop('ZIP_code', 1)\n",
    "\n",
    "target_test.tail(3)"
   ]
  },
  {
   "cell_type": "code",
   "execution_count": 499,
   "metadata": {
    "collapsed": false
   },
   "outputs": [
    {
     "data": {
      "text/plain": [
       "array([[   3,   49,  874],\n",
       "       [   2,   28,  530],\n",
       "       [   2,   14, 1273],\n",
       "       ..., \n",
       "       [   4,   24,  822],\n",
       "       [   3,   49,  851],\n",
       "       [   4,   24, 1879]], dtype=int16)"
      ]
     },
     "execution_count": 499,
     "metadata": {},
     "output_type": "execute_result"
    }
   ],
   "source": [
    "#convert *_vec dataframe to vector (any of the two sets of code will do)\n",
    "vec_train2 = vec_train.values\n",
    "vec_train2"
   ]
  },
  {
   "cell_type": "code",
   "execution_count": 500,
   "metadata": {
    "collapsed": false
   },
   "outputs": [
    {
     "data": {
      "text/plain": [
       "array([[   4,   24,  812],\n",
       "       [   6,   56, 1791],\n",
       "       [   6,   57, 1701],\n",
       "       ..., \n",
       "       [  10,   34, 2287],\n",
       "       [   2,   22,  529],\n",
       "       [   4,   37, 2161]], dtype=int16)"
      ]
     },
     "execution_count": 500,
     "metadata": {},
     "output_type": "execute_result"
    }
   ],
   "source": [
    "vec_test2 = vec_test.values\n",
    "vec_test2"
   ]
  },
  {
   "cell_type": "code",
   "execution_count": 501,
   "metadata": {
    "collapsed": false
   },
   "outputs": [
    {
     "data": {
      "text/plain": [
       "MultinomialNB(alpha=1.0, class_prior=None, fit_prior=True)"
      ]
     },
     "execution_count": 501,
     "metadata": {},
     "output_type": "execute_result"
    }
   ],
   "source": [
    "#build classifier on train set\n",
    "mnb.fit(vec_train, target_train)"
   ]
  },
  {
   "cell_type": "code",
   "execution_count": 502,
   "metadata": {
    "collapsed": false
   },
   "outputs": [
    {
     "data": {
      "text/plain": [
       "array([0, 0, 0, ..., 0, 0, 0], dtype=int8)"
      ]
     },
     "execution_count": 502,
     "metadata": {},
     "output_type": "execute_result"
    }
   ],
   "source": [
    "#use built classifier to predict labels of test set\n",
    "mnb_pred = mnb.predict(vec_test)\n",
    "mnb_pred"
   ]
  },
  {
   "cell_type": "code",
   "execution_count": 503,
   "metadata": {
    "collapsed": false
   },
   "outputs": [
    {
     "data": {
      "text/plain": [
       "array([2, 0, 0, ..., 0, 0, 0], dtype=int8)"
      ]
     },
     "execution_count": 503,
     "metadata": {},
     "output_type": "execute_result"
    }
   ],
   "source": [
    "#get actual labels of test set\n",
    "actual = np.array(target_test)\n",
    "actual"
   ]
  },
  {
   "cell_type": "code",
   "execution_count": 504,
   "metadata": {
    "collapsed": true
   },
   "outputs": [],
   "source": [
    "#count correct predictions\n",
    "actualExp = 0 # counts actual 'closed with explanation' OR (0) labels\n",
    "actualRel = 0 # counts actual 'closed with monetary relief' OR (1) labels\n",
    "actualNon = 0 # counts actual 'closed with non-monetary relief' OR (2) labels\n",
    "    \n",
    "predExp = 0 # counts correct predicted 0 labels\n",
    "predExp_Rel = 0 # counts incorrect predictions of 0 when 1\n",
    "predExp_Non = 0 # counts incorrect predictions of 0 when 2\n",
    "   \n",
    "predRel = 0 # counts correct predicted 1 labels\n",
    "predRel_Exp = 0 # counts incorrect predicitons of 1 when 0\n",
    "predRel_Non = 0 # counts incorrect predictions of 1 when 2\n",
    "    \n",
    "predNon = 0 # counts correct predicted 2 labels\n",
    "predNon_Exp = 0 # counts incorrect predictions of 2 when 0\n",
    "predNon_Rel = 0 # counts incorrect predicitons of 2 when 1"
   ]
  },
  {
   "cell_type": "code",
   "execution_count": 505,
   "metadata": {
    "collapsed": true
   },
   "outputs": [],
   "source": [
    "for i in range (len(mnb_pred)):\n",
    "    act = actual[i]\n",
    "    pred = mnb_pred[i]\n",
    "    \n",
    "    if pred == act:\n",
    "        if act == 0:\n",
    "            predExp = predExp + 1\n",
    "            actualExp = actualExp + 1\n",
    "        elif act == 1:\n",
    "            predRel = predRel + 1\n",
    "            actualRel = actualRel + 1\n",
    "        elif act == 2:\n",
    "            predNon = predNon + 1\n",
    "            actualNon = actualNon + 1\n",
    "    \n",
    "    else:\n",
    "        if act == 0:\n",
    "            actualExp = actualExp + 1\n",
    "            if pred == 1:\n",
    "                predRel_Exp = predRel_Exp + 1\n",
    "            elif pred == 2:\n",
    "                predNon_Exp = predNon_Exp + 1\n",
    "        if act == 1:\n",
    "            actualRel = actualRel + 1\n",
    "            if pred == 0:\n",
    "                predExp_Rel = predExp_Rel + 1\n",
    "            elif pred == 2:\n",
    "                predNon_Rel = predNon_Rel + 1\n",
    "        if act == 2:\n",
    "            actualNon = actualNon + 1\n",
    "            if pred == 0:\n",
    "                predExp_Non = predExp_Non + 1\n",
    "            elif pred == 1:\n",
    "                predRel_Non = predRel_Non + 1"
   ]
  },
  {
   "cell_type": "code",
   "execution_count": 506,
   "metadata": {
    "collapsed": false
   },
   "outputs": [
    {
     "name": "stdout",
     "output_type": "stream",
     "text": [
      "predExp: 69178\n",
      "predExp_Rel: 5636\n",
      "predExp_Non: 11031\n",
      "predRel: 48\n",
      "predRel_Exp: 132\n",
      "predRel_Non: 4\n",
      "predNon: 2232\n",
      "predNon_Exp: 16923\n",
      "predNon_Rel: 2699\n",
      "actualExp: 86233\n",
      "actualRel: 8383\n",
      "actualNon: 13267\n"
     ]
    },
    {
     "data": {
      "text/plain": [
       "0.6623657110017334"
      ]
     },
     "execution_count": 506,
     "metadata": {},
     "output_type": "execute_result"
    }
   ],
   "source": [
    "print (\"predExp: %d\" % ( predExp ))\n",
    "print (\"predExp_Rel: %d\" % ( predExp_Rel ))\n",
    "print (\"predExp_Non: %d\" % ( predExp_Non ))\n",
    "print (\"predRel: %d\" % ( predRel ))\n",
    "print (\"predRel_Exp: %d\" % ( predRel_Exp ))\n",
    "print (\"predRel_Non: %d\" % ( predRel_Non ))\n",
    "print (\"predNon: %d\" % ( predNon ))\n",
    "print (\"predNon_Exp: %d\" % ( predNon_Exp ))\n",
    "print (\"predNon_Rel: %d\" % ( predNon_Rel ))\n",
    "print (\"actualExp: %d\" % ( actualExp ))\n",
    "print (\"actualRel: %d\" % ( actualRel ))\n",
    "print (\"actualNon: %d\" % ( actualNon ))\n",
    "\n",
    "accuracy = (predExp+predRel+predNon)/(actualExp+actualRel+actualNon)\n",
    "accuracy"
   ]
  },
  {
   "cell_type": "code",
   "execution_count": null,
   "metadata": {
    "collapsed": true
   },
   "outputs": [],
   "source": []
  }
 ],
 "metadata": {
  "anaconda-cloud": {},
  "kernelspec": {
   "display_name": "Python [Root]",
   "language": "python",
   "name": "Python [Root]"
  },
  "language_info": {
   "codemirror_mode": {
    "name": "ipython",
    "version": 3
   },
   "file_extension": ".py",
   "mimetype": "text/x-python",
   "name": "python",
   "nbconvert_exporter": "python",
   "pygments_lexer": "ipython3",
   "version": "3.5.2"
  }
 },
 "nbformat": 4,
 "nbformat_minor": 0
}
