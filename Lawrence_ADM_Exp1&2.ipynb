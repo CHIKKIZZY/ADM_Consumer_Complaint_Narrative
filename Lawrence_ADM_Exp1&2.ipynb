{
 "cells": [
  {
   "cell_type": "code",
   "execution_count": 35,
   "metadata": {
    "collapsed": true
   },
   "outputs": [],
   "source": [
    "import numpy as np\n",
    "import pandas as pd\n",
    "from matplotlib import pyplot as plt\n",
    "from sklearn.ensemble import RandomForestClassifier\n",
    "from sklearn.cross_validation import train_test_split\n",
    "from sklearn.naive_bayes import MultinomialNB\n",
    "from sklearn.naive_bayes import GaussianNB\n",
    "%matplotlib inline"
   ]
  },
  {
   "cell_type": "code",
   "execution_count": 36,
   "metadata": {
    "collapsed": true
   },
   "outputs": [],
   "source": [
    "data = pd.read_csv('Consumer_Complaints_with_Consumer_Complaint_Narratives.csv')"
   ]
  },
  {
   "cell_type": "code",
   "execution_count": 37,
   "metadata": {
    "collapsed": false
   },
   "outputs": [
    {
     "data": {
      "text/html": [
       "<div>\n",
       "<table border=\"1\" class=\"dataframe\">\n",
       "  <thead>\n",
       "    <tr style=\"text-align: right;\">\n",
       "      <th></th>\n",
       "      <th>Date_received</th>\n",
       "      <th>Product</th>\n",
       "      <th>Sub-product</th>\n",
       "      <th>Issue</th>\n",
       "      <th>Sub-issue</th>\n",
       "      <th>Consumer_complaint_narrative</th>\n",
       "      <th>Company_public_response</th>\n",
       "      <th>Company</th>\n",
       "      <th>State</th>\n",
       "      <th>ZIP_code</th>\n",
       "      <th>Tags</th>\n",
       "      <th>Consumer_consent_provided?</th>\n",
       "      <th>Submitted_via</th>\n",
       "      <th>Date_sent_to_company</th>\n",
       "      <th>Company_response_to_consumer</th>\n",
       "      <th>Timely_response?</th>\n",
       "      <th>Consumer_disputed?</th>\n",
       "      <th>Complaint_ID</th>\n",
       "    </tr>\n",
       "  </thead>\n",
       "  <tbody>\n",
       "    <tr>\n",
       "      <th>0</th>\n",
       "      <td>12/2/2016</td>\n",
       "      <td>Consumer Loan</td>\n",
       "      <td>Vehicle loan</td>\n",
       "      <td>Taking out the loan or lease</td>\n",
       "      <td>NaN</td>\n",
       "      <td>Capitol One 360 keeps changing what I owe on m...</td>\n",
       "      <td>NaN</td>\n",
       "      <td>Capital One</td>\n",
       "      <td>OH</td>\n",
       "      <td>453XX</td>\n",
       "      <td>NaN</td>\n",
       "      <td>Consent provided</td>\n",
       "      <td>Web</td>\n",
       "      <td>12/2/2016</td>\n",
       "      <td>Closed with explanation</td>\n",
       "      <td>Yes</td>\n",
       "      <td>No</td>\n",
       "      <td>2233355</td>\n",
       "    </tr>\n",
       "    <tr>\n",
       "      <th>1</th>\n",
       "      <td>12/15/2016</td>\n",
       "      <td>Credit reporting</td>\n",
       "      <td>NaN</td>\n",
       "      <td>Unable to get credit report/credit score</td>\n",
       "      <td>Problem getting my free annual report</td>\n",
       "      <td>I requested all XXXX reports. I got through th...</td>\n",
       "      <td>Company has responded to the consumer and the ...</td>\n",
       "      <td>Experian</td>\n",
       "      <td>FL</td>\n",
       "      <td>320XX</td>\n",
       "      <td>NaN</td>\n",
       "      <td>Consent provided</td>\n",
       "      <td>Web</td>\n",
       "      <td>12/15/2016</td>\n",
       "      <td>Closed with non-monetary relief</td>\n",
       "      <td>Yes</td>\n",
       "      <td>No</td>\n",
       "      <td>2252210</td>\n",
       "    </tr>\n",
       "    <tr>\n",
       "      <th>2</th>\n",
       "      <td>11/13/2016</td>\n",
       "      <td>Student loan</td>\n",
       "      <td>Federal student loan servicing</td>\n",
       "      <td>Dealing with my lender or servicer</td>\n",
       "      <td>Having problems with customer service</td>\n",
       "      <td>I received a forberance on my loans last sprin...</td>\n",
       "      <td>NaN</td>\n",
       "      <td>AES/PHEAA</td>\n",
       "      <td>PA</td>\n",
       "      <td>151XX</td>\n",
       "      <td>NaN</td>\n",
       "      <td>Consent provided</td>\n",
       "      <td>Web</td>\n",
       "      <td>11/15/2016</td>\n",
       "      <td>Closed with explanation</td>\n",
       "      <td>Yes</td>\n",
       "      <td>No</td>\n",
       "      <td>2205926</td>\n",
       "    </tr>\n",
       "  </tbody>\n",
       "</table>\n",
       "</div>"
      ],
      "text/plain": [
       "  Date_received           Product                     Sub-product  \\\n",
       "0     12/2/2016     Consumer Loan                    Vehicle loan   \n",
       "1    12/15/2016  Credit reporting                             NaN   \n",
       "2    11/13/2016      Student loan  Federal student loan servicing   \n",
       "\n",
       "                                      Issue  \\\n",
       "0              Taking out the loan or lease   \n",
       "1  Unable to get credit report/credit score   \n",
       "2        Dealing with my lender or servicer   \n",
       "\n",
       "                               Sub-issue  \\\n",
       "0                                    NaN   \n",
       "1  Problem getting my free annual report   \n",
       "2  Having problems with customer service   \n",
       "\n",
       "                        Consumer_complaint_narrative  \\\n",
       "0  Capitol One 360 keeps changing what I owe on m...   \n",
       "1  I requested all XXXX reports. I got through th...   \n",
       "2  I received a forberance on my loans last sprin...   \n",
       "\n",
       "                             Company_public_response      Company State  \\\n",
       "0                                                NaN  Capital One    OH   \n",
       "1  Company has responded to the consumer and the ...     Experian    FL   \n",
       "2                                                NaN    AES/PHEAA    PA   \n",
       "\n",
       "  ZIP_code Tags Consumer_consent_provided? Submitted_via Date_sent_to_company  \\\n",
       "0    453XX  NaN           Consent provided           Web            12/2/2016   \n",
       "1    320XX  NaN           Consent provided           Web           12/15/2016   \n",
       "2    151XX  NaN           Consent provided           Web           11/15/2016   \n",
       "\n",
       "      Company_response_to_consumer Timely_response? Consumer_disputed?  \\\n",
       "0          Closed with explanation              Yes                 No   \n",
       "1  Closed with non-monetary relief              Yes                 No   \n",
       "2          Closed with explanation              Yes                 No   \n",
       "\n",
       "   Complaint_ID  \n",
       "0       2233355  \n",
       "1       2252210  \n",
       "2       2205926  "
      ]
     },
     "execution_count": 37,
     "metadata": {},
     "output_type": "execute_result"
    }
   ],
   "source": [
    "data.head(3)"
   ]
  },
  {
   "cell_type": "code",
   "execution_count": 38,
   "metadata": {
    "collapsed": false
   },
   "outputs": [],
   "source": [
    "#-->data['Company_response_to_consumer']"
   ]
  },
  {
   "cell_type": "code",
   "execution_count": 39,
   "metadata": {
    "collapsed": true
   },
   "outputs": [],
   "source": [
    "#filter and retain records with desired company response labels\n",
    "responselist = ['Closed with explanation', 'Closed with non-monetary relief', 'Closed with monetary relief']\n",
    "df = data[data.Company_response_to_consumer.isin(responselist)]"
   ]
  },
  {
   "cell_type": "code",
   "execution_count": 40,
   "metadata": {
    "collapsed": false
   },
   "outputs": [
    {
     "data": {
      "text/plain": [
       "134855"
      ]
     },
     "execution_count": 40,
     "metadata": {},
     "output_type": "execute_result"
    }
   ],
   "source": [
    "#-->df['Company_response_to_consumer']\n",
    "len(df.index) #number of records"
   ]
  },
  {
   "cell_type": "code",
   "execution_count": 41,
   "metadata": {
    "collapsed": true
   },
   "outputs": [],
   "source": [
    "#drop features/columns not needed for experiment\n",
    "df = df.drop('Date_received', 1)\n",
    "df = df.drop('Sub-product', 1)\n",
    "df = df.drop('Sub-issue', 1)\n",
    "df = df.drop('Consumer_complaint_narrative', 1)\n",
    "df = df.drop('Company_public_response', 1)\n",
    "df = df.drop('Tags', 1)\n",
    "df = df.drop('Consumer_consent_provided?', 1)\n",
    "df = df.drop('Submitted_via', 1)\n",
    "df = df.drop('Date_sent_to_company', 1)\n",
    "df = df.drop('Timely_response?', 1)\n",
    "df = df.drop('Consumer_disputed?', 1)\n",
    "df = df.drop('Complaint_ID', 1)"
   ]
  },
  {
   "cell_type": "code",
   "execution_count": 42,
   "metadata": {
    "collapsed": false
   },
   "outputs": [
    {
     "data": {
      "text/html": [
       "<div>\n",
       "<table border=\"1\" class=\"dataframe\">\n",
       "  <thead>\n",
       "    <tr style=\"text-align: right;\">\n",
       "      <th></th>\n",
       "      <th>Product</th>\n",
       "      <th>Issue</th>\n",
       "      <th>Company</th>\n",
       "      <th>State</th>\n",
       "      <th>ZIP_code</th>\n",
       "      <th>Company_response_to_consumer</th>\n",
       "    </tr>\n",
       "  </thead>\n",
       "  <tbody>\n",
       "    <tr>\n",
       "      <th>0</th>\n",
       "      <td>Consumer Loan</td>\n",
       "      <td>Taking out the loan or lease</td>\n",
       "      <td>Capital One</td>\n",
       "      <td>OH</td>\n",
       "      <td>453XX</td>\n",
       "      <td>Closed with explanation</td>\n",
       "    </tr>\n",
       "    <tr>\n",
       "      <th>1</th>\n",
       "      <td>Credit reporting</td>\n",
       "      <td>Unable to get credit report/credit score</td>\n",
       "      <td>Experian</td>\n",
       "      <td>FL</td>\n",
       "      <td>320XX</td>\n",
       "      <td>Closed with non-monetary relief</td>\n",
       "    </tr>\n",
       "    <tr>\n",
       "      <th>2</th>\n",
       "      <td>Student loan</td>\n",
       "      <td>Dealing with my lender or servicer</td>\n",
       "      <td>AES/PHEAA</td>\n",
       "      <td>PA</td>\n",
       "      <td>151XX</td>\n",
       "      <td>Closed with explanation</td>\n",
       "    </tr>\n",
       "  </tbody>\n",
       "</table>\n",
       "</div>"
      ],
      "text/plain": [
       "            Product                                     Issue      Company  \\\n",
       "0     Consumer Loan              Taking out the loan or lease  Capital One   \n",
       "1  Credit reporting  Unable to get credit report/credit score     Experian   \n",
       "2      Student loan        Dealing with my lender or servicer    AES/PHEAA   \n",
       "\n",
       "  State ZIP_code     Company_response_to_consumer  \n",
       "0    OH    453XX          Closed with explanation  \n",
       "1    FL    320XX  Closed with non-monetary relief  \n",
       "2    PA    151XX          Closed with explanation  "
      ]
     },
     "execution_count": 42,
     "metadata": {},
     "output_type": "execute_result"
    }
   ],
   "source": [
    "df.head(3)"
   ]
  },
  {
   "cell_type": "code",
   "execution_count": 43,
   "metadata": {
    "collapsed": false
   },
   "outputs": [
    {
     "data": {
      "text/plain": [
       "Product                         object\n",
       "Issue                           object\n",
       "Company                         object\n",
       "State                           object\n",
       "ZIP_code                        object\n",
       "Company_response_to_consumer    object\n",
       "dtype: object"
      ]
     },
     "execution_count": 43,
     "metadata": {},
     "output_type": "execute_result"
    }
   ],
   "source": [
    "df.dtypes"
   ]
  },
  {
   "cell_type": "code",
   "execution_count": 44,
   "metadata": {
    "collapsed": true
   },
   "outputs": [],
   "source": [
    "#convert column types to 'category'\n",
    "df['Product'] = df['Product'].astype('category')\n",
    "df['Issue'] = df['Issue'].astype('category')\n",
    "df['Company'] = df['Company'].astype('category')\n",
    "df['State'] = df['State'].astype('category')\n",
    "df['ZIP_code'] = df['ZIP_code'].astype('category')\n",
    "df['Company_response_to_consumer'] = df['Company_response_to_consumer'].astype('category')"
   ]
  },
  {
   "cell_type": "code",
   "execution_count": 45,
   "metadata": {
    "collapsed": false
   },
   "outputs": [
    {
     "data": {
      "text/plain": [
       "Product                         category\n",
       "Issue                           category\n",
       "Company                         category\n",
       "State                           category\n",
       "ZIP_code                        category\n",
       "Company_response_to_consumer    category\n",
       "dtype: object"
      ]
     },
     "execution_count": 45,
     "metadata": {},
     "output_type": "execute_result"
    }
   ],
   "source": [
    "df.dtypes"
   ]
  },
  {
   "cell_type": "code",
   "execution_count": 46,
   "metadata": {
    "collapsed": false
   },
   "outputs": [
    {
     "data": {
      "text/plain": [
       "Index(['Product', 'Issue', 'Company', 'State', 'ZIP_code',\n",
       "       'Company_response_to_consumer'],\n",
       "      dtype='object')"
      ]
     },
     "execution_count": 46,
     "metadata": {},
     "output_type": "execute_result"
    }
   ],
   "source": [
    "#select columns of 'category' type\n",
    "cat_columns = df.select_dtypes(['category']).columns\n",
    "cat_columns"
   ]
  },
  {
   "cell_type": "code",
   "execution_count": 47,
   "metadata": {
    "collapsed": true
   },
   "outputs": [],
   "source": [
    "#assign number values to categories\n",
    "df[cat_columns] = df[cat_columns].apply(lambda x: x.cat.codes)\n",
    "#-->df"
   ]
  },
  {
   "cell_type": "code",
   "execution_count": 48,
   "metadata": {
    "collapsed": false
   },
   "outputs": [
    {
     "data": {
      "text/html": [
       "<div>\n",
       "<table border=\"1\" class=\"dataframe\">\n",
       "  <thead>\n",
       "    <tr style=\"text-align: right;\">\n",
       "      <th></th>\n",
       "      <th>Product</th>\n",
       "      <th>Issue</th>\n",
       "      <th>Company</th>\n",
       "      <th>State</th>\n",
       "      <th>ZIP_code</th>\n",
       "    </tr>\n",
       "  </thead>\n",
       "  <tbody>\n",
       "    <tr>\n",
       "      <th>0</th>\n",
       "      <td>1</td>\n",
       "      <td>82</td>\n",
       "      <td>461</td>\n",
       "      <td>43</td>\n",
       "      <td>433</td>\n",
       "    </tr>\n",
       "    <tr>\n",
       "      <th>1</th>\n",
       "      <td>3</td>\n",
       "      <td>85</td>\n",
       "      <td>874</td>\n",
       "      <td>13</td>\n",
       "      <td>307</td>\n",
       "    </tr>\n",
       "    <tr>\n",
       "      <th>2</th>\n",
       "      <td>10</td>\n",
       "      <td>34</td>\n",
       "      <td>31</td>\n",
       "      <td>46</td>\n",
       "      <td>144</td>\n",
       "    </tr>\n",
       "    <tr>\n",
       "      <th>3</th>\n",
       "      <td>3</td>\n",
       "      <td>49</td>\n",
       "      <td>2416</td>\n",
       "      <td>3</td>\n",
       "      <td>343</td>\n",
       "    </tr>\n",
       "    <tr>\n",
       "      <th>4</th>\n",
       "      <td>6</td>\n",
       "      <td>57</td>\n",
       "      <td>2524</td>\n",
       "      <td>31</td>\n",
       "      <td>596</td>\n",
       "    </tr>\n",
       "  </tbody>\n",
       "</table>\n",
       "</div>"
      ],
      "text/plain": [
       "   Product  Issue  Company  State  ZIP_code\n",
       "0        1     82      461     43       433\n",
       "1        3     85      874     13       307\n",
       "2       10     34       31     46       144\n",
       "3        3     49     2416      3       343\n",
       "4        6     57     2524     31       596"
      ]
     },
     "execution_count": 48,
     "metadata": {},
     "output_type": "execute_result"
    }
   ],
   "source": [
    "#seperate class/target column from rest of data\n",
    "df_target = df[\"Company_response_to_consumer\"] #dataframe with only consumer complaint\n",
    "df_vec = df.drop('Company_response_to_consumer', 1) #dataframe with all except consumer complaint\n",
    "df_vec.head()\n",
    "#-->df_target"
   ]
  },
  {
   "cell_type": "code",
   "execution_count": 49,
   "metadata": {
    "collapsed": false
   },
   "outputs": [
    {
     "data": {
      "text/plain": [
       "array([[   1,   82,  461,   43,  433],\n",
       "       [   3,   85,  874,   13,  307],\n",
       "       [  10,   34,   31,   46,  144],\n",
       "       ..., \n",
       "       [  10,   34, 1688,   20,  568],\n",
       "       [  10,   34, 1688,   35,  264],\n",
       "       [  10,   16, 1688,   15,  287]], dtype=int16)"
      ]
     },
     "execution_count": 49,
     "metadata": {},
     "output_type": "execute_result"
    }
   ],
   "source": [
    "#convert df_vec dataframe to vector (any of the two sets of code will do)\n",
    "df_matrix=df_vec.values\n",
    "df_matrix\n",
    "#numpyMatrix = df_vec.as_matrix()\n",
    "#numpyMatrix"
   ]
  },
  {
   "cell_type": "code",
   "execution_count": 50,
   "metadata": {
    "collapsed": true
   },
   "outputs": [],
   "source": [
    "#split data into train and test set\n",
    "vec_train, vec_test, target_train, target_test = train_test_split(df_matrix, df_target, test_size=0.2, random_state=4)\n",
    "#-->vec_train\n",
    "#-->vec_test"
   ]
  },
  {
   "cell_type": "code",
   "execution_count": 51,
   "metadata": {
    "collapsed": true
   },
   "outputs": [],
   "source": [
    "#machine learning algorithhm used for classification\n",
    "mnb = MultinomialNB()\n",
    "gnb = GaussianNB()"
   ]
  },
  {
   "cell_type": "code",
   "execution_count": 52,
   "metadata": {
    "collapsed": true
   },
   "outputs": [],
   "source": [
    "#covert to integer type to enable classification\n",
    "#target_train = target_train.astype('int')\n",
    "#vec_train = vec_train.astype('int')\n",
    "\n",
    "#=======================================================================================================================#\n",
    "# Beginning of Experiment 1: GaussianNB on Product\tIssue\tCompany \tState\tZIP_code"
   ]
  },
  {
   "cell_type": "code",
   "execution_count": 53,
   "metadata": {
    "collapsed": false
   },
   "outputs": [
    {
     "data": {
      "text/plain": [
       "GaussianNB()"
      ]
     },
     "execution_count": 53,
     "metadata": {},
     "output_type": "execute_result"
    }
   ],
   "source": [
    "#build classifier on train set\n",
    "gnb.fit(vec_train, target_train)"
   ]
  },
  {
   "cell_type": "code",
   "execution_count": 54,
   "metadata": {
    "collapsed": false
   },
   "outputs": [
    {
     "data": {
      "text/plain": [
       "array([0, 0, 0, ..., 0, 0, 0], dtype=int8)"
      ]
     },
     "execution_count": 54,
     "metadata": {},
     "output_type": "execute_result"
    }
   ],
   "source": [
    "#use built classifier to predict labels of test set\n",
    "gnb_pred = gnb.predict(vec_test)\n",
    "gnb_pred"
   ]
  },
  {
   "cell_type": "code",
   "execution_count": 55,
   "metadata": {
    "collapsed": false
   },
   "outputs": [
    {
     "data": {
      "text/plain": [
       "array([0, 0, 0, ..., 0, 0, 0], dtype=int8)"
      ]
     },
     "execution_count": 55,
     "metadata": {},
     "output_type": "execute_result"
    }
   ],
   "source": [
    "#get actual labels of test set\n",
    "actual = np.array(target_test)\n",
    "actual"
   ]
  },
  {
   "cell_type": "code",
   "execution_count": 56,
   "metadata": {
    "collapsed": false
   },
   "outputs": [],
   "source": [
    "#count correct predictions\n",
    "actualExp = 0 # counts actual 'closed with explanation' OR (0) labels\n",
    "actualRel = 0 # counts actual 'closed with monetary relief' OR (1) labels\n",
    "actualNon = 0 # counts actual 'closed with non-monetary relief' OR (2) labels\n",
    "\n",
    "predExp = 0 # counts correct predicted 0 labels\n",
    "predExp_Rel = 0 # counts incorrect predictions of 0 when 1\n",
    "predExp_Non = 0 # counts incorrect predictions of 0 when 2\n",
    "\n",
    "predRel = 0 # counts correct predicted 1 labels\n",
    "predRel_Exp = 0 # counts incorrect predicitons of 1 when 0\n",
    "predRel_Non = 0 # counts incorrect predictions of 1 when 2\n",
    "\n",
    "predNon = 0 # counts correct predicted 2 labels\n",
    "predNon_Exp = 0 # counts incorrect predictions of 2 when 0\n",
    "predNon_Rel = 0 # counts incorrect predicitons of 2 when 1"
   ]
  },
  {
   "cell_type": "code",
   "execution_count": 57,
   "metadata": {
    "collapsed": false
   },
   "outputs": [
    {
     "data": {
      "text/plain": [
       "21654"
      ]
     },
     "execution_count": 57,
     "metadata": {},
     "output_type": "execute_result"
    }
   ],
   "source": [
    "count = 0\n",
    "for i in range (len(gnb_pred)):\n",
    "    if gnb_pred[i] == actual[i]:\n",
    "        count = count + 1\n",
    "count\n"
   ]
  },
  {
   "cell_type": "code",
   "execution_count": 59,
   "metadata": {
    "collapsed": false
   },
   "outputs": [],
   "source": [
    "for i in range (len(gnb_pred)):\n",
    "    act = actual[i]\n",
    "    pred = gnb_pred[i]\n",
    "    \n",
    "    if pred == act:\n",
    "        if act == 0:\n",
    "            predExp = predExp + 1\n",
    "            actualExp = actualExp + 1\n",
    "        elif act == 1:\n",
    "            predRel = predRel + 1\n",
    "            actualRel = actualRel + 1\n",
    "        elif act == 2:\n",
    "            predNon = predNon + 1\n",
    "            actualNon = actualNon + 1\n",
    "    \n",
    "    else:\n",
    "        if act == 0:\n",
    "            actualExp = actualExp + 1\n",
    "            if pred == 1:\n",
    "                predRel_Exp = predRel_Exp + 1\n",
    "            elif pred == 2:\n",
    "                predNon_Exp = predNon_Exp + 1\n",
    "        if act == 1:\n",
    "            actualRel = actualRel + 1\n",
    "            if pred == 0:\n",
    "                predExp_Rel = predExp_Rel + 1\n",
    "            elif pred == 2:\n",
    "                predNon_Rel = predNon_Rel + 1\n",
    "        if act == 2:\n",
    "            actualNon = actualNon + 1\n",
    "            if pred == 0:\n",
    "                predExp_Non = predExp_Non + 1\n",
    "            elif pred == 1:\n",
    "                predRel_Non = predRel_Non + 1"
   ]
  },
  {
   "cell_type": "code",
   "execution_count": 60,
   "metadata": {
    "collapsed": false
   },
   "outputs": [
    {
     "data": {
      "text/plain": [
       "21654"
      ]
     },
     "execution_count": 60,
     "metadata": {},
     "output_type": "execute_result"
    }
   ],
   "source": [
    "predExp"
   ]
  },
  {
   "cell_type": "code",
   "execution_count": 61,
   "metadata": {
    "collapsed": false
   },
   "outputs": [
    {
     "data": {
      "text/plain": [
       "1948"
      ]
     },
     "execution_count": 61,
     "metadata": {},
     "output_type": "execute_result"
    }
   ],
   "source": [
    "predExp_Rel"
   ]
  },
  {
   "cell_type": "code",
   "execution_count": 62,
   "metadata": {
    "collapsed": false
   },
   "outputs": [
    {
     "data": {
      "text/plain": [
       "3369"
      ]
     },
     "execution_count": 62,
     "metadata": {},
     "output_type": "execute_result"
    }
   ],
   "source": [
    "predExp_Non"
   ]
  },
  {
   "cell_type": "code",
   "execution_count": 63,
   "metadata": {
    "collapsed": false
   },
   "outputs": [
    {
     "data": {
      "text/plain": [
       "0"
      ]
     },
     "execution_count": 63,
     "metadata": {},
     "output_type": "execute_result"
    }
   ],
   "source": [
    "predRel"
   ]
  },
  {
   "cell_type": "code",
   "execution_count": 64,
   "metadata": {
    "collapsed": false
   },
   "outputs": [
    {
     "data": {
      "text/plain": [
       "0"
      ]
     },
     "execution_count": 64,
     "metadata": {},
     "output_type": "execute_result"
    }
   ],
   "source": [
    "predRel_Exp"
   ]
  },
  {
   "cell_type": "code",
   "execution_count": 65,
   "metadata": {
    "collapsed": false
   },
   "outputs": [
    {
     "data": {
      "text/plain": [
       "0"
      ]
     },
     "execution_count": 65,
     "metadata": {},
     "output_type": "execute_result"
    }
   ],
   "source": [
    "predRel_Non"
   ]
  },
  {
   "cell_type": "code",
   "execution_count": 66,
   "metadata": {
    "collapsed": false
   },
   "outputs": [
    {
     "data": {
      "text/plain": [
       "0"
      ]
     },
     "execution_count": 66,
     "metadata": {},
     "output_type": "execute_result"
    }
   ],
   "source": [
    "predNon"
   ]
  },
  {
   "cell_type": "code",
   "execution_count": 67,
   "metadata": {
    "collapsed": false
   },
   "outputs": [
    {
     "data": {
      "text/plain": [
       "0"
      ]
     },
     "execution_count": 67,
     "metadata": {},
     "output_type": "execute_result"
    }
   ],
   "source": [
    "predNon_Exp"
   ]
  },
  {
   "cell_type": "code",
   "execution_count": 68,
   "metadata": {
    "collapsed": false
   },
   "outputs": [
    {
     "data": {
      "text/plain": [
       "0"
      ]
     },
     "execution_count": 68,
     "metadata": {},
     "output_type": "execute_result"
    }
   ],
   "source": [
    "predNon_Rel"
   ]
  },
  {
   "cell_type": "code",
   "execution_count": 69,
   "metadata": {
    "collapsed": false
   },
   "outputs": [
    {
     "data": {
      "text/plain": [
       "21654"
      ]
     },
     "execution_count": 69,
     "metadata": {},
     "output_type": "execute_result"
    }
   ],
   "source": [
    "actualExp"
   ]
  },
  {
   "cell_type": "code",
   "execution_count": 70,
   "metadata": {
    "collapsed": false
   },
   "outputs": [
    {
     "data": {
      "text/plain": [
       "1948"
      ]
     },
     "execution_count": 70,
     "metadata": {},
     "output_type": "execute_result"
    }
   ],
   "source": [
    "actualRel"
   ]
  },
  {
   "cell_type": "code",
   "execution_count": 71,
   "metadata": {
    "collapsed": false
   },
   "outputs": [
    {
     "data": {
      "text/plain": [
       "3369"
      ]
     },
     "execution_count": 71,
     "metadata": {},
     "output_type": "execute_result"
    }
   ],
   "source": [
    "actualNon"
   ]
  },
  {
   "cell_type": "code",
   "execution_count": 72,
   "metadata": {
    "collapsed": true
   },
   "outputs": [],
   "source": [
    "# End of Experiment 1: GaussianNB on Product\tIssue\tCompany \tState\tZIP_code\n",
    "# =======================================================================================================================#\n",
    "# Beginning of Experiment 2:MultinomialNB on Product\tIssue\tCompany"
   ]
  },
  {
   "cell_type": "code",
   "execution_count": 73,
   "metadata": {
    "collapsed": false
   },
   "outputs": [
    {
     "data": {
      "text/plain": [
       "414"
      ]
     },
     "execution_count": 73,
     "metadata": {},
     "output_type": "execute_result"
    }
   ],
   "source": [
    "# NOTE: MultinomialNB did not work initially because 'State' and 'ZIP_code' contain null inputs which gets changed to -1 by\n",
    "# the category transformation. This causes an error because MultinomialNB cannot operate on negative values. So in order to test\n",
    "# prediction on MultinomialNB I'll be removing 'State' and 'ZIP_code' from the data and matrix\n",
    "\n",
    "len(df_vec[df_vec.State < 0])"
   ]
  },
  {
   "cell_type": "code",
   "execution_count": 74,
   "metadata": {
    "collapsed": false
   },
   "outputs": [
    {
     "data": {
      "text/html": [
       "<div>\n",
       "<table border=\"1\" class=\"dataframe\">\n",
       "  <thead>\n",
       "    <tr style=\"text-align: right;\">\n",
       "      <th></th>\n",
       "      <th>Product</th>\n",
       "      <th>Issue</th>\n",
       "      <th>Company</th>\n",
       "    </tr>\n",
       "  </thead>\n",
       "  <tbody>\n",
       "    <tr>\n",
       "      <th>0</th>\n",
       "      <td>1</td>\n",
       "      <td>82</td>\n",
       "      <td>461</td>\n",
       "    </tr>\n",
       "    <tr>\n",
       "      <th>1</th>\n",
       "      <td>3</td>\n",
       "      <td>85</td>\n",
       "      <td>874</td>\n",
       "    </tr>\n",
       "    <tr>\n",
       "      <th>2</th>\n",
       "      <td>10</td>\n",
       "      <td>34</td>\n",
       "      <td>31</td>\n",
       "    </tr>\n",
       "    <tr>\n",
       "      <th>3</th>\n",
       "      <td>3</td>\n",
       "      <td>49</td>\n",
       "      <td>2416</td>\n",
       "    </tr>\n",
       "    <tr>\n",
       "      <th>4</th>\n",
       "      <td>6</td>\n",
       "      <td>57</td>\n",
       "      <td>2524</td>\n",
       "    </tr>\n",
       "  </tbody>\n",
       "</table>\n",
       "</div>"
      ],
      "text/plain": [
       "   Product  Issue  Company\n",
       "0        1     82      461\n",
       "1        3     85      874\n",
       "2       10     34       31\n",
       "3        3     49     2416\n",
       "4        6     57     2524"
      ]
     },
     "execution_count": 74,
     "metadata": {},
     "output_type": "execute_result"
    }
   ],
   "source": [
    "df_vec2 = df_vec.drop('State', 1)\n",
    "df_vec2 = df_vec2.drop('ZIP_code', 1)\n",
    "df_vec2.head()"
   ]
  },
  {
   "cell_type": "code",
   "execution_count": 75,
   "metadata": {
    "collapsed": false
   },
   "outputs": [
    {
     "data": {
      "text/plain": [
       "array([[   1,   82,  461],\n",
       "       [   3,   85,  874],\n",
       "       [  10,   34,   31],\n",
       "       ..., \n",
       "       [  10,   34, 1688],\n",
       "       [  10,   34, 1688],\n",
       "       [  10,   16, 1688]], dtype=int16)"
      ]
     },
     "execution_count": 75,
     "metadata": {},
     "output_type": "execute_result"
    }
   ],
   "source": [
    "#convert df_vec dataframe to vector (any of the two sets of code will do)\n",
    "df_matrix2 = df_vec2.values\n",
    "df_matrix2\n",
    "#numpyMatrix = df_vec.as_matrix()\n",
    "#numpyMatrix"
   ]
  },
  {
   "cell_type": "code",
   "execution_count": 76,
   "metadata": {
    "collapsed": true
   },
   "outputs": [],
   "source": [
    "#split data into train and test set\n",
    "vec_train2, vec_test2, target_train2, target_test2 = train_test_split(df_matrix2, df_target, test_size=0.2, random_state=4)\n",
    "#-->vec_train\n",
    "#-->vec_test"
   ]
  },
  {
   "cell_type": "code",
   "execution_count": 77,
   "metadata": {
    "collapsed": false
   },
   "outputs": [
    {
     "data": {
      "text/plain": [
       "MultinomialNB(alpha=1.0, class_prior=None, fit_prior=True)"
      ]
     },
     "execution_count": 77,
     "metadata": {},
     "output_type": "execute_result"
    }
   ],
   "source": [
    "#build classifier on train set\n",
    "mnb.fit(vec_train2, target_train2)"
   ]
  },
  {
   "cell_type": "code",
   "execution_count": 93,
   "metadata": {
    "collapsed": false
   },
   "outputs": [
    {
     "data": {
      "text/plain": [
       "array([0, 0, 0, ..., 0, 0, 0], dtype=int8)"
      ]
     },
     "execution_count": 93,
     "metadata": {},
     "output_type": "execute_result"
    }
   ],
   "source": [
    "#use built classifier to predict labels of test set\n",
    "mnb_pred = mnb.predict(vec_test2)\n",
    "mnb_pred"
   ]
  },
  {
   "cell_type": "code",
   "execution_count": 94,
   "metadata": {
    "collapsed": false
   },
   "outputs": [
    {
     "data": {
      "text/plain": [
       "array([0, 0, 0, ..., 0, 0, 0], dtype=int8)"
      ]
     },
     "execution_count": 94,
     "metadata": {},
     "output_type": "execute_result"
    }
   ],
   "source": [
    "#get actual labels of test set\n",
    "actual2 = np.array(target_test2)\n",
    "actual2"
   ]
  },
  {
   "cell_type": "code",
   "execution_count": 95,
   "metadata": {
    "collapsed": false
   },
   "outputs": [
    {
     "data": {
      "text/plain": [
       "19261"
      ]
     },
     "execution_count": 95,
     "metadata": {},
     "output_type": "execute_result"
    }
   ],
   "source": [
    "#count correct predictions\n",
    "count2 = 0\n",
    "for i in range (len(mnb_pred)):\n",
    "    if mnb_pred[i] == actual2[i]:\n",
    "        count2 = count2 + 1\n",
    "count2"
   ]
  },
  {
   "cell_type": "code",
   "execution_count": 96,
   "metadata": {
    "collapsed": true
   },
   "outputs": [],
   "source": [
    "#count correct predictions\n",
    "actualExp = 0 # counts actual 'closed with explanation' OR (0) labels\n",
    "actualRel = 0 # counts actual 'closed with monetary relief' OR (1) labels\n",
    "actualNon = 0 # counts actual 'closed with non-monetary relief' OR (2) labels\n",
    "\n",
    "predExp = 0 # counts correct predicted 0 labels\n",
    "predExp_Rel = 0 # counts incorrect predictions of 0 when 1\n",
    "predExp_Non = 0 # counts incorrect predictions of 0 when 2\n",
    "\n",
    "predRel = 0 # counts correct predicted 1 labels\n",
    "predRel_Exp = 0 # counts incorrect predicitons of 1 when 0\n",
    "predRel_Non = 0 # counts incorrect predictions of 1 when 2\n",
    "\n",
    "predNon = 0 # counts correct predicted 2 labels\n",
    "predNon_Exp = 0 # counts incorrect predictions of 2 when 0\n",
    "predNon_Rel = 0 # counts incorrect predicitons of 2 when 1"
   ]
  },
  {
   "cell_type": "code",
   "execution_count": 97,
   "metadata": {
    "collapsed": true
   },
   "outputs": [],
   "source": [
    "for i in range (len(gnb_pred)):\n",
    "    act = actual[i]\n",
    "    pred = mnb_pred[i]\n",
    "    \n",
    "    if pred == act:\n",
    "        if act == 0:\n",
    "            predExp = predExp + 1\n",
    "            actualExp = actualExp + 1\n",
    "        elif act == 1:\n",
    "            predRel = predRel + 1\n",
    "            actualRel = actualRel + 1\n",
    "        elif act == 2:\n",
    "            predNon = predNon + 1\n",
    "            actualNon = actualNon + 1\n",
    "    \n",
    "    else:\n",
    "        if act == 0:\n",
    "            actualExp = actualExp + 1\n",
    "            if pred == 1:\n",
    "                predRel_Exp = predRel_Exp + 1\n",
    "            elif pred == 2:\n",
    "                predNon_Exp = predNon_Exp + 1\n",
    "        if act == 1:\n",
    "            actualRel = actualRel + 1\n",
    "            if pred == 0:\n",
    "                predExp_Rel = predExp_Rel + 1\n",
    "            elif pred == 2:\n",
    "                predNon_Rel = predNon_Rel + 1\n",
    "        if act == 2:\n",
    "            actualNon = actualNon + 1\n",
    "            if pred == 0:\n",
    "                predExp_Non = predExp_Non + 1\n",
    "            elif pred == 1:\n",
    "                predRel_Non = predRel_Non + 1"
   ]
  },
  {
   "cell_type": "code",
   "execution_count": 98,
   "metadata": {
    "collapsed": false
   },
   "outputs": [
    {
     "data": {
      "text/plain": [
       "18693"
      ]
     },
     "execution_count": 98,
     "metadata": {},
     "output_type": "execute_result"
    }
   ],
   "source": [
    "predExp"
   ]
  },
  {
   "cell_type": "code",
   "execution_count": 99,
   "metadata": {
    "collapsed": false
   },
   "outputs": [
    {
     "data": {
      "text/plain": [
       "1380"
      ]
     },
     "execution_count": 99,
     "metadata": {},
     "output_type": "execute_result"
    }
   ],
   "source": [
    "predExp_Rel"
   ]
  },
  {
   "cell_type": "code",
   "execution_count": 100,
   "metadata": {
    "collapsed": false
   },
   "outputs": [
    {
     "data": {
      "text/plain": [
       "2934"
      ]
     },
     "execution_count": 100,
     "metadata": {},
     "output_type": "execute_result"
    }
   ],
   "source": [
    "predExp_Non"
   ]
  },
  {
   "cell_type": "code",
   "execution_count": 101,
   "metadata": {
    "collapsed": false
   },
   "outputs": [
    {
     "data": {
      "text/plain": [
       "568"
      ]
     },
     "execution_count": 101,
     "metadata": {},
     "output_type": "execute_result"
    }
   ],
   "source": [
    "predRel"
   ]
  },
  {
   "cell_type": "code",
   "execution_count": 102,
   "metadata": {
    "collapsed": false
   },
   "outputs": [
    {
     "data": {
      "text/plain": [
       "2961"
      ]
     },
     "execution_count": 102,
     "metadata": {},
     "output_type": "execute_result"
    }
   ],
   "source": [
    "predRel_Exp"
   ]
  },
  {
   "cell_type": "code",
   "execution_count": 103,
   "metadata": {
    "collapsed": false
   },
   "outputs": [
    {
     "data": {
      "text/plain": [
       "435"
      ]
     },
     "execution_count": 103,
     "metadata": {},
     "output_type": "execute_result"
    }
   ],
   "source": [
    "predRel_Non"
   ]
  },
  {
   "cell_type": "code",
   "execution_count": 104,
   "metadata": {
    "collapsed": false
   },
   "outputs": [
    {
     "data": {
      "text/plain": [
       "0"
      ]
     },
     "execution_count": 104,
     "metadata": {},
     "output_type": "execute_result"
    }
   ],
   "source": [
    "predNon"
   ]
  },
  {
   "cell_type": "code",
   "execution_count": 105,
   "metadata": {
    "collapsed": false
   },
   "outputs": [
    {
     "data": {
      "text/plain": [
       "0"
      ]
     },
     "execution_count": 105,
     "metadata": {},
     "output_type": "execute_result"
    }
   ],
   "source": [
    "predNon_Exp"
   ]
  },
  {
   "cell_type": "code",
   "execution_count": 106,
   "metadata": {
    "collapsed": false
   },
   "outputs": [
    {
     "data": {
      "text/plain": [
       "0"
      ]
     },
     "execution_count": 106,
     "metadata": {},
     "output_type": "execute_result"
    }
   ],
   "source": [
    "predNon_Rel"
   ]
  },
  {
   "cell_type": "code",
   "execution_count": 107,
   "metadata": {
    "collapsed": false
   },
   "outputs": [
    {
     "data": {
      "text/plain": [
       "0.7141374068443884"
      ]
     },
     "execution_count": 107,
     "metadata": {},
     "output_type": "execute_result"
    }
   ],
   "source": [
    "#accuracy of MultinomialNB\n",
    "(18693+568)/26971"
   ]
  },
  {
   "cell_type": "code",
   "execution_count": null,
   "metadata": {
    "collapsed": true
   },
   "outputs": [],
   "source": [
    "# End of Experiment 2:MultinomialNB on Product\tIssue\tCompany\n",
    "# =======================================================================================================================#"
   ]
  }
 ],
 "metadata": {
  "anaconda-cloud": {},
  "kernelspec": {
   "display_name": "Python [Root]",
   "language": "python",
   "name": "Python [Root]"
  },
  "language_info": {
   "codemirror_mode": {
    "name": "ipython",
    "version": 3
   },
   "file_extension": ".py",
   "mimetype": "text/x-python",
   "name": "python",
   "nbconvert_exporter": "python",
   "pygments_lexer": "ipython3",
   "version": "3.5.2"
  }
 },
 "nbformat": 4,
 "nbformat_minor": 0
}
