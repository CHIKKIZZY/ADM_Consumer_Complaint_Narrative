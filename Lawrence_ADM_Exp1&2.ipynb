{
 "cells": [
  {
   "cell_type": "code",
   "execution_count": 188,
   "metadata": {
    "collapsed": true
   },
   "outputs": [],
   "source": [
    "import numpy as np\n",
    "import pandas as pd\n",
    "from matplotlib import pyplot as plt\n",
    "from sklearn.ensemble import RandomForestClassifier\n",
    "from sklearn.cross_validation import train_test_split\n",
    "from sklearn.naive_bayes import MultinomialNB\n",
    "from sklearn.naive_bayes import GaussianNB\n",
    "%matplotlib inline"
   ]
  },
  {
   "cell_type": "code",
   "execution_count": 189,
   "metadata": {
    "collapsed": true
   },
   "outputs": [],
   "source": [
    "data = pd.read_csv('Consumer_Complaints_with_Consumer_Complaint_Narratives.csv')"
   ]
  },
  {
   "cell_type": "code",
   "execution_count": 198,
   "metadata": {
    "collapsed": false
   },
   "outputs": [
    {
     "data": {
      "text/html": [
       "<div>\n",
       "<table border=\"1\" class=\"dataframe\">\n",
       "  <thead>\n",
       "    <tr style=\"text-align: right;\">\n",
       "      <th></th>\n",
       "      <th>Date_received</th>\n",
       "      <th>Product</th>\n",
       "      <th>Sub-product</th>\n",
       "      <th>Issue</th>\n",
       "      <th>Sub-issue</th>\n",
       "      <th>Consumer_complaint_narrative</th>\n",
       "      <th>Company_public_response</th>\n",
       "      <th>Company</th>\n",
       "      <th>State</th>\n",
       "      <th>ZIP_code</th>\n",
       "      <th>Tags</th>\n",
       "      <th>Consumer_consent_provided?</th>\n",
       "      <th>Submitted_via</th>\n",
       "      <th>Date_sent_to_company</th>\n",
       "      <th>Company_response_to_consumer</th>\n",
       "      <th>Timely_response?</th>\n",
       "      <th>Consumer_disputed?</th>\n",
       "      <th>Complaint_ID</th>\n",
       "    </tr>\n",
       "  </thead>\n",
       "  <tbody>\n",
       "    <tr>\n",
       "      <th>0</th>\n",
       "      <td>12/2/2016</td>\n",
       "      <td>Consumer Loan</td>\n",
       "      <td>Vehicle loan</td>\n",
       "      <td>Taking out the loan or lease</td>\n",
       "      <td>NaN</td>\n",
       "      <td>Capitol One 360 keeps changing what I owe on m...</td>\n",
       "      <td>NaN</td>\n",
       "      <td>Capital One</td>\n",
       "      <td>OH</td>\n",
       "      <td>453XX</td>\n",
       "      <td>NaN</td>\n",
       "      <td>Consent provided</td>\n",
       "      <td>Web</td>\n",
       "      <td>12/2/2016</td>\n",
       "      <td>Closed with explanation</td>\n",
       "      <td>Yes</td>\n",
       "      <td>No</td>\n",
       "      <td>2233355</td>\n",
       "    </tr>\n",
       "    <tr>\n",
       "      <th>1</th>\n",
       "      <td>12/15/2016</td>\n",
       "      <td>Credit reporting</td>\n",
       "      <td>NaN</td>\n",
       "      <td>Unable to get credit report/credit score</td>\n",
       "      <td>Problem getting my free annual report</td>\n",
       "      <td>I requested all XXXX reports. I got through th...</td>\n",
       "      <td>Company has responded to the consumer and the ...</td>\n",
       "      <td>Experian</td>\n",
       "      <td>FL</td>\n",
       "      <td>320XX</td>\n",
       "      <td>NaN</td>\n",
       "      <td>Consent provided</td>\n",
       "      <td>Web</td>\n",
       "      <td>12/15/2016</td>\n",
       "      <td>Closed with non-monetary relief</td>\n",
       "      <td>Yes</td>\n",
       "      <td>No</td>\n",
       "      <td>2252210</td>\n",
       "    </tr>\n",
       "    <tr>\n",
       "      <th>2</th>\n",
       "      <td>11/13/2016</td>\n",
       "      <td>Student loan</td>\n",
       "      <td>Federal student loan servicing</td>\n",
       "      <td>Dealing with my lender or servicer</td>\n",
       "      <td>Having problems with customer service</td>\n",
       "      <td>I received a forberance on my loans last sprin...</td>\n",
       "      <td>NaN</td>\n",
       "      <td>AES/PHEAA</td>\n",
       "      <td>PA</td>\n",
       "      <td>151XX</td>\n",
       "      <td>NaN</td>\n",
       "      <td>Consent provided</td>\n",
       "      <td>Web</td>\n",
       "      <td>11/15/2016</td>\n",
       "      <td>Closed with explanation</td>\n",
       "      <td>Yes</td>\n",
       "      <td>No</td>\n",
       "      <td>2205926</td>\n",
       "    </tr>\n",
       "  </tbody>\n",
       "</table>\n",
       "</div>"
      ],
      "text/plain": [
       "  Date_received           Product                     Sub-product  \\\n",
       "0     12/2/2016     Consumer Loan                    Vehicle loan   \n",
       "1    12/15/2016  Credit reporting                             NaN   \n",
       "2    11/13/2016      Student loan  Federal student loan servicing   \n",
       "\n",
       "                                      Issue  \\\n",
       "0              Taking out the loan or lease   \n",
       "1  Unable to get credit report/credit score   \n",
       "2        Dealing with my lender or servicer   \n",
       "\n",
       "                               Sub-issue  \\\n",
       "0                                    NaN   \n",
       "1  Problem getting my free annual report   \n",
       "2  Having problems with customer service   \n",
       "\n",
       "                        Consumer_complaint_narrative  \\\n",
       "0  Capitol One 360 keeps changing what I owe on m...   \n",
       "1  I requested all XXXX reports. I got through th...   \n",
       "2  I received a forberance on my loans last sprin...   \n",
       "\n",
       "                             Company_public_response      Company State  \\\n",
       "0                                                NaN  Capital One    OH   \n",
       "1  Company has responded to the consumer and the ...     Experian    FL   \n",
       "2                                                NaN    AES/PHEAA    PA   \n",
       "\n",
       "  ZIP_code Tags Consumer_consent_provided? Submitted_via Date_sent_to_company  \\\n",
       "0    453XX  NaN           Consent provided           Web            12/2/2016   \n",
       "1    320XX  NaN           Consent provided           Web           12/15/2016   \n",
       "2    151XX  NaN           Consent provided           Web           11/15/2016   \n",
       "\n",
       "      Company_response_to_consumer Timely_response? Consumer_disputed?  \\\n",
       "0          Closed with explanation              Yes                 No   \n",
       "1  Closed with non-monetary relief              Yes                 No   \n",
       "2          Closed with explanation              Yes                 No   \n",
       "\n",
       "   Complaint_ID  \n",
       "0       2233355  \n",
       "1       2252210  \n",
       "2       2205926  "
      ]
     },
     "execution_count": 198,
     "metadata": {},
     "output_type": "execute_result"
    }
   ],
   "source": [
    "data.head(3)"
   ]
  },
  {
   "cell_type": "code",
   "execution_count": 199,
   "metadata": {
    "collapsed": false
   },
   "outputs": [
    {
     "data": {
      "text/html": [
       "<div>\n",
       "<table border=\"1\" class=\"dataframe\">\n",
       "  <thead>\n",
       "    <tr style=\"text-align: right;\">\n",
       "      <th></th>\n",
       "      <th>Date_received</th>\n",
       "      <th>Product</th>\n",
       "      <th>Sub-product</th>\n",
       "      <th>Issue</th>\n",
       "      <th>Sub-issue</th>\n",
       "      <th>Consumer_complaint_narrative</th>\n",
       "      <th>Company_public_response</th>\n",
       "      <th>Company</th>\n",
       "      <th>State</th>\n",
       "      <th>ZIP_code</th>\n",
       "      <th>Tags</th>\n",
       "      <th>Consumer_consent_provided?</th>\n",
       "      <th>Submitted_via</th>\n",
       "      <th>Date_sent_to_company</th>\n",
       "      <th>Company_response_to_consumer</th>\n",
       "      <th>Timely_response?</th>\n",
       "      <th>Consumer_disputed?</th>\n",
       "      <th>Complaint_ID</th>\n",
       "    </tr>\n",
       "  </thead>\n",
       "  <tbody>\n",
       "    <tr>\n",
       "      <th>139376</th>\n",
       "      <td>8/7/2015</td>\n",
       "      <td>Student loan</td>\n",
       "      <td>Non-federal student loan</td>\n",
       "      <td>Dealing with my lender or servicer</td>\n",
       "      <td>Keep getting calls about my loan</td>\n",
       "      <td>XXXX : XXXX University, XXXX, NC. \\nXXXX XXXX ...</td>\n",
       "      <td>NaN</td>\n",
       "      <td>Navient Solutions, LLC.</td>\n",
       "      <td>NC</td>\n",
       "      <td>277XX</td>\n",
       "      <td>NaN</td>\n",
       "      <td>Consent provided</td>\n",
       "      <td>Web</td>\n",
       "      <td>8/13/2015</td>\n",
       "      <td>Closed with explanation</td>\n",
       "      <td>Yes</td>\n",
       "      <td>No</td>\n",
       "      <td>1508714</td>\n",
       "    </tr>\n",
       "    <tr>\n",
       "      <th>139377</th>\n",
       "      <td>2/11/2016</td>\n",
       "      <td>Student loan</td>\n",
       "      <td>Non-federal student loan</td>\n",
       "      <td>Can't repay my loan</td>\n",
       "      <td>Can't get flexible payment options</td>\n",
       "      <td>I am have been making payments to Navient priv...</td>\n",
       "      <td>NaN</td>\n",
       "      <td>Navient Solutions, LLC.</td>\n",
       "      <td>GA</td>\n",
       "      <td>300XX</td>\n",
       "      <td>NaN</td>\n",
       "      <td>Consent provided</td>\n",
       "      <td>Web</td>\n",
       "      <td>2/16/2016</td>\n",
       "      <td>Closed with explanation</td>\n",
       "      <td>Yes</td>\n",
       "      <td>No</td>\n",
       "      <td>1782604</td>\n",
       "    </tr>\n",
       "  </tbody>\n",
       "</table>\n",
       "</div>"
      ],
      "text/plain": [
       "       Date_received       Product               Sub-product  \\\n",
       "139376      8/7/2015  Student loan  Non-federal student loan   \n",
       "139377     2/11/2016  Student loan  Non-federal student loan   \n",
       "\n",
       "                                     Issue  \\\n",
       "139376  Dealing with my lender or servicer   \n",
       "139377                 Can't repay my loan   \n",
       "\n",
       "                                 Sub-issue  \\\n",
       "139376    Keep getting calls about my loan   \n",
       "139377  Can't get flexible payment options   \n",
       "\n",
       "                             Consumer_complaint_narrative  \\\n",
       "139376  XXXX : XXXX University, XXXX, NC. \\nXXXX XXXX ...   \n",
       "139377  I am have been making payments to Navient priv...   \n",
       "\n",
       "       Company_public_response                  Company State ZIP_code Tags  \\\n",
       "139376                     NaN  Navient Solutions, LLC.    NC    277XX  NaN   \n",
       "139377                     NaN  Navient Solutions, LLC.    GA    300XX  NaN   \n",
       "\n",
       "       Consumer_consent_provided? Submitted_via Date_sent_to_company  \\\n",
       "139376           Consent provided           Web            8/13/2015   \n",
       "139377           Consent provided           Web            2/16/2016   \n",
       "\n",
       "       Company_response_to_consumer Timely_response? Consumer_disputed?  \\\n",
       "139376      Closed with explanation              Yes                 No   \n",
       "139377      Closed with explanation              Yes                 No   \n",
       "\n",
       "        Complaint_ID  \n",
       "139376       1508714  \n",
       "139377       1782604  "
      ]
     },
     "execution_count": 199,
     "metadata": {},
     "output_type": "execute_result"
    }
   ],
   "source": [
    "data.tail(2)"
   ]
  },
  {
   "cell_type": "code",
   "execution_count": 200,
   "metadata": {
    "collapsed": false
   },
   "outputs": [],
   "source": [
    "#-->data['Company_response_to_consumer']"
   ]
  },
  {
   "cell_type": "code",
   "execution_count": 201,
   "metadata": {
    "collapsed": false
   },
   "outputs": [],
   "source": [
    "#filter and retain records with desired company response labels\n",
    "responselist = ['Closed with explanation', 'Closed with non-monetary relief', 'Closed with monetary relief']\n",
    "df = data[data.Company_response_to_consumer.isin(responselist)]"
   ]
  },
  {
   "cell_type": "code",
   "execution_count": 202,
   "metadata": {
    "collapsed": false
   },
   "outputs": [
    {
     "data": {
      "text/plain": [
       "134855"
      ]
     },
     "execution_count": 202,
     "metadata": {},
     "output_type": "execute_result"
    }
   ],
   "source": [
    "#-->df['Company_response_to_consumer']\n",
    "len(df.index) #number of records"
   ]
  },
  {
   "cell_type": "code",
   "execution_count": 203,
   "metadata": {
    "collapsed": false
   },
   "outputs": [],
   "source": [
    "#drop features/columns not needed for experiment\n",
    "df = df.drop('Date_received', 1)\n",
    "df = df.drop('Sub-product', 1)\n",
    "df = df.drop('Sub-issue', 1)\n",
    "df = df.drop('Consumer_complaint_narrative', 1)\n",
    "df = df.drop('Company_public_response', 1)\n",
    "df = df.drop('Tags', 1)\n",
    "df = df.drop('Consumer_consent_provided?', 1)\n",
    "df = df.drop('Submitted_via', 1)\n",
    "df = df.drop('Date_sent_to_company', 1)\n",
    "df = df.drop('Timely_response?', 1)\n",
    "df = df.drop('Consumer_disputed?', 1)\n",
    "df = df.drop('Complaint_ID', 1)"
   ]
  },
  {
   "cell_type": "code",
   "execution_count": 204,
   "metadata": {
    "collapsed": false
   },
   "outputs": [
    {
     "data": {
      "text/html": [
       "<div>\n",
       "<table border=\"1\" class=\"dataframe\">\n",
       "  <thead>\n",
       "    <tr style=\"text-align: right;\">\n",
       "      <th></th>\n",
       "      <th>Product</th>\n",
       "      <th>Issue</th>\n",
       "      <th>Company</th>\n",
       "      <th>State</th>\n",
       "      <th>ZIP_code</th>\n",
       "      <th>Company_response_to_consumer</th>\n",
       "    </tr>\n",
       "  </thead>\n",
       "  <tbody>\n",
       "    <tr>\n",
       "      <th>0</th>\n",
       "      <td>Consumer Loan</td>\n",
       "      <td>Taking out the loan or lease</td>\n",
       "      <td>Capital One</td>\n",
       "      <td>OH</td>\n",
       "      <td>453XX</td>\n",
       "      <td>Closed with explanation</td>\n",
       "    </tr>\n",
       "    <tr>\n",
       "      <th>1</th>\n",
       "      <td>Credit reporting</td>\n",
       "      <td>Unable to get credit report/credit score</td>\n",
       "      <td>Experian</td>\n",
       "      <td>FL</td>\n",
       "      <td>320XX</td>\n",
       "      <td>Closed with non-monetary relief</td>\n",
       "    </tr>\n",
       "    <tr>\n",
       "      <th>2</th>\n",
       "      <td>Student loan</td>\n",
       "      <td>Dealing with my lender or servicer</td>\n",
       "      <td>AES/PHEAA</td>\n",
       "      <td>PA</td>\n",
       "      <td>151XX</td>\n",
       "      <td>Closed with explanation</td>\n",
       "    </tr>\n",
       "    <tr>\n",
       "      <th>3</th>\n",
       "      <td>Credit reporting</td>\n",
       "      <td>Incorrect information on credit report</td>\n",
       "      <td>TransUnion Intermediate Holdings, Inc.</td>\n",
       "      <td>AL</td>\n",
       "      <td>358XX</td>\n",
       "      <td>Closed with explanation</td>\n",
       "    </tr>\n",
       "    <tr>\n",
       "      <th>4</th>\n",
       "      <td>Mortgage</td>\n",
       "      <td>Loan servicing, payments, escrow account</td>\n",
       "      <td>Vanderbilt Mortgage &amp; Finance</td>\n",
       "      <td>MO</td>\n",
       "      <td>630XX</td>\n",
       "      <td>Closed with explanation</td>\n",
       "    </tr>\n",
       "  </tbody>\n",
       "</table>\n",
       "</div>"
      ],
      "text/plain": [
       "            Product                                     Issue  \\\n",
       "0     Consumer Loan              Taking out the loan or lease   \n",
       "1  Credit reporting  Unable to get credit report/credit score   \n",
       "2      Student loan        Dealing with my lender or servicer   \n",
       "3  Credit reporting    Incorrect information on credit report   \n",
       "4          Mortgage  Loan servicing, payments, escrow account   \n",
       "\n",
       "                                  Company State ZIP_code  \\\n",
       "0                             Capital One    OH    453XX   \n",
       "1                                Experian    FL    320XX   \n",
       "2                               AES/PHEAA    PA    151XX   \n",
       "3  TransUnion Intermediate Holdings, Inc.    AL    358XX   \n",
       "4           Vanderbilt Mortgage & Finance    MO    630XX   \n",
       "\n",
       "      Company_response_to_consumer  \n",
       "0          Closed with explanation  \n",
       "1  Closed with non-monetary relief  \n",
       "2          Closed with explanation  \n",
       "3          Closed with explanation  \n",
       "4          Closed with explanation  "
      ]
     },
     "execution_count": 204,
     "metadata": {},
     "output_type": "execute_result"
    }
   ],
   "source": [
    "df.head()"
   ]
  },
  {
   "cell_type": "code",
   "execution_count": 205,
   "metadata": {
    "collapsed": false
   },
   "outputs": [
    {
     "data": {
      "text/plain": [
       "Product                         object\n",
       "Issue                           object\n",
       "Company                         object\n",
       "State                           object\n",
       "ZIP_code                        object\n",
       "Company_response_to_consumer    object\n",
       "dtype: object"
      ]
     },
     "execution_count": 205,
     "metadata": {},
     "output_type": "execute_result"
    }
   ],
   "source": [
    "df.dtypes"
   ]
  },
  {
   "cell_type": "code",
   "execution_count": 206,
   "metadata": {
    "collapsed": false
   },
   "outputs": [],
   "source": [
    "#convert column types to 'category'\n",
    "df['Product'] = df['Product'].astype('category')\n",
    "df['Issue'] = df['Issue'].astype('category')\n",
    "df['Company'] = df['Company'].astype('category')\n",
    "df['State'] = df['State'].astype('category')\n",
    "df['ZIP_code'] = df['ZIP_code'].astype('category')\n",
    "df['Company_response_to_consumer'] = df['Company_response_to_consumer'].astype('category')"
   ]
  },
  {
   "cell_type": "code",
   "execution_count": 207,
   "metadata": {
    "collapsed": false
   },
   "outputs": [
    {
     "data": {
      "text/plain": [
       "Product                         category\n",
       "Issue                           category\n",
       "Company                         category\n",
       "State                           category\n",
       "ZIP_code                        category\n",
       "Company_response_to_consumer    category\n",
       "dtype: object"
      ]
     },
     "execution_count": 207,
     "metadata": {},
     "output_type": "execute_result"
    }
   ],
   "source": [
    "df.dtypes"
   ]
  },
  {
   "cell_type": "code",
   "execution_count": 208,
   "metadata": {
    "collapsed": false
   },
   "outputs": [
    {
     "data": {
      "text/plain": [
       "Index(['Product', 'Issue', 'Company', 'State', 'ZIP_code',\n",
       "       'Company_response_to_consumer'],\n",
       "      dtype='object')"
      ]
     },
     "execution_count": 208,
     "metadata": {},
     "output_type": "execute_result"
    }
   ],
   "source": [
    "#select columns of 'category' type\n",
    "cat_columns = df.select_dtypes(['category']).columns\n",
    "cat_columns"
   ]
  },
  {
   "cell_type": "code",
   "execution_count": 209,
   "metadata": {
    "collapsed": false
   },
   "outputs": [],
   "source": [
    "#assign number values to categories\n",
    "df[cat_columns] = df[cat_columns].apply(lambda x: x.cat.codes)\n",
    "#-->df"
   ]
  },
  {
   "cell_type": "code",
   "execution_count": 210,
   "metadata": {
    "collapsed": false
   },
   "outputs": [
    {
     "data": {
      "text/html": [
       "<div>\n",
       "<table border=\"1\" class=\"dataframe\">\n",
       "  <thead>\n",
       "    <tr style=\"text-align: right;\">\n",
       "      <th></th>\n",
       "      <th>Product</th>\n",
       "      <th>Issue</th>\n",
       "      <th>Company</th>\n",
       "      <th>State</th>\n",
       "      <th>ZIP_code</th>\n",
       "    </tr>\n",
       "  </thead>\n",
       "  <tbody>\n",
       "    <tr>\n",
       "      <th>0</th>\n",
       "      <td>1</td>\n",
       "      <td>82</td>\n",
       "      <td>461</td>\n",
       "      <td>43</td>\n",
       "      <td>433</td>\n",
       "    </tr>\n",
       "    <tr>\n",
       "      <th>1</th>\n",
       "      <td>3</td>\n",
       "      <td>85</td>\n",
       "      <td>874</td>\n",
       "      <td>13</td>\n",
       "      <td>307</td>\n",
       "    </tr>\n",
       "    <tr>\n",
       "      <th>2</th>\n",
       "      <td>10</td>\n",
       "      <td>34</td>\n",
       "      <td>31</td>\n",
       "      <td>46</td>\n",
       "      <td>144</td>\n",
       "    </tr>\n",
       "    <tr>\n",
       "      <th>3</th>\n",
       "      <td>3</td>\n",
       "      <td>49</td>\n",
       "      <td>2416</td>\n",
       "      <td>3</td>\n",
       "      <td>343</td>\n",
       "    </tr>\n",
       "    <tr>\n",
       "      <th>4</th>\n",
       "      <td>6</td>\n",
       "      <td>57</td>\n",
       "      <td>2524</td>\n",
       "      <td>31</td>\n",
       "      <td>596</td>\n",
       "    </tr>\n",
       "  </tbody>\n",
       "</table>\n",
       "</div>"
      ],
      "text/plain": [
       "   Product  Issue  Company  State  ZIP_code\n",
       "0        1     82      461     43       433\n",
       "1        3     85      874     13       307\n",
       "2       10     34       31     46       144\n",
       "3        3     49     2416      3       343\n",
       "4        6     57     2524     31       596"
      ]
     },
     "execution_count": 210,
     "metadata": {},
     "output_type": "execute_result"
    }
   ],
   "source": [
    "#RETURN: I should probably first split data to train and test set at this point\n",
    "\n",
    "#seperate class/target column from rest of data\n",
    "df_target = df[\"Company_response_to_consumer\"] #dataframe with only consumer complaint\n",
    "df_vec = df.drop('Company_response_to_consumer', 1) #dataframe with all except consumer complaint\n",
    "df_vec.head()\n",
    "#-->df_target"
   ]
  },
  {
   "cell_type": "code",
   "execution_count": 211,
   "metadata": {
    "collapsed": false
   },
   "outputs": [
    {
     "data": {
      "text/plain": [
       "array([[   1,   82,  461,   43,  433],\n",
       "       [   3,   85,  874,   13,  307],\n",
       "       [  10,   34,   31,   46,  144],\n",
       "       ..., \n",
       "       [  10,   34, 1688,   20,  568],\n",
       "       [  10,   34, 1688,   35,  264],\n",
       "       [  10,   16, 1688,   15,  287]], dtype=int16)"
      ]
     },
     "execution_count": 211,
     "metadata": {},
     "output_type": "execute_result"
    }
   ],
   "source": [
    "#convert df_vec dataframe to vector (any of the two sets of code will do)\n",
    "df_matrix=df_vec.values\n",
    "df_matrix\n",
    "#numpyMatrix = df_vec.as_matrix()\n",
    "#numpyMatrix"
   ]
  },
  {
   "cell_type": "code",
   "execution_count": 212,
   "metadata": {
    "collapsed": false
   },
   "outputs": [],
   "source": [
    "#split data into train and test set\n",
    "vec_train, vec_test, target_train, target_test = train_test_split(df_matrix, df_target, test_size=0.2, random_state=4)\n",
    "#-->vec_train\n",
    "#-->vec_test"
   ]
  },
  {
   "cell_type": "code",
   "execution_count": 213,
   "metadata": {
    "collapsed": false
   },
   "outputs": [],
   "source": [
    "#machine learning algorithhm used for classification\n",
    "mnb = MultinomialNB()\n",
    "gnb = GaussianNB()"
   ]
  },
  {
   "cell_type": "code",
   "execution_count": 214,
   "metadata": {
    "collapsed": false
   },
   "outputs": [],
   "source": [
    "#covert to integer type to enable classification\n",
    "#target_train = target_train.astype('int')\n",
    "#vec_train = vec_train.astype('int')\n",
    "\n",
    "#=======================================================================================================================#\n",
    "# Beginning of Experiment 1: GaussianNB on Product\tIssue\tCompany \tState\tZIP_code"
   ]
  },
  {
   "cell_type": "code",
   "execution_count": 215,
   "metadata": {
    "collapsed": false
   },
   "outputs": [
    {
     "data": {
      "text/plain": [
       "GaussianNB()"
      ]
     },
     "execution_count": 215,
     "metadata": {},
     "output_type": "execute_result"
    }
   ],
   "source": [
    "#build classifier on train set\n",
    "gnb.fit(vec_train, target_train)"
   ]
  },
  {
   "cell_type": "code",
   "execution_count": 216,
   "metadata": {
    "collapsed": false
   },
   "outputs": [
    {
     "data": {
      "text/plain": [
       "array([0, 0, 0, ..., 0, 0, 0], dtype=int8)"
      ]
     },
     "execution_count": 216,
     "metadata": {},
     "output_type": "execute_result"
    }
   ],
   "source": [
    "#use built classifier to predict labels of test set\n",
    "gnb_pred = gnb.predict(vec_test)\n",
    "gnb_pred"
   ]
  },
  {
   "cell_type": "code",
   "execution_count": 217,
   "metadata": {
    "collapsed": false
   },
   "outputs": [
    {
     "data": {
      "text/plain": [
       "array([0, 0, 0, ..., 0, 0, 0], dtype=int8)"
      ]
     },
     "execution_count": 217,
     "metadata": {},
     "output_type": "execute_result"
    }
   ],
   "source": [
    "#get actual labels of test set\n",
    "actual = np.array(target_test)\n",
    "actual"
   ]
  },
  {
   "cell_type": "code",
   "execution_count": 239,
   "metadata": {
    "collapsed": false
   },
   "outputs": [
    {
     "data": {
      "text/plain": [
       "21654"
      ]
     },
     "execution_count": 239,
     "metadata": {},
     "output_type": "execute_result"
    }
   ],
   "source": [
    "#count correct predictions\n",
    "count = 0\n",
    "for i in range (len(gnb_pred)):\n",
    "    if gnb_pred[i] == actual[i]:\n",
    "        count = count + 1\n",
    "count"
   ]
  },
  {
   "cell_type": "code",
   "execution_count": 219,
   "metadata": {
    "collapsed": false
   },
   "outputs": [
    {
     "data": {
      "text/plain": [
       "26971"
      ]
     },
     "execution_count": 219,
     "metadata": {},
     "output_type": "execute_result"
    }
   ],
   "source": [
    "len(gnb_pred)"
   ]
  },
  {
   "cell_type": "code",
   "execution_count": 220,
   "metadata": {
    "collapsed": false
   },
   "outputs": [
    {
     "data": {
      "text/plain": [
       "0.8028623336175893"
      ]
     },
     "execution_count": 220,
     "metadata": {},
     "output_type": "execute_result"
    }
   ],
   "source": [
    "#accuracy\n",
    "21654/26971"
   ]
  },
  {
   "cell_type": "code",
   "execution_count": 221,
   "metadata": {
    "collapsed": false
   },
   "outputs": [],
   "source": [
    "# End of Experiment 1: GaussianNB on Product\tIssue\tCompany \tState\tZIP_code\n",
    "# =======================================================================================================================#\n",
    "# Beginning of Experiment 2:MultinomialNB on Product\tIssue\tCompany"
   ]
  },
  {
   "cell_type": "code",
   "execution_count": 223,
   "metadata": {
    "collapsed": false
   },
   "outputs": [
    {
     "data": {
      "text/plain": [
       "414"
      ]
     },
     "execution_count": 223,
     "metadata": {},
     "output_type": "execute_result"
    }
   ],
   "source": [
    "# NOTE: MultinomialNB did not work initially because 'State' and 'ZIP_code' contain null inputs which gets changed to -1 by\n",
    "# the category transformation. This causes an error because MultinomialNB cannot operate on negative values. So in order to test\n",
    "# prediction on MultinomialNB I'll be removing 'State' and 'ZIP_code' from the data and matrix\n",
    "\n",
    "len(df_vec[df_vec.State < 0])"
   ]
  },
  {
   "cell_type": "code",
   "execution_count": 233,
   "metadata": {
    "collapsed": false
   },
   "outputs": [
    {
     "data": {
      "text/html": [
       "<div>\n",
       "<table border=\"1\" class=\"dataframe\">\n",
       "  <thead>\n",
       "    <tr style=\"text-align: right;\">\n",
       "      <th></th>\n",
       "      <th>Product</th>\n",
       "      <th>Issue</th>\n",
       "      <th>Company</th>\n",
       "    </tr>\n",
       "  </thead>\n",
       "  <tbody>\n",
       "    <tr>\n",
       "      <th>0</th>\n",
       "      <td>1</td>\n",
       "      <td>82</td>\n",
       "      <td>461</td>\n",
       "    </tr>\n",
       "    <tr>\n",
       "      <th>1</th>\n",
       "      <td>3</td>\n",
       "      <td>85</td>\n",
       "      <td>874</td>\n",
       "    </tr>\n",
       "    <tr>\n",
       "      <th>2</th>\n",
       "      <td>10</td>\n",
       "      <td>34</td>\n",
       "      <td>31</td>\n",
       "    </tr>\n",
       "    <tr>\n",
       "      <th>3</th>\n",
       "      <td>3</td>\n",
       "      <td>49</td>\n",
       "      <td>2416</td>\n",
       "    </tr>\n",
       "    <tr>\n",
       "      <th>4</th>\n",
       "      <td>6</td>\n",
       "      <td>57</td>\n",
       "      <td>2524</td>\n",
       "    </tr>\n",
       "  </tbody>\n",
       "</table>\n",
       "</div>"
      ],
      "text/plain": [
       "   Product  Issue  Company\n",
       "0        1     82      461\n",
       "1        3     85      874\n",
       "2       10     34       31\n",
       "3        3     49     2416\n",
       "4        6     57     2524"
      ]
     },
     "execution_count": 233,
     "metadata": {},
     "output_type": "execute_result"
    }
   ],
   "source": [
    "df_vec2 = df_vec.drop('State', 1)\n",
    "df_vec2 = df_vec2.drop('ZIP_code', 1)\n",
    "df_vec2.head()"
   ]
  },
  {
   "cell_type": "code",
   "execution_count": 234,
   "metadata": {
    "collapsed": false
   },
   "outputs": [
    {
     "data": {
      "text/plain": [
       "array([[   1,   82,  461],\n",
       "       [   3,   85,  874],\n",
       "       [  10,   34,   31],\n",
       "       ..., \n",
       "       [  10,   34, 1688],\n",
       "       [  10,   34, 1688],\n",
       "       [  10,   16, 1688]], dtype=int16)"
      ]
     },
     "execution_count": 234,
     "metadata": {},
     "output_type": "execute_result"
    }
   ],
   "source": [
    "#convert df_vec dataframe to vector (any of the two sets of code will do)\n",
    "df_matrix2 = df_vec2.values\n",
    "df_matrix2\n",
    "#numpyMatrix = df_vec.as_matrix()\n",
    "#numpyMatrix"
   ]
  },
  {
   "cell_type": "code",
   "execution_count": 235,
   "metadata": {
    "collapsed": true
   },
   "outputs": [],
   "source": [
    "#split data into train and test set\n",
    "vec_train2, vec_test2, target_train2, target_test2 = train_test_split(df_matrix2, df_target, test_size=0.2, random_state=4)\n",
    "#-->vec_train\n",
    "#-->vec_test"
   ]
  },
  {
   "cell_type": "code",
   "execution_count": 236,
   "metadata": {
    "collapsed": false
   },
   "outputs": [
    {
     "data": {
      "text/plain": [
       "MultinomialNB(alpha=1.0, class_prior=None, fit_prior=True)"
      ]
     },
     "execution_count": 236,
     "metadata": {},
     "output_type": "execute_result"
    }
   ],
   "source": [
    "#build classifier on train set\n",
    "mnb.fit(vec_train2, target_train2)"
   ]
  },
  {
   "cell_type": "code",
   "execution_count": 237,
   "metadata": {
    "collapsed": false
   },
   "outputs": [
    {
     "data": {
      "text/plain": [
       "array([0, 0, 0, ..., 0, 0, 0], dtype=int8)"
      ]
     },
     "execution_count": 237,
     "metadata": {},
     "output_type": "execute_result"
    }
   ],
   "source": [
    "#use built classifier to predict labels of test set\n",
    "mnb_pred = mnb.predict(vec_test2)\n",
    "mnb_pred"
   ]
  },
  {
   "cell_type": "code",
   "execution_count": 238,
   "metadata": {
    "collapsed": false
   },
   "outputs": [
    {
     "data": {
      "text/plain": [
       "array([0, 0, 0, ..., 0, 0, 0], dtype=int8)"
      ]
     },
     "execution_count": 238,
     "metadata": {},
     "output_type": "execute_result"
    }
   ],
   "source": [
    "#get actual labels of test set\n",
    "actual2 = np.array(target_test2)\n",
    "actual2"
   ]
  },
  {
   "cell_type": "code",
   "execution_count": 240,
   "metadata": {
    "collapsed": false
   },
   "outputs": [
    {
     "data": {
      "text/plain": [
       "19261"
      ]
     },
     "execution_count": 240,
     "metadata": {},
     "output_type": "execute_result"
    }
   ],
   "source": [
    "#count correct predictions\n",
    "count2 = 0\n",
    "for i in range (len(mnb_pred)):\n",
    "    if mnb_pred[i] == actual2[i]:\n",
    "        count2 = count2 + 1\n",
    "count2"
   ]
  },
  {
   "cell_type": "code",
   "execution_count": 242,
   "metadata": {
    "collapsed": false
   },
   "outputs": [
    {
     "data": {
      "text/plain": [
       "26971"
      ]
     },
     "execution_count": 242,
     "metadata": {},
     "output_type": "execute_result"
    }
   ],
   "source": [
    "len(mnb_pred)"
   ]
  },
  {
   "cell_type": "code",
   "execution_count": 244,
   "metadata": {
    "collapsed": false
   },
   "outputs": [
    {
     "data": {
      "text/plain": [
       "0.7141374068443884"
      ]
     },
     "execution_count": 244,
     "metadata": {},
     "output_type": "execute_result"
    }
   ],
   "source": [
    "#accuracy\n",
    "19261/26971"
   ]
  },
  {
   "cell_type": "code",
   "execution_count": null,
   "metadata": {
    "collapsed": true
   },
   "outputs": [],
   "source": [
    "# End of Experiment 2:MultinomialNB on Product\tIssue\tCompany\n",
    "# =======================================================================================================================#"
   ]
  }
 ],
 "metadata": {
  "kernelspec": {
   "display_name": "Python [Root]",
   "language": "python",
   "name": "Python [Root]"
  },
  "language_info": {
   "codemirror_mode": {
    "name": "ipython",
    "version": 3
   },
   "file_extension": ".py",
   "mimetype": "text/x-python",
   "name": "python",
   "nbconvert_exporter": "python",
   "pygments_lexer": "ipython3",
   "version": "3.5.2"
  }
 },
 "nbformat": 4,
 "nbformat_minor": 0
}
