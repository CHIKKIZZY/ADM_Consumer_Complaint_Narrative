{
 "cells": [
  {
   "cell_type": "code",
   "execution_count": 1,
   "metadata": {
    "collapsed": false
   },
   "outputs": [
    {
     "name": "stderr",
     "output_type": "stream",
     "text": [
      "C:\\Users\\Lawrence\\Anaconda3\\lib\\site-packages\\sklearn\\cross_validation.py:44: DeprecationWarning: This module was deprecated in version 0.18 in favor of the model_selection module into which all the refactored classes and functions are moved. Also note that the interface of the new CV iterators are different from that of this module. This module will be removed in 0.20.\n",
      "  \"This module will be removed in 0.20.\", DeprecationWarning)\n"
     ]
    }
   ],
   "source": [
    "import numpy as np\n",
    "import pandas as pd\n",
    "from matplotlib import pyplot as plt\n",
    "from sklearn.ensemble import RandomForestClassifier\n",
    "from sklearn.cross_validation import train_test_split\n",
    "from sklearn.naive_bayes import MultinomialNB\n",
    "from sklearn.naive_bayes import GaussianNB\n",
    "%matplotlib inline\n",
    "\n",
    "from bs4 import BeautifulSoup\n",
    "import nltk\n",
    "from nltk.corpus import stopwords\n",
    "from sklearn.feature_extraction.text import TfidfVectorizer\n",
    "from sklearn.feature_extraction.text import CountVectorizer\n",
    "from sklearn.decomposition import TruncatedSVD\n",
    "\n",
    "import re\n",
    "from nltk.corpus import stopwords # Import the stop word list\n",
    "from nltk.stem import PorterStemmer, WordNetLemmatizer"
   ]
  },
  {
   "cell_type": "code",
   "execution_count": 2,
   "metadata": {
    "collapsed": true
   },
   "outputs": [],
   "source": [
    "data = pd.read_csv('Consumer_Complaints_with_Consumer_Complaint_Narratives.csv')"
   ]
  },
  {
   "cell_type": "code",
   "execution_count": 3,
   "metadata": {
    "collapsed": false
   },
   "outputs": [
    {
     "data": {
      "text/html": [
       "<div>\n",
       "<table border=\"1\" class=\"dataframe\">\n",
       "  <thead>\n",
       "    <tr style=\"text-align: right;\">\n",
       "      <th></th>\n",
       "      <th>Date_received</th>\n",
       "      <th>Product</th>\n",
       "      <th>Sub-product</th>\n",
       "      <th>Issue</th>\n",
       "      <th>Sub-issue</th>\n",
       "      <th>Consumer_complaint_narrative</th>\n",
       "      <th>Company_public_response</th>\n",
       "      <th>Company</th>\n",
       "      <th>State</th>\n",
       "      <th>ZIP_code</th>\n",
       "      <th>Tags</th>\n",
       "      <th>Consumer_consent_provided?</th>\n",
       "      <th>Submitted_via</th>\n",
       "      <th>Date_sent_to_company</th>\n",
       "      <th>Company_response_to_consumer</th>\n",
       "      <th>Timely_response?</th>\n",
       "      <th>Consumer_disputed?</th>\n",
       "      <th>Complaint_ID</th>\n",
       "    </tr>\n",
       "  </thead>\n",
       "  <tbody>\n",
       "    <tr>\n",
       "      <th>0</th>\n",
       "      <td>12/2/2016</td>\n",
       "      <td>Consumer Loan</td>\n",
       "      <td>Vehicle loan</td>\n",
       "      <td>Taking out the loan or lease</td>\n",
       "      <td>NaN</td>\n",
       "      <td>Capitol One 360 keeps changing what I owe on m...</td>\n",
       "      <td>NaN</td>\n",
       "      <td>Capital One</td>\n",
       "      <td>OH</td>\n",
       "      <td>453XX</td>\n",
       "      <td>NaN</td>\n",
       "      <td>Consent provided</td>\n",
       "      <td>Web</td>\n",
       "      <td>12/2/2016</td>\n",
       "      <td>Closed with explanation</td>\n",
       "      <td>Yes</td>\n",
       "      <td>No</td>\n",
       "      <td>2233355</td>\n",
       "    </tr>\n",
       "  </tbody>\n",
       "</table>\n",
       "</div>"
      ],
      "text/plain": [
       "  Date_received        Product   Sub-product                         Issue  \\\n",
       "0     12/2/2016  Consumer Loan  Vehicle loan  Taking out the loan or lease   \n",
       "\n",
       "  Sub-issue                       Consumer_complaint_narrative  \\\n",
       "0       NaN  Capitol One 360 keeps changing what I owe on m...   \n",
       "\n",
       "  Company_public_response      Company State ZIP_code Tags  \\\n",
       "0                     NaN  Capital One    OH    453XX  NaN   \n",
       "\n",
       "  Consumer_consent_provided? Submitted_via Date_sent_to_company  \\\n",
       "0           Consent provided           Web            12/2/2016   \n",
       "\n",
       "  Company_response_to_consumer Timely_response? Consumer_disputed?  \\\n",
       "0      Closed with explanation              Yes                 No   \n",
       "\n",
       "   Complaint_ID  \n",
       "0       2233355  "
      ]
     },
     "execution_count": 3,
     "metadata": {},
     "output_type": "execute_result"
    }
   ],
   "source": [
    "data.head(1)"
   ]
  },
  {
   "cell_type": "code",
   "execution_count": 4,
   "metadata": {
    "collapsed": true
   },
   "outputs": [],
   "source": [
    "#filter and retain records with desired company response labels\n",
    "responselist = ['Closed with explanation', 'Closed with non-monetary relief', 'Closed with monetary relief']\n",
    "df = data[data.Company_response_to_consumer.isin(responselist)]"
   ]
  },
  {
   "cell_type": "code",
   "execution_count": 5,
   "metadata": {
    "collapsed": false
   },
   "outputs": [
    {
     "data": {
      "text/plain": [
       "134855"
      ]
     },
     "execution_count": 5,
     "metadata": {},
     "output_type": "execute_result"
    }
   ],
   "source": [
    "len(df.index) #number of records"
   ]
  },
  {
   "cell_type": "code",
   "execution_count": 6,
   "metadata": {
    "collapsed": true
   },
   "outputs": [],
   "source": [
    "#drop features/columns not needed for experiment\n",
    "df = df.drop('Product', 1)\n",
    "df = df.drop('Issue', 1)\n",
    "df = df.drop('Company', 1)\n",
    "df = df.drop('State', 1)\n",
    "df = df.drop('ZIP_code', 1)\n",
    "\n",
    "df = df.drop('Sub-product', 1)\n",
    "df = df.drop('Sub-issue', 1)\n",
    "df = df.drop('Company_public_response', 1)\n",
    "df = df.drop('Tags', 1)\n",
    "df = df.drop('Consumer_consent_provided?', 1)\n",
    "df = df.drop('Submitted_via', 1)\n",
    "df = df.drop('Date_sent_to_company', 1)\n",
    "df = df.drop('Timely_response?', 1)\n",
    "df = df.drop('Consumer_disputed?', 1)\n",
    "df = df.drop('Complaint_ID', 1)"
   ]
  },
  {
   "cell_type": "code",
   "execution_count": 7,
   "metadata": {
    "collapsed": false
   },
   "outputs": [
    {
     "data": {
      "text/html": [
       "<div>\n",
       "<table border=\"1\" class=\"dataframe\">\n",
       "  <thead>\n",
       "    <tr style=\"text-align: right;\">\n",
       "      <th></th>\n",
       "      <th>Date_received</th>\n",
       "      <th>Consumer_complaint_narrative</th>\n",
       "      <th>Company_response_to_consumer</th>\n",
       "    </tr>\n",
       "  </thead>\n",
       "  <tbody>\n",
       "    <tr>\n",
       "      <th>0</th>\n",
       "      <td>12/2/2016</td>\n",
       "      <td>Capitol One 360 keeps changing what I owe on m...</td>\n",
       "      <td>Closed with explanation</td>\n",
       "    </tr>\n",
       "    <tr>\n",
       "      <th>1</th>\n",
       "      <td>12/15/2016</td>\n",
       "      <td>I requested all XXXX reports. I got through th...</td>\n",
       "      <td>Closed with non-monetary relief</td>\n",
       "    </tr>\n",
       "    <tr>\n",
       "      <th>2</th>\n",
       "      <td>11/13/2016</td>\n",
       "      <td>I received a forberance on my loans last sprin...</td>\n",
       "      <td>Closed with explanation</td>\n",
       "    </tr>\n",
       "  </tbody>\n",
       "</table>\n",
       "</div>"
      ],
      "text/plain": [
       "  Date_received                       Consumer_complaint_narrative  \\\n",
       "0     12/2/2016  Capitol One 360 keeps changing what I owe on m...   \n",
       "1    12/15/2016  I requested all XXXX reports. I got through th...   \n",
       "2    11/13/2016  I received a forberance on my loans last sprin...   \n",
       "\n",
       "      Company_response_to_consumer  \n",
       "0          Closed with explanation  \n",
       "1  Closed with non-monetary relief  \n",
       "2          Closed with explanation  "
      ]
     },
     "execution_count": 7,
     "metadata": {},
     "output_type": "execute_result"
    }
   ],
   "source": [
    "df.head(3)\n",
    "#df[234:236]"
   ]
  },
  {
   "cell_type": "code",
   "execution_count": 10,
   "metadata": {
    "collapsed": false
   },
   "outputs": [
    {
     "data": {
      "text/plain": [
       "Date_received                   datetime64[ns]\n",
       "Consumer_complaint_narrative            object\n",
       "Company_response_to_consumer          category\n",
       "dtype: object"
      ]
     },
     "execution_count": 10,
     "metadata": {},
     "output_type": "execute_result"
    }
   ],
   "source": [
    "#convert column types to 'category'\n",
    "df['Company_response_to_consumer'] = df['Company_response_to_consumer'].astype('category')\n",
    "df.dtypes"
   ]
  },
  {
   "cell_type": "code",
   "execution_count": 11,
   "metadata": {
    "collapsed": false
   },
   "outputs": [
    {
     "data": {
      "text/plain": [
       "Index(['Company_response_to_consumer'], dtype='object')"
      ]
     },
     "execution_count": 11,
     "metadata": {},
     "output_type": "execute_result"
    }
   ],
   "source": [
    "#select columns of 'category' type\n",
    "cat_columns = df.select_dtypes(['category']).columns\n",
    "cat_columns"
   ]
  },
  {
   "cell_type": "code",
   "execution_count": 12,
   "metadata": {
    "collapsed": true
   },
   "outputs": [],
   "source": [
    "#assign number values to categories\n",
    "df[cat_columns] = df[cat_columns].apply(lambda x: x.cat.codes)\n",
    "#-->df"
   ]
  },
  {
   "cell_type": "code",
   "execution_count": 13,
   "metadata": {
    "collapsed": false
   },
   "outputs": [
    {
     "data": {
      "text/html": [
       "<div>\n",
       "<table border=\"1\" class=\"dataframe\">\n",
       "  <thead>\n",
       "    <tr style=\"text-align: right;\">\n",
       "      <th></th>\n",
       "      <th>Date_received</th>\n",
       "      <th>Consumer_complaint_narrative</th>\n",
       "      <th>Company_response_to_consumer</th>\n",
       "    </tr>\n",
       "  </thead>\n",
       "  <tbody>\n",
       "    <tr>\n",
       "      <th>119648</th>\n",
       "      <td>2016-09-28</td>\n",
       "      <td>My name is XXXX XXXX and I filed a debit card ...</td>\n",
       "      <td>0</td>\n",
       "    </tr>\n",
       "    <tr>\n",
       "      <th>123539</th>\n",
       "      <td>2016-09-28</td>\n",
       "      <td>I have paid my bills on time and have a good r...</td>\n",
       "      <td>0</td>\n",
       "    </tr>\n",
       "    <tr>\n",
       "      <th>116496</th>\n",
       "      <td>2016-09-28</td>\n",
       "      <td>I have filed a dispute regarding a Judgement t...</td>\n",
       "      <td>0</td>\n",
       "    </tr>\n",
       "    <tr>\n",
       "      <th>111382</th>\n",
       "      <td>2016-09-28</td>\n",
       "      <td>Included in this complaint are documents to va...</td>\n",
       "      <td>0</td>\n",
       "    </tr>\n",
       "    <tr>\n",
       "      <th>115242</th>\n",
       "      <td>2016-09-28</td>\n",
       "      <td>Merchants and Medical is attempting to collect...</td>\n",
       "      <td>0</td>\n",
       "    </tr>\n",
       "  </tbody>\n",
       "</table>\n",
       "</div>"
      ],
      "text/plain": [
       "       Date_received                       Consumer_complaint_narrative  \\\n",
       "119648    2016-09-28  My name is XXXX XXXX and I filed a debit card ...   \n",
       "123539    2016-09-28  I have paid my bills on time and have a good r...   \n",
       "116496    2016-09-28  I have filed a dispute regarding a Judgement t...   \n",
       "111382    2016-09-28  Included in this complaint are documents to va...   \n",
       "115242    2016-09-28  Merchants and Medical is attempting to collect...   \n",
       "\n",
       "        Company_response_to_consumer  \n",
       "119648                             0  \n",
       "123539                             0  \n",
       "116496                             0  \n",
       "111382                             0  \n",
       "115242                             0  "
      ]
     },
     "execution_count": 13,
     "metadata": {},
     "output_type": "execute_result"
    }
   ],
   "source": [
    "#sort by date recieved and split data to train and test set at this point\n",
    "df['Date_received'] = pd.to_datetime(df['Date_received'])\n",
    "df = df.sort_values('Date_received')\n",
    "cutoff = int(df.shape[0] * 0.8)\n",
    "train = df.iloc[:cutoff]\n",
    "test = df.iloc[cutoff +1:]\n",
    "train.tail()"
   ]
  },
  {
   "cell_type": "code",
   "execution_count": 14,
   "metadata": {
    "collapsed": false
   },
   "outputs": [
    {
     "data": {
      "text/html": [
       "<div>\n",
       "<table border=\"1\" class=\"dataframe\">\n",
       "  <thead>\n",
       "    <tr style=\"text-align: right;\">\n",
       "      <th></th>\n",
       "      <th>Consumer_complaint_narrative</th>\n",
       "      <th>Company_response_to_consumer</th>\n",
       "    </tr>\n",
       "  </thead>\n",
       "  <tbody>\n",
       "    <tr>\n",
       "      <th>117122</th>\n",
       "      <td>Experian continues to list items on my credit ...</td>\n",
       "      <td>2</td>\n",
       "    </tr>\n",
       "    <tr>\n",
       "      <th>115040</th>\n",
       "      <td>I sent request for information, about payment ...</td>\n",
       "      <td>0</td>\n",
       "    </tr>\n",
       "    <tr>\n",
       "      <th>115253</th>\n",
       "      <td>I contacted Capital One on XXXX/XXXX/16 to set...</td>\n",
       "      <td>0</td>\n",
       "    </tr>\n",
       "  </tbody>\n",
       "</table>\n",
       "</div>"
      ],
      "text/plain": [
       "                             Consumer_complaint_narrative  \\\n",
       "117122  Experian continues to list items on my credit ...   \n",
       "115040  I sent request for information, about payment ...   \n",
       "115253  I contacted Capital One on XXXX/XXXX/16 to set...   \n",
       "\n",
       "        Company_response_to_consumer  \n",
       "117122                             2  \n",
       "115040                             0  \n",
       "115253                             0  "
      ]
     },
     "execution_count": 14,
     "metadata": {},
     "output_type": "execute_result"
    }
   ],
   "source": [
    "#remove other features not needed in experiment\n",
    "train = train.drop('Date_received', 1)\n",
    "test = test.drop('Date_received', 1)\n",
    "\n",
    "test.head(3)"
   ]
  },
  {
   "cell_type": "code",
   "execution_count": 15,
   "metadata": {
    "collapsed": true
   },
   "outputs": [],
   "source": [
    "# function to do text preprocessing\n",
    "def narrative_to_words( raw_narrative ):\n",
    "    # Function to convert a raw narrative to a string of words\n",
    "    # The input is a single string (a raw complaint narrative), and \n",
    "    # the output is a single string (a preprocessed complaint narrative)\n",
    "    #\n",
    "    # 1. Remove HTML--- not needed in this case\n",
    "    # review_text = BeautifulSoup(raw_review).get_text() \n",
    "    #\n",
    "    # 2. Remove non-letters        \n",
    "    letters_only = re.sub(\"[^a-zA-Z]\", \" \", raw_narrative )\n",
    "    #\n",
    "    # 3. Convert to lower case, split into individual words\n",
    "    lower_case = letters_only.lower()        # Convert to lower case\n",
    "    words = lower_case.split()               # Split into words   \n",
    "    #\n",
    "    # remove small and large words\n",
    "    words = [x for x in words if len(x) > 3 and len(x) < 15 ]\n",
    "    #\n",
    "    # 4. In Python, searching a set is much faster than searching\n",
    "    #   a list, so convert the stop words to a set\n",
    "    stopset = set(stopwords.words(\"english\")) \n",
    "    stopset.update(['xxxx', 'xx', 'alreadi', 'also', ])\n",
    "    # \n",
    "    # 5. Remove stop words\n",
    "    words = [w for w in words if not w in stopset]   \n",
    "    #\n",
    "    # 6. stem words\n",
    "    port = PorterStemmer()\n",
    "    stemwords = \" \".join(port.stem(i) for i in words)\n",
    "    return( stemwords)\n",
    "    #\n",
    "    # 6. Join the words back into one string separated by space, \n",
    "    # and return the result.\n",
    "    #return( \" \".join( meaningful_words ))  "
   ]
  },
  {
   "cell_type": "code",
   "execution_count": 16,
   "metadata": {
    "collapsed": false
   },
   "outputs": [
    {
     "name": "stdout",
     "output_type": "stream",
     "text": [
      "Cleaning and parsing the training set movie reviews...\n",
      "\n",
      "Narrative 65000 of 107884\n",
      "Narrative 25000 of 107884\n",
      "Narrative 45000 of 107884\n",
      "Narrative 5000 of 107884\n",
      "Narrative 70000 of 107884\n",
      "Narrative 30000 of 107884\n",
      "Narrative 10000 of 107884\n",
      "Narrative 50000 of 107884\n",
      "Narrative 55000 of 107884\n",
      "Narrative 75000 of 107884\n",
      "Narrative 35000 of 107884\n",
      "Narrative 15000 of 107884\n",
      "Narrative 20000 of 107884\n",
      "Narrative 80000 of 107884\n",
      "Narrative 90000 of 107884\n",
      "Narrative 95000 of 107884\n",
      "Narrative 100000 of 107884\n",
      "Narrative 115000 of 107884\n"
     ]
    }
   ],
   "source": [
    "count = 0\n",
    "# Now loop through dataset and use function to clean\n",
    "# Get the number of reviews based on the dataframe column size\n",
    "num_narr = train[\"Consumer_complaint_narrative\"].size\n",
    "print (\"Cleaning and parsing the training set movie reviews...\\n\")\n",
    "# Initialize an empty list to hold the clean reviews\n",
    "clean_train_narr = []\n",
    "\n",
    "# Loop over each review; create an index i that goes from 0 to the length\n",
    "# of the movie review list \n",
    "#for i in range( num_narr ):\n",
    "for item, frame in train[\"Consumer_complaint_narrative\"].iteritems():\n",
    "    # If the count is evenly divisible by 50000, print a message\n",
    "    count += 1\n",
    "    if( (count+1)%5000 == 0 ):\n",
    "        print (\"Train narrative %d of %d\" % ( count+1, num_narr ))\n",
    "    # Call our function for each one, and add the result to the list of\n",
    "    # clean reviews\n",
    "    if item in train.index:\n",
    "        clean_train_narr.append( narrative_to_words( frame ) )"
   ]
  },
  {
   "cell_type": "code",
   "execution_count": 17,
   "metadata": {
    "collapsed": false
   },
   "outputs": [
    {
     "name": "stdout",
     "output_type": "stream",
     "text": [
      "Creating the bag of words...\n",
      "\n",
      "(107884, 5000)\n"
     ]
    }
   ],
   "source": [
    "print (\"Creating the bag of words...\\n\")\n",
    "\n",
    "# Initialize the \"CountVectorizer\" object, which is scikit-learn's\n",
    "# bag of words tool.  \n",
    "vectorizer = CountVectorizer(analyzer = \"word\",   \\\n",
    "                             tokenizer = None,    \\\n",
    "                             preprocessor = None, \\\n",
    "                             stop_words = None,   \\\n",
    "                             max_features = 5000) \n",
    "\n",
    "# fit_transform() does two functions: First, it fits the model\n",
    "# and learns the vocabulary; second, it transforms our training data\n",
    "# into feature vectors. The input to fit_transform should be a list of \n",
    "# strings.\n",
    "train_data_features = vectorizer.fit_transform(clean_train_narr)\n",
    "\n",
    "# Numpy arrays are easy to work with, so convert the result to an \n",
    "# array\n",
    "train_data_features = train_data_features.toarray()\n",
    "print (train_data_features.shape)"
   ]
  },
  {
   "cell_type": "code",
   "execution_count": 18,
   "metadata": {
    "collapsed": false
   },
   "outputs": [
    {
     "name": "stdout",
     "output_type": "stream",
     "text": [
      "['aa', 'aadvantag', 'aaf', 'abandon', 'abc', 'abet', 'abid', 'abil', 'abl', 'abroad', 'abruptli', 'absenc', 'absent', 'absolut', 'absolv', 'absorb', 'absurd', 'abus', 'ac', 'academ', 'academi', 'acc', 'acceler', 'accent', 'accept', 'access', 'accid', 'accident', 'accommod', 'accompani', 'accomplish', 'accord', 'accordingli', 'account', 'accout', 'accredit', 'accru', 'accrual', 'acct', 'accumul', 'accur', 'accuraci', 'accus', 'ace', 'ach', 'achiev', 'acknowledg', 'acount', 'acquir', 'acquisit', 'acr', 'across', 'act', 'action', 'activ', 'actual', 'acura', 'ad', 'adam', 'adamantli', 'add', 'addendum', 'addit', 'address', 'adequ', 'adher', 'adjud', 'adjust', 'admin', 'administ', 'administr', 'admiss', 'admit', 'admittedli', 'adopt', 'adress', 'adult', 'advanc', 'advantag', 'advers', 'advertis', 'advic', 'advis', 'advisor', 'advoc', 'advocaci', 'ae', 'affadavit', 'affair', 'affect', 'affiant', 'affidavit', 'affili', 'affirm', 'afford', 'afloat', 'afni', 'aforement', 'afraid', 'afternoon', 'afterward', 'ag', 'age', 'agenc', 'agent', 'aggrav', 'aggreg', 'aggress', 'agit', 'ago', 'agre', 'agreeabl', 'agreement', 'ahead', 'ahold', 'aid', 'aim', 'air', 'airlin', 'airport', 'airway', 'aka', 'al', 'alabama', 'alarm', 'albeit', 'alert', 'algorithm', 'alia', 'align', 'aliv', 'alleg', 'allegedli', 'alli', 'allianc', 'allianceon', 'alloc', 'allong', 'allot', 'allow', 'almost', 'alon', 'along', 'alot', 'aloud', 'alpha', 'alreadi', 'alright', 'also', 'alter', 'altern', 'although', 'altogeth', 'alway', 'amaz', 'amazon', 'ambigu', 'ambul', 'amcol', 'amen', 'amend', 'america', 'american', 'americollect', 'amerihom', 'amerisav', 'amex', 'amic', 'among', 'amongst', 'amort', 'amount', 'amout', 'ampl', 'amsher', 'amt', 'amx', 'an', 'analysi', 'analyst', 'analyz', 'anger', 'angri', 'anguish', 'anim', 'anniversari', 'annot', 'announc', 'annoy', 'annual', 'annualcreditreport', 'annuiti', 'anonym', 'anoth', 'answer', 'ant', 'anti', 'anticip', 'antiqu', 'anxieti', 'anxiou', 'anybodi', 'anyhow', 'anymor', 'anyon', 'anyth', 'anytim', 'anyway', 'anywher', 'apart', 'api', 'apolog', 'apologet', 'app', 'appal', 'appar', 'appeal', 'appear', 'appl', 'appli', 'applianc', 'applic', 'appoint', 'apprais', 'appreci', 'approach', 'appropri', 'approv', 'approx', 'approxim', 'appt', 'appx', 'apr', 'aprox', 'apt', 'aqua', 'aquir', 'ar', 'ara', 'arbitr', 'arbitrari', 'arbitrarili', 'arc', 'archiv', 'area', 'argu', 'argument', 'aris', 'arizona', 'arkansa', 'arm', 'aros', 'around', 'arrang', 'arrear', 'arrearag', 'arrest', 'arriv', 'arrog', 'arstrat', 'art', 'articl', 'artifici', 'artist', 'arvest', 'asap', 'asc', 'ascertain', 'asham', 'asid', 'ask', 'aspect', 'assault', 'assembl', 'assert', 'assess', 'assessor', 'asset', 'assign', 'assigne', 'assist', 'assoc', 'associ', 'asst', 'assum', 'assumpt', 'assur', 'astonish', 'astoria', 'astra', 'astronom', 'ate', 'atg', 'atlant', 'atleast', 'atm', 'atroci', 'att', 'attach', 'attack', 'attain', 'attempt', 'attend', 'attent', 'attest', 'atti', 'attitud', 'attn', 'attorney', 'attract', 'attribut', 'auction', 'audac', 'audio', 'audit', 'auditor', 'aunt', 'aurora', 'authent', 'author', 'auto', 'autodraft', 'autom', 'automat', 'automobil', 'automot', 'autopay', 'avail', 'avant', 'avenu', 'averag', 'avoid', 'aw', 'awa', 'await', 'awar', 'award', 'away', 'awhil', 'az', 'ba', 'babi', 'bac', 'back', 'backdat', 'background', 'backup', 'backward', 'bad', 'badg', 'badger', 'badli', 'baffl', 'bag', 'baggag', 'bail', 'bailout', 'bait', 'bal', 'balanc', 'ball', 'balloon', 'ban', 'bana', 'banana', 'banco', 'bancorp', 'band', 'bank', 'bankcard', 'banker', 'bankrupci', 'bankrupt', 'bankruptci', 'bapcpa', 'bar', 'barclay', 'barclaycard', 'bare', 'bargain', 'barrier', 'base', 'basement', 'basi', 'basic', 'batch', 'bath', 'bathroom', 'batteri', 'battl', 'bay', 'bayview', 'bb', 'bbb', 'bbt', 'bbva', 'bc', 'be', 'bear', 'beat', 'beauti', 'becam', 'becasu', 'becom', 'becu', 'becuas', 'bed', 'bedroom', 'bee', 'beforehand', 'beg', 'began', 'begin', 'begun', 'behalf', 'behav', 'behavior', 'behind', 'behold', 'beleiv', 'belief', 'believ', 'belittl', 'belk', 'belliger', 'belong', 'benefici', 'beneficiari', 'benefit', 'benz', 'berat', 'besid', 'best', 'bestbuy', 'bet', 'better', 'bewar', 'beyond', 'bi', 'bia', 'bias', 'bid', 'big', 'bigger', 'biggest', 'bike', 'bill', 'biller', 'billion', 'billpay', 'bind', 'birth', 'birthdat', 'birthday', 'bit', 'biweekli', 'bizarr', 'bk', 'bkpt', 'black', 'blackhawk', 'blacklist', 'blackmail', 'blah', 'blair', 'blame', 'blank', 'blanket', 'blatant', 'blatantli', 'blemish', 'bless', 'blew', 'blind', 'block', 'blog', 'blood', 'bloomingdal', 'blow', 'blown', 'blue', 'bluebird', 'blunder', 'bmo', 'bmw', 'boa', 'board', 'boat', 'bodi', 'bof', 'bofa', 'bogu', 'bold', 'bombard', 'bona', 'bond', 'bonu', 'bonus', 'book', 'bookkeep', 'booklet', 'boost', 'boot', 'border', 'borderlin', 'born', 'borrow', 'boss', 'bother', 'bottl', 'bottom', 'bought', 'bounc', 'bound', 'bout', 'box', 'boy', 'boyfriend', 'bp', 'bpo', 'brake', 'branch', 'brand', 'breach', 'break', 'breakdown', 'breath', 'breech', 'brick', 'bridg', 'brief', 'briefli', 'bring', 'brochur', 'broke', 'broken', 'broker', 'brokerag', 'brother', 'brought', 'browser', 'brush', 'bsi', 'btw', 'bu', 'bubbl', 'buck', 'budg', 'budget', 'bug', 'build', 'builder', 'built', 'buis', 'bulk', 'bull', 'bulli', 'bump', 'bumper', 'bunch', 'bundl', 'burden', 'burdensom', 'burea', 'bureau', 'buri', 'burn', 'busi', 'button', 'buy', 'buyer', 'buyout', 'bww', 'bye', 'bypass', 'ca', 'cabinet', 'cabl', 'cach', 'cain', 'cal', 'calcul', 'calendar', 'calib', 'california', 'call', 'callback', 'caller', 'calm', 'calvari', 'came', 'camera', 'campaign', 'campu', 'can', 'cancel', 'candid', 'cannot', 'cant', 'cap', 'capabl', 'capac', 'capio', 'capit', 'capitalon', 'capitol', 'capon', 'caprici', 'captial', 'captur', 'car', 'card', 'cardhold', 'cardin', 'cardmemb', 'care', 'carecredit', 'career', 'careless', 'carmax', 'carolina', 'carpet', 'carri', 'carrier', 'carrington', 'cart', 'cascad', 'case', 'cash', 'cashback', 'cashcal', 'cashier', 'cashnet', 'cashnetusa', 'cast', 'castl', 'castlepayday', 'cat', 'catastroph', 'catch', 'categor', 'categori', 'caught', 'caus', 'caution', 'cavalri', 'cb', 'cbe', 'cbna', 'cbr', 'cc', 'cca', 'cco', 'cd', 'ceas', 'ceil', 'cell', 'cellphon', 'cellular', 'cent', 'center', 'central', 'centuri', 'ceo', 'cert', 'certain', 'certainli', 'certegi', 'certif', 'certifi', 'cfbp', 'cfpb', 'cfr', 'ch', 'chain', 'chair', 'chairman', 'challeng', 'champion', 'chanc', 'chang', 'channel', 'chap', 'chapter', 'charact', 'charg', 'chargeback', 'chargeoff', 'charger', 'chariti', 'chart', 'charter', 'chase', 'chat', 'cheap', 'cheaper', 'cheat', 'check', 'checkbook', 'checklist', 'checkout', 'chequ', 'chevi', 'chex', 'chexsystem', 'chief', 'child', 'children', 'chip', 'choic', 'choos', 'chose', 'chosen', 'chronolog', 'chrysler', 'church', 'cir', 'circl', 'circuit', 'circumst', 'circumv', 'cit', 'citat', 'cite', 'citi', 'citibank', 'citicard', 'citifinanci', 'citigold', 'citigroup', 'citimortgag', 'citizen', 'civil', 'ck', 'claim', 'clarif', 'clarifi', 'clariti', 'clark', 'class', 'classic', 'classif', 'classifi', 'claus', 'clean', 'clear', 'clearanc', 'clearli', 'clearspr', 'cleric', 'clerk', 'click', 'client', 'climb', 'clinic', 'clock', 'close', 'closer', 'closest', 'closur', 'cloth', 'cloud', 'club', 'clue', 'clueless', 'cm', 'cmc', 'cmi', 'cmre', 'cnac', 'co', 'coach', 'coast', 'coastal', 'code', 'coerc', 'coercion', 'coffe', 'coin', 'coinbas', 'coincid', 'coincident', 'cold', 'coll', 'collabor', 'collaps', 'collar', 'collater', 'colleagu', 'collect', 'collector', 'colleg', 'collegi', 'collis', 'collus', 'color', 'colorado', 'column', 'com', 'comb', 'combin', 'comcast', 'come', 'comerica', 'comfort', 'command', 'commenc', 'comment', 'commerc', 'commerci', 'commiss', 'commission', 'commit', 'committe', 'common', 'commonli', 'commonwealth', 'commun', 'commut', 'comp', 'compani', 'companion', 'compar', 'comparison', 'compass', 'compel', 'compens', 'compet', 'competit', 'competitor', 'compil', 'complain', 'complaint', 'complet', 'complex', 'compli', 'complianc', 'compliant', 'complic', 'compon', 'compound', 'comprehend', 'comprehens', 'compris', 'compromis', 'comptrol', 'comput', 'computer', 'con', 'conceal', 'conced', 'concept', 'concern', 'concert', 'concess', 'concis', 'conclud', 'conclus', 'concord', 'concret', 'concurr', 'condemn', 'condescend', 'condit', 'condition', 'condo', 'condominium', 'conduct', 'confer', 'conferenc', 'confess', 'confid', 'confidenti', 'confirm', 'confisc', 'conflict', 'conform', 'confront', 'confus', 'congratul', 'congress', 'congression', 'congressman', 'conjunct', 'conn', 'connect', 'connecticut', 'consecut', 'consent', 'consequ', 'conserv', 'consid', 'consider', 'consist', 'consolid', 'conspicu', 'conspir', 'conspiraci', 'constant', 'constantli', 'constitut', 'constru', 'construct', 'consult', 'consum', 'consumerfin', 'consumm', 'cont', 'contact', 'contain', 'contempl', 'contempt', 'contend', 'content', 'contest', 'context', 'contin', 'continent', 'conting', 'continu', 'contract', 'contractor', 'contractu', 'contradict', 'contradictori', 'contrari', 'contrast', 'contribut', 'control', 'conveni', 'convent', 'converg', 'convers', 'convert', 'convey', 'convict', 'convinc', 'convolut', 'cook', 'cool', 'cooper', 'coordin', 'cop', 'copay', 'copi', 'core', 'corelog', 'corner', 'cornerston', 'corp', 'corpor', 'correct', 'correctli', 'correspond', 'corrobor', 'corrupt', 'cosign', 'cost', 'costco', 'costli', 'costum', 'couch', 'could', 'couldnt', 'council', 'counsel', 'counselor', 'count', 'counter', 'counterfeit', 'counti', 'countless', 'countri', 'countrywid', 'coupl', 'coupon', 'courier', 'cours', 'court', 'courteou', 'courtesi', 'courthous', 'cousin', 'cover', 'coverag', 'cowork', 'cp', 'cpa', 'cpfb', 'cr', 'cra', 'crack', 'cram', 'crash', 'crazi', 'crc', 'creat', 'creation', 'credco', 'credenc', 'credenti', 'credibl', 'credit', 'creditor', 'creditworthi', 'cri', 'crime', 'crimin', 'crippl', 'crisi', 'criteria', 'critic', 'crm', 'crook', 'cross', 'crown', 'crucial', 'cruel', 'cruis', 'crush', 'cryptic', 'cs', 'csr', 'cst', 'ct', 'cu', 'cultur', 'cumul', 'cure', 'curiou', 'currenc', 'current', 'curs', 'cushion', 'cust', 'custodi', 'custodian', 'custom', 'customari', 'cut', 'cutoff', 'cyber', 'cycl', 'da', 'dad', 'daili', 'dakota', 'damag', 'danc', 'danger', 'dare', 'dark', 'data', 'databas', 'date', 'daughter', 'davidson', 'day', 'daycar', 'dba', 'dc', 'dci', 'de', 'deactiv', 'dead', 'deadbeat', 'deadlin', 'deaf', 'deal', 'dealer', 'dealership', 'dealt', 'dear', 'death', 'debacl', 'debat', 'debit', 'debt', 'debtor', 'decad', 'deceas', 'deceit', 'deceiv', 'decenc', 'decent', 'decept', 'decid', 'decis', 'deck', 'declar', 'declaratori', 'declin', 'decre', 'decreas', 'dedic', 'deduct', 'deed', 'deem', 'deep', 'deeper', 'deepli', 'defam', 'default', 'defeat', 'defect', 'defend', 'defens', 'defer', 'deferr', 'defici', 'deficit', 'defin', 'definit', 'defraud', 'defunct', 'degrad', 'degre', 'delawar', 'delay', 'delbert', 'delet', 'deliber', 'delinqu', 'deliqu', 'deliv', 'deliveri', 'delta', 'demand', 'demean', 'demeanor', 'demolish', 'demonstr', 'deni', 'denial', 'dent', 'dental', 'dentist', 'depart', 'departur', 'depend', 'deplet', 'deplor', 'deploy', 'deposit', 'depositor', 'depot', 'depress', 'depriv', 'dept', 'depth', 'deputi', 'deriv', 'derogatori', 'describ', 'descript', 'deserv', 'design', 'desir', 'desist', 'desk', 'desper', 'despic', 'despit', 'destin', 'destroy', 'destruct', 'detail', 'detain', 'detect', 'deterior', 'determin', 'detriment', 'deutsch', 'devast', 'develop', 'devic', 'df', 'di', 'diagnos', 'diagnosi', 'dial', 'dialer', 'dialogu', 'diamond', 'dictat', 'didnt', 'die', 'diem', 'dietech', 'differ', 'difficult', 'difficulti', 'dig', 'digit', 'digniti', 'dil', 'dilemma', 'dilig', 'dillard', 'dime', 'diminish', 'dine', 'ding', 'dinner', 'dip', 'diploma', 'dire', 'direct', 'directli', 'director', 'dirt', 'dirti', 'disabl', 'disadvantag', 'disagr', 'disagre', 'disallow', 'disappear', 'disappoint', 'disapprov', 'disast', 'disbelief', 'disburs', 'discard', 'discharg', 'disclaim', 'disclos', 'disclosur', 'disconnect', 'discontinu', 'discount', 'discourag', 'discov', 'discoveri', 'discrep', 'discret', 'discrimin', 'discriminatori', 'discuss', 'disgrac', 'disguis', 'disgust', 'dish', 'dishearten', 'dishonest', 'dishonesti', 'dishonor', 'disingenu', 'dismay', 'dismiss', 'disorgan', 'dispar', 'dispatch', 'dispens', 'dispers', 'displac', 'display', 'dispos', 'disposit', 'disput', 'disqualifi', 'disregard', 'disrespect', 'disrupt', 'dissatisfact', 'dissatisfi', 'dissolv', 'distanc', 'distinct', 'distort', 'distraught', 'distress', 'distribut', 'district', 'disturb', 'ditech', 'diversifi', 'divert', 'divid', 'dividend', 'divis', 'divorc', 'divulg', 'dl', 'dmv', 'do', 'dob', 'doc', 'docket', 'doctor', 'document', 'documentari', 'dodd', 'dodg', 'doe', 'doesnt', 'dofd', 'dog', 'doj', 'dollar', 'domest', 'donat', 'done', 'donot', 'dont', 'door', 'dormant', 'dot', 'doubl', 'doubt', 'dovenmuehl', 'downgrad', 'download', 'downpay', 'downright', 'downsiz', 'downtown', 'downturn', 'dozen', 'dr', 'draft', 'drag', 'drain', 'dramat', 'drastic', 'draw', 'drawer', 'drawn', 'dream', 'dress', 'drew', 'dri', 'drive', 'driven', 'driver', 'drivetim', 'driveway', 'drop', 'drove', 'drown', 'drug', 'dryer', 'dt', 'dti', 'dual', 'dubiou', 'due', 'duli', 'dumb', 'dump', 'dun', 'dupe', 'duplex', 'duplic', 'durabl', 'durat', 'duress', 'duti', 'dwell', 'dyck', 'dynam', 'eager', 'ear', 'earli', 'earlier', 'earliest', 'earn', 'earner', 'earnest', 'earth', 'eas', 'easi', 'easier', 'easili', 'east', 'eastern', 'eat', 'ebay', 'ebil', 'ecmc', 'ecoa', 'econom', 'economi', 'ecsi', 'ect', 'ed', 'edg', 'edit', 'educ', 'effect', 'effici', 'effort', 'eft', 'egregi', 'eight', 'either', 'elabor', 'elan', 'elaps', 'elder', 'elderli', 'elect', 'electr', 'electron', 'element', 'elev', 'eleven', 'elig', 'elimin', 'elit', 'els', 'elsewher', 'email', 'embarrass', 'embezzl', 'emc', 'emerg', 'emot', 'empathi', 'emphas', 'emphasi', 'employ', 'employe', 'empti', 'enabl', 'enact', 'enclos', 'enclosur', 'encor', 'encount', 'encourag', 'encrypt', 'end', 'endeavor', 'endless', 'endors', 'endur', 'energi', 'enforc', 'engag', 'engin', 'english', 'enhanc', 'enjoy', 'enlist', 'enorm', 'enough', 'enquir', 'enrich', 'enrol', 'ensu', 'ensur', 'entail', 'enter', 'enterpris', 'entertain', 'entic', 'entir', 'entireti', 'entiti', 'entitl', 'entri', 'entrust', 'envelop', 'environ', 'eo', 'eob', 'episod', 'eq', 'equal', 'equat', 'equfax', 'equifax', 'equip', 'equit', 'equiti', 'equival', 'er', 'eras', 'erc', 'erron', 'error', 'escal', 'escap', 'escrow', 'especi', 'essenc', 'essenti', 'est', 'establish', 'estat', 'estim', 'estrang', 'et', 'etc', 'ethic', 'ethnic', 'evad', 'evalu', 'evas', 'even', 'event', 'eventhough', 'eventu', 'ever', 'everbank', 'everhom', 'everi', 'everybodi', 'everyday', 'everyon', 'everyth', 'everytim', 'everywher', 'evict', 'evid', 'evidenc', 'evil', 'ex', 'exacerb', 'exact', 'exactli', 'exagger', 'exam', 'examin', 'examinership', 'exampl', 'exce', 'exceed', 'excel', 'except', 'excerpt', 'excess', 'exchang', 'excit', 'exclud', 'exclus', 'excus', 'exec', 'execut', 'executor', 'exempt', 'exercis', 'exet', 'exhaust', 'exhibit', 'exist', 'exit', 'exorbit', 'exp', 'expand', 'expect', 'expedit', 'expediti', 'expend', 'expenditur', 'expens', 'experain', 'experi', 'experian', 'experienc', 'expert', 'expir', 'explain', 'explan', 'explicit', 'explicitli', 'exploit', 'explor', 'expos', 'exposur', 'express', 'expressli', 'expung', 'ext', 'extend', 'extens', 'extent', 'extenu', 'exterior', 'extern', 'extinguish', 'extort', 'extra', 'extract', 'extraordinarili', 'extrem', 'exxon', 'eye', 'fabric', 'face', 'facil', 'facilit', 'facsimil', 'fact', 'facta', 'factor', 'factual', 'fail', 'failur', 'fair', 'fairli', 'fairway', 'faith', 'fake', 'fall', 'fallen', 'fals', 'falsifi', 'fam', 'famili', 'familiar', 'fan', 'fanni', 'faq', 'far', 'fare', 'fargo', 'farm', 'farther', 'fashion', 'fast', 'faster', 'father', 'fault', 'faulti', 'favor', 'fax', 'fay', 'fbc', 'fbi', 'fc', 'fcba', 'fcc', 'fci', 'fco', 'fcra', 'fdca', 'fdcpa', 'fdic', 'fear', 'feasibl', 'featur', 'fed', 'feder', 'fedex', 'fedloan', 'fee', 'feed', 'feedback', 'feel', 'feet', 'felix', 'fell', 'fellow', 'feloni', 'felt', 'fema', 'femal', 'fenc', 'fewer', 'ff', 'fha', 'fi', 'fia', 'fianc', 'fiance', 'fiasco', 'fico', 'fictiti', 'fide', 'fidel', 'fiduciari', 'field', 'fifteen', 'fifth', 'fight', 'figur', 'file', 'fill', 'filter', 'fin', 'finaci', 'final', 'financ', 'financi', 'find', 'fine', 'finger', 'finish', 'fire', 'firm', 'firmli', 'first', 'firsthand', 'firstli', 'firstmark', 'fiscal', 'fish', 'fishi', 'fit', 'five', 'fix', 'fl', 'flag', 'flagrant', 'flagship', 'flagstar', 'flat', 'flatli', 'flaw', 'flew', 'flex', 'flexibl', 'fli', 'flight', 'flip', 'float', 'flood', 'floor', 'florida', 'flow', 'fluctuat', 'flyer', 'fm', 'fo', 'focu', 'focus', 'fold', 'folder', 'folk', 'follow', 'followup', 'font', 'food', 'fool', 'foolish', 'foot', 'footag', 'forbear', 'forc', 'forclos', 'forclosur', 'ford', 'fore', 'forebear', 'foreclos', 'foreclosur', 'forego', 'foreign', 'foremost', 'forens', 'forese', 'forev', 'forfeit', 'forg', 'forgav', 'forgeri', 'forget', 'forgiv', 'forgiven', 'forgot', 'forgotten', 'form', 'formal', 'format', 'former', 'formerli', 'formula', 'forth', 'forthcom', 'forti', 'fortun', 'forum', 'forward', 'fought', 'found', 'foundat', 'four', 'fourth', 'fox', 'fraction', 'fradul', 'frame', 'franchis', 'frank', 'frankli', 'franklin', 'fraud', 'fraudlent', 'fraudster', 'fraudul', 'frca', 'freak', 'frederick', 'free', 'freedom', 'freez', 'frequenc', 'frequent', 'fresh', 'fri', 'friday', 'friend', 'friendli', 'frighten', 'frivol', 'fro', 'front', 'froze', 'frozen', 'fruitless', 'frustrat', 'fsb', 'ft', 'ftb', 'ftc', 'fudg', 'fuel', 'fulfil', 'full', 'fullest', 'fulli', 'fun', 'function', 'fund', 'fundament', 'funer', 'funni', 'furiou', 'furnac', 'furnish', 'furnitur', 'furthermor', 'futil', 'futur', 'fyi', 'ga', 'gain', 'game', 'gap', 'garag', 'garbag', 'garbu', 'garnish', 'gate', 'gateway', 'gather', 'gave', 'gc', 'ge', 'gener', 'genesi', 'gentleman', 'gentlemen', 'genuin', 'georgia', 'gestur', 'get', 'gfe', 'ghost', 'giant', 'gift', 'girl', 'girlfriend', 'give', 'given', 'gla', 'glad', 'gladli', 'glass', 'glasser', 'glitch', 'global', 'gm', 'gmac', 'go', 'goal', 'god', 'goe', 'gold', 'goldman', 'gon', 'gone', 'good', 'goodby', 'goodwil', 'googl', 'got', 'gotten', 'goug', 'gov', 'gover', 'govern', 'government', 'governor', 'govt', 'grab', 'grace', 'grad', 'grade', 'graduat', 'gram', 'grand', 'granddaught', 'grandfath', 'grandmoth', 'grandpar', 'grandson', 'grant', 'grantor', 'grass', 'grate', 'grave', 'great', 'greater', 'greatest', 'greatli', 'greed', 'greedi', 'green', 'greentre', 'greet', 'grew', 'grief', 'griev', 'grievanc', 'groceri', 'gross', 'grossli', 'ground', 'group', 'grow', 'grown', 'growth', 'gt', 'guarante', 'guaranti', 'guarantor', 'guard', 'guardian', 'guess', 'guest', 'guid', 'guidanc', 'guidelin', 'guild', 'guilti', 'guis', 'gut', 'guy', 'gw', 'gym', 'ha', 'habit', 'habitu', 'hack', 'hacker', 'hafa', 'hail', 'hair', 'half', 'halt', 'hamp', 'hampshir', 'hand', 'handbook', 'handl', 'handwrit', 'handwritten', 'hang', 'hanna', 'happen', 'happend', 'happi', 'happili', 'harass', 'hard', 'harder', 'hardest', 'hardli', 'hardship', 'harley', 'harm', 'harmless', 'harp', 'harras', 'harrass', 'harri', 'harsh', 'hasnt', 'hassl', 'hat', 'hate', 'haunt', 'havent', 'hawaii', 'hazard', 'hbor', 'head', 'headach', 'headquart', 'health', 'healthcar', 'healthi', 'hear', 'heard', 'heart', 'heat', 'heater', 'heavi', 'heavili', 'heck', 'hefti', 'height', 'heir', 'held', 'hell', 'hello', 'heloc', 'help', 'helpless', 'henc', 'herebi', 'herein', 'hereinaft', 'hereto', 'hesaa', 'hesit', 'hey', 'hfc', 'hi', 'hid', 'hidden', 'hide', 'high', 'higher', 'highest', 'highli', 'highlight', 'highway', 'hike', 'hinder', 'hipaa', 'hippa', 'hire', 'histor', 'histori', 'hit', 'hoa', 'hold', 'holder', 'hole', 'holiday', 'home', 'homebridg', 'homebuy', 'homeless', 'homeown', 'homestead', 'homeward', 'honda', 'honest', 'honesti', 'honestli', 'honor', 'hood', 'hook', 'hoop', 'hope', 'hopeless', 'horizon', 'horrend', 'horribl', 'horrif', 'horrifi', 'horror', 'hospit', 'host', 'hostag', 'hostil', 'hot', 'hotel', 'hotlin', 'hound', 'hour', 'hous', 'household', 'howev', 'hr', 'hsa', 'hsbc', 'html', 'http', 'hud', 'huge', 'human', 'humbl', 'humili', 'hundr', 'hung', 'hunt', 'hunter', 'huntington', 'hurdl', 'hurri', 'hurrican', 'hurt', 'husband', 'hyundai', 'ia', 'iam', 'ibr', 'ic', 'ice', 'id', 'idaho', 'idea', 'ideal', 'iden', 'ident', 'identif', 'identifi', 'idiot', 'idr', 'ie', 'ignor', 'ihav', 'ii', 'iii', 'il', 'ill', 'illeg', 'illegitim', 'illinoi', 'illustr', 'im', 'imag', 'imagin', 'immedi', 'immediatli', 'immens', 'immigr', 'immin', 'immor', 'immun', 'imortgag', 'impact', 'impair', 'imparti', 'impecc', 'imped', 'impend', 'imper', 'imperson', 'implement', 'impli', 'implic', 'implor', 'import', 'importantli', 'impos', 'imposs', 'impound', 'impress', 'imprison', 'improp', 'improperli', 'improv', 'in', 'inabl', 'inaccur', 'inaccuraci', 'inact', 'inadequ', 'inadvert', 'inappropri', 'inbox', 'inc', 'incap', 'incarcer', 'incent', 'incept', 'incess', 'incessantli', 'inch', 'incid', 'incident', 'includ', 'inclus', 'incom', 'incomm', 'incompet', 'incomplet', 'inconsider', 'inconsist', 'inconveni', 'inconvenienc', 'incorpor', 'incorrect', 'incorrectli', 'increas', 'increasingli', 'incred', 'increment', 'incur', 'inde', 'indebted', 'indefinit', 'independ', 'index', 'indiana', 'indic', 'indict', 'indiffer', 'indirectli', 'individu', 'induc', 'industri', 'indymac', 'ineffect', 'ineffici', 'inelig', 'inept', 'ineptitud', 'inevit', 'inexcus', 'inexplic', 'infact', 'infer', 'infin', 'inflat', 'inflict', 'influenc', 'info', 'infom', 'inform', 'infract', 'infuri', 'ing', 'inherit', 'initi', 'injunct', 'injur', 'injuri', 'injustic', 'ink', 'innacur', 'innoc', 'inordin', 'input', 'inquir', 'inquiri', 'inquri', 'insan', 'insert', 'insid', 'insight', 'insinu', 'insist', 'inspect', 'inspector', 'instal', 'instanc', 'instant', 'instantli', 'instat', 'instead', 'institut', 'instruct', 'instructor', 'instrument', 'insuffici', 'insul', 'insult', 'insur', 'int', 'integr', 'intellig', 'intend', 'intens', 'intent', 'inter', 'interact', 'intercept', 'interest', 'interestingli', 'interf', 'interfac', 'interfer', 'interim', 'interior', 'intermediari', 'intern', 'internet', 'internship', 'interpret', 'interrog', 'interrupt', 'interst', 'interven', 'intervent', 'interview', 'intimid', 'intrest', 'introduc', 'introductori', 'intrus', 'invalid', 'invas', 'inventori', 'invest', 'investig', 'investor', 'invit', 'invoic', 'invok', 'involuntari', 'involv', 'iowa', 'ip', 'iphon', 'iq', 'ir', 'ira', 'irat', 'iron', 'irregular', 'irrelev', 'irrepar', 'irrespons', 'irrit', 'island', 'isnt', 'isol', 'issu', 'issuanc', 'issuer', 'item', 'iv', 'ive', 'jack', 'jail', 'jc', 'jcp', 'jcpenney', 'jeep', 'jefferson', 'jeopard', 'jeopardi', 'jerk', 'jersey', 'jewel', 'jewelri', 'jh', 'job', 'join', 'joint', 'jointli', 'joke', 'journal', 'journey', 'jp', 'jpmorgan', 'judg', 'judgement', 'judgment', 'judici', 'jumbo', 'jump', 'junk', 'juri', 'jurisdict', 'justic', 'justif', 'justifi', 'kansa', 'karma', 'kay', 'keep', 'kentucki', 'kept', 'key', 'keybank', 'kia', 'kick', 'kickback', 'kid', 'kill', 'kind', 'kindli', 'kiosk', 'kit', 'kitchen', 'klein', 'knew', 'knock', 'know', 'knowingli', 'knowledg', 'known', 'kohl', 'kramer', 'ks', 'ky', 'kyhc', 'la', 'lab', 'label', 'labor', 'lack', 'ladi', 'laid', 'lake', 'land', 'landlin', 'landlord', 'landscap', 'languag', 'languish', 'laps', 'laptop', 'larg', 'larger', 'largest', 'last', 'lastli', 'late', 'later', 'latest', 'latter', 'laugh', 'launch', 'launder', 'law', 'lawfirm', 'lawn', 'lawsuit', 'lawyer', 'lay', 'layer', 'layoff', 'lazi', 'le', 'lead', 'leader', 'leadership', 'leak', 'lean', 'learn', 'leas', 'least', 'leav', 'led', 'ledger', 'left', 'leg', 'legal', 'legibl', 'legisl', 'legit', 'legitim', 'legitimaci', 'lein', 'lemon', 'lend', 'lender', 'lenderl', 'length', 'lengthi', 'less', 'lessen', 'lesser', 'lesson', 'let', 'letter', 'letterhead', 'level', 'leverag', 'levi', 'lexi', 'lexisnexi', 'lexu', 'liabil', 'liabl', 'liar', 'liberti', 'librari', 'licenc', 'licens', 'lie', 'lien', 'lienhold', 'lieu', 'life', 'lifetim', 'lift', 'light', 'like', 'likewis', 'limbo', 'limit', 'line', 'linebarg', 'linger', 'link', 'liquid', 'list', 'listen', 'liter', 'literatur', 'litig', 'littl', 'litton', 'live', 'livelihood', 'livid', 'llc', 'llp', 'lo', 'load', 'loan', 'loancar', 'loandepot', 'lobbi', 'lobel', 'loc', 'local', 'locat', 'lock', 'lodg', 'log', 'logic', 'login', 'logo', 'lone', 'long', 'longer', 'longest', 'look', 'loop', 'loophol', 'loos', 'lose', 'loss', 'lost', 'lot', 'loud', 'loudli', 'louisiana', 'love', 'low', 'lower', 'lowest', 'loyal', 'loyalti', 'lp', 'lt', 'ltd', 'ltv', 'luck', 'lucki', 'luckili', 'ludicr', 'lump', 'lunch', 'lure', 'luxuri', 'lvnv', 'lynch', 'mac', 'machin', 'maci', 'mad', 'madam', 'made', 'mae', 'magazin', 'magic', 'magistr', 'maiden', 'mail', 'mailbox', 'mailer', 'main', 'mainli', 'maintain', 'mainten', 'major', 'make', 'maker', 'male', 'malfeas', 'malfunct', 'malic', 'malici', 'mall', 'malpractic', 'man', 'manag', 'mandat', 'mandatori', 'manger', 'mani', 'manipul', 'manner', 'manor', 'manual', 'manufactur', 'map', 'margin', 'marin', 'marit', 'mark', 'marker', 'market', 'marri', 'marriag', 'mart', 'maryland', 'mask', 'mass', 'massachusett', 'massag', 'massiv', 'master', 'mastercard', 'match', 'materi', 'matern', 'math', 'mathemat', 'matter', 'mattress', 'matur', 'max', 'maxim', 'maximum', 'may', 'mayb', 'mb', 'mbf', 'mbna', 'mc', 'mccalla', 'mcm', 'md', 'meal', 'mean', 'meaning', 'meant', 'meantim', 'meanwhil', 'measur', 'mechan', 'med', 'media', 'mediat', 'medic', 'medicaid', 'medicar', 'medicin', 'meet', 'mellon', 'meltdown', 'member', 'membership', 'memo', 'memorandum', 'memori', 'men', 'mental', 'mention', 'menu', 'mer', 'merced', 'merchandis', 'merchant', 'merci', 'mere', 'merg', 'merger', 'meridian', 'merit', 'merril', 'mess', 'messag', 'met', 'meter', 'method', 'methodolog', 'mexico', 'mgmt', 'mgr', 'mgt', 'mha', 'mi', 'michael', 'michigan', 'mid', 'middl', 'midland', 'midnight', 'midst', 'midwest', 'might', 'mile', 'mileag', 'militari', 'mill', 'million', 'min', 'mind', 'mine', 'mini', 'minim', 'minimum', 'minnesota', 'minor', 'minu', 'minut', 'mip', 'miracul', 'miranda', 'mirror', 'misappl', 'misappli', 'misappropri', 'misc', 'miscalcul', 'miscellan', 'miscommun', 'misconduct', 'misdirect', 'miser', 'misguid', 'mishandl', 'mishap', 'misinform', 'misinterpret', 'misl', 'mislead', 'mismanag', 'misplac', 'misreport', 'misrepres', 'misrepresent', 'miss', 'mission', 'mississippi', 'missouri', 'misspel', 'misstat', 'mistak', 'mistaken', 'mistakenli', 'mistreat', 'misunderstand', 'misus', 'mitig', 'mix', 'ml', 'mn', 'mo', 'mobil', 'mock', 'mod', 'mode', 'model', 'modem', 'modern', 'modest', 'modif', 'modifi', 'mohela', 'mold', 'mom', 'moment', 'mon', 'monday', 'monetari', 'money', 'moneygram', 'moni', 'monitor', 'monterey', 'month', 'monthli', 'moor', 'moral', 'moreov', 'morgag', 'morgan', 'morn', 'mort', 'mortag', 'mortagag', 'mortgag', 'mortgage', 'mortgagor', 'mostli', 'moth', 'mother', 'motion', 'motiv', 'motor', 'motorcycl', 'mount', 'mountain', 'mouth', 'move', 'movement', 'mover', 'movi', 'mp', 'mr', 'ms', 'msb', 'msg', 'mt', 'mtg', 'mth', 'mu', 'much', 'multi', 'multipl', 'multipli', 'multitud', 'municip', 'music', 'must', 'mutual', 'mysteri', 'na', 'naca', 'nail', 'naiv', 'name', 'narr', 'nasti', 'nation', 'nationstar', 'nationwid', 'natur', 'navi', 'navient', 'navig', 'nba', 'nc', 'ncb', 'ncc', 'nco', 'nct', 'nd', 'ne', 'neal', 'near', 'nearbi', 'nearest', 'nearli', 'nebraska', 'necess', 'necessari', 'necessarili', 'need', 'needless', 'neg', 'negat', 'neglect', 'neglig', 'negoti', 'neighbor', 'neighborhood', 'neither', 'nelnet', 'nephew', 'nerv', 'nervou', 'net', 'netspend', 'network', 'neutral', 'nevada', 'never', 'nevertheless', 'new', 'newer', 'newest', 'newli', 'news', 'newspap', 'nexi', 'next', 'nfcu', 'nh', 'niagara', 'nice', 'niec', 'night', 'nightmar', 'nine', 'nissan', 'nj', 'nm', 'nmac', 'nml', 'nobodi', 'nod', 'nois', 'nomin', 'nomine', 'non', 'noncompli', 'none', 'nonetheless', 'nonexist', 'nonpay', 'nonsens', 'nonstop', 'noon', 'nope', 'nordstrom', 'normal', 'north', 'northern', 'northland', 'nose', 'notabl', 'notar', 'notari', 'notat', 'note', 'noth', 'notic', 'notif', 'notifi', 'notor', 'notori', 'notwithstand', 'nowher', 'npv', 'nr', 'nsf', 'nsm', 'nstr', 'nt', 'nuisanc', 'null', 'nullifi', 'num', 'number', 'numer', 'nurs', 'nut', 'nv', 'nvr', 'ny', 'nycb', 'oath', 'obama', 'obey', 'obfusc', 'object', 'oblig', 'obnoxi', 'obscen', 'obscur', 'observ', 'obsolet', 'obstacl', 'obstruct', 'obtain', 'obviou', 'obvious', 'occ', 'occas', 'occasion', 'occass', 'occup', 'occupi', 'occur', 'occurr', 'ocwen', 'od', 'odd', 'oddli', 'odomet', 'off', 'offend', 'offens', 'offer', 'offic', 'offici', 'offset', 'offshor', 'often', 'oh', 'ohio', 'oil', 'ok', 'okay', 'oklahoma', 'ol', 'old', 'older', 'oldest', 'omaha', 'ombudsman', 'omiss', 'omit', 'one', 'onemain', 'oner', 'onewest', 'ongo', 'onlin', 'onset', 'ontim', 'onto', 'op', 'open', 'openli', 'oper', 'opinion', 'opportun', 'oppos', 'opposit', 'oppress', 'opt', 'optimum', 'option', 'oracl', 'oral', 'ordeal', 'order', 'ordinari', 'oregon', 'org', 'organ', 'orgin', 'origin', 'ot', 'other', 'otherwis', 'out', 'outag', 'outcom', 'outdat', 'outfit', 'outgo', 'outlet', 'outlin', 'outrag', 'outright', 'outsid', 'outsourc', 'outstand', 'overag', 'overal', 'overcharg', 'overdraft', 'overdraw', 'overdrawn', 'overdrew', 'overdu', 'overli', 'overlook', 'overnight', 'overpaid', 'overpay', 'overrid', 'overse', 'oversea', 'oversight', 'overst', 'overtim', 'overturn', 'overview', 'overwhelm', 'owe', 'owen', 'own', 'owner', 'ownership', 'oxford', 'pa', 'pace', 'pacif', 'pack', 'packag', 'packet', 'pad', 'page', 'paid', 'pain', 'paint', 'pair', 'pal', 'panel', 'panic', 'panick', 'paper', 'paperless', 'paperwork', 'par', 'paragraph', 'paraleg', 'paramet', 'paramount', 'parcel', 'parent', 'park', 'parrot', 'part', 'parti', 'partial', 'particip', 'particular', 'particularli', 'partner', 'partnership', 'pass', 'passeng', 'passport', 'password', 'past', 'patenaud', 'patent', 'path', 'patienc', 'patient', 'patriot', 'patron', 'pattern', 'paus', 'pay', 'payabl', 'payback', 'paycheck', 'payday', 'paye', 'payer', 'payment', 'payoff', 'payor', 'payout', 'paypal', 'payrol', 'paystub', 'pc', 'pd', 'pdf', 'pdq', 'peac', 'peak', 'pen', 'penal', 'penalti', 'pend', 'penf', 'penn', 'penney', 'penni', 'pennsylvania', 'pennymac', 'pension', 'pentagon', 'peopl', 'per', 'perceiv', 'percent', 'percentag', 'perfect', 'perfectli', 'perform', 'perhap', 'period', 'perjuri', 'perk', 'perman', 'permiss', 'permit', 'perpetr', 'perpetu', 'perplex', 'persist', 'person', 'personnel', 'perspect', 'persu', 'persuad', 'pertain', 'pertin', 'perus', 'pet', 'petit', 'petti', 'pf', 'pg', 'ph', 'phantom', 'phase', 'pheaa', 'phh', 'phish', 'phoenix', 'phone', 'phoni', 'photo', 'photocopi', 'photograph', 'phrase', 'physic', 'physician', 'pic', 'pick', 'pickup', 'pictur', 'piec', 'pii', 'pile', 'pin', 'pinnacl', 'pioneer', 'pipe', 'pitch', 'pite', 'piti', 'pl', 'place', 'placement', 'plain', 'plainli', 'plaintiff', 'plan', 'plane', 'planet', 'plate', 'platform', 'platinum', 'play', 'plaza', 'plea', 'plead', 'pleas', 'pleasant', 'pleasur', 'pledg', 'plenti', 'ploy', 'plu', 'plug', 'plumb', 'plumber', 'plummet', 'pm', 'pmi', 'pmt', 'pnc', 'po', 'poa', 'pocket', 'point', 'polic', 'polici', 'polit', 'pool', 'poor', 'poorli', 'pop', 'popul', 'popular', 'porch', 'port', 'portal', 'portfolio', 'portion', 'pose', 'posit', 'possess', 'possibl', 'post', 'postag', 'postal', 'postcard', 'postmark', 'postpon', 'potenti', 'pound', 'poverti', 'power', 'powerless', 'pp', 'pr', 'pra', 'practic', 'pray', 'pre', 'preapprov', 'precaut', 'preced', 'preciou', 'precis', 'preclud', 'predat', 'predatori', 'predecessor', 'predica', 'predict', 'prefer', 'pregnant', 'prejudic', 'preliminari', 'prematur', 'premier', 'premis', 'premium', 'prepaid', 'prepar', 'prepay', 'preposter', 'prequalifi', 'prescreen', 'prescrib', 'prescript', 'presenc', 'present', 'preserv', 'presid', 'press', 'pressler', 'pressur', 'prestig', 'presum', 'pretend', 'pretens', 'pretti', 'prevail', 'prevent', 'previou', 'previous', 'prey', 'price', 'pride', 'primari', 'primarili', 'prime', 'princip', 'principl', 'print', 'printer', 'printout', 'prior', 'prioriti', 'prison', 'pristin', 'privaci', 'privat', 'privi', 'privileg', 'pro', 'proactiv', 'probabl', 'probat', 'problem', 'problemat', 'proce', 'procedur', 'proceed', 'process', 'processor', 'procollect', 'procur', 'produc', 'product', 'profan', 'profess', 'profession', 'profil', 'profit', 'program', 'progress', 'prohibit', 'project', 'prolong', 'promis', 'promissori', 'promo', 'promot', 'prompt', 'promptli', 'proof', 'proper', 'properli', 'properti', 'proport', 'propos', 'proprietari', 'prorat', 'prosecut', 'prospect', 'prosper', 'protect', 'protest', 'protocol', 'proud', 'prove', 'proven', 'provid', 'provis', 'provision', 'prudent', 'ps', 'psa', 'pslf', 'pst', 'pt', 'public', 'publicli', 'publish', 'pull', 'pult', 'pump', 'punish', 'punit', 'puppi', 'purchas', 'pure', 'purg', 'purport', 'purportedli', 'purpos', 'purs', 'pursu', 'pursuant', 'pursuit', 'push', 'pushi', 'put', 'puzzl', 'pymt', 'ql', 'qualif', 'qualifi', 'qualiti', 'quarter', 'quarterli', 'queri', 'question', 'questionnair', 'quick', 'quicken', 'quickenloan', 'quicker', 'quickli', 'quiet', 'quit', 'quitclaim', 'quot', 'qwr', 'race', 'racial', 'rack', 'racket', 'radio', 'rain', 'rais', 'ramif', 'ran', 'random', 'randomli', 'rang', 'rapid', 'rapidli', 'rare', 'rash', 'rate', 'rather', 'ratio', 'ration', 'rational', 'raymer', 'rb', 'rc', 'rcvd', 'rd', 'reach', 'react', 'reaction', 'reactiv', 'read', 'reader', 'readi', 'readili', 'reaffirm', 'reag', 'real', 'realist', 'realiti', 'realiz', 'realli', 'realloc', 'realti', 'realtor', 'reap', 'reappear', 'reappli', 'rear', 'rearrang', 'reason', 'reassess', 'reassign', 'reassur', 'rebat', 'rebil', 'rebuild', 'rebuilt', 'rebutt', 'rec', 'recal', 'recalcul', 'recap', 'recast', 'receipt', 'receiv', 'recent', 'recept', 'receptionist', 'recertif', 'recess', 'recharg', 'reciept', 'reciev', 'recipi', 'recit', 'reciv', 'reckless', 'recogn', 'recognit', 'recollect', 'recommend', 'reconcil', 'reconcili', 'reconsid', 'reconsider', 'reconstruct', 'reconvey', 'record', 'recoup', 'recours', 'recov', 'recoveri', 'recruit', 'rectifi', 'recur', 'recvd', 'red', 'redact', 'redcard', 'redeem', 'redempt', 'redeposit', 'redirect', 'redo', 'redress', 'reduc', 'reduct', 'redund', 'reestablish', 'reevalu', 'ref', 'refax', 'refer', 'referenc', 'referr', 'refi', 'refil', 'refin', 'refinanc', 'reflect', 'reform', 'refrain', 'refresh', 'refriger', 'refund', 'refus', 'refut', 'reg', 'regain', 'regard', 'regardless', 'region', 'regist', 'registr', 'registrar', 'registri', 'regret', 'regul', 'regular', 'regularli', 'regulatori', 'rehab', 'rehabilit', 'rei', 'reimburs', 'reinsert', 'reinstat', 'reinvestig', 'reissu', 'reiter', 'reject', 'rel', 'relat', 'relationship', 'relay', 'releas', 'relent', 'relentless', 'relentlessli', 'relev', 'reli', 'reliabl', 'relianc', 'relief', 'reliev', 'religi', 'relinquish', 'reload', 'reloadit', 'reloc', 'reluct', 'reluctantli', 'remain', 'remaind', 'remark', 'remarri', 'remedi', 'rememb', 'remind', 'remit', 'remitt', 'remodel', 'remodif', 'remot', 'remov', 'render', 'reneg', 'renegoti', 'renew', 'renov', 'rent', 'rental', 'renter', 'renton', 'reo', 'reoccur', 'reopen', 'reorder', 'reorgan', 'rep', 'repaid', 'repair', 'repay', 'repeat', 'repeatedli', 'repercuss', 'repetit', 'replac', 'repli', 'repo', 'report', 'reportedli', 'repos', 'reposess', 'repositori', 'reposs', 'repossess', 'repost', 'reprehens', 'repres', 'represen', 'represent', 'reprimand', 'reprocess', 'republ', 'repurchas', 'reput', 'request', 'requir', 'requisit', 'rerout', 'reschedul', 'rescind', 'resciss', 'research', 'resel', 'resembl', 'resend', 'resent', 'reserv', 'reset', 'resid', 'residenti', 'residu', 'resign', 'resist', 'resold', 'resolut', 'resolv', 'resort', 'resourc', 'respa', 'respect', 'respond', 'respons', 'rest', 'restart', 'restat', 'restaur', 'restitut', 'restock', 'restor', 'restrain', 'restrict', 'restructur', 'resubmit', 'result', 'resum', 'resurg', 'retail', 'retain', 'retali', 'retaliatori', 'retent', 'retir', 'retire', 'retract', 'retribut', 'retriev', 'retroact', 'return', 'rev', 'reveal', 'revenu', 'revers', 'revert', 'review', 'revis', 'revisit', 'reviv', 'revoc', 'revok', 'revolv', 'reward', 'ri', 'rich', 'rico', 'rid', 'riddl', 'ride', 'ridicul', 'right', 'ring', 'rip', 'rise', 'risen', 'risk', 'riski', 'rm', 'rma', 'road', 'roadblock', 'rob', 'robberi', 'robo', 'robocal', 'robosign', 'robot', 'rock', 'rogu', 'role', 'roll', 'rollov', 'roof', 'room', 'roommat', 'root', 'rope', 'rose', 'rough', 'roughli', 'round', 'roundpoint', 'rout', 'router', 'routin', 'row', 'rpm', 'rtr', 'ru', 'rude', 'rug', 'ruin', 'rule', 'run', 'runaround', 'rural', 'rush', 'rushcard', 'rushmor', 'ruthless', 'rv', 'sabotag', 'sach', 'sacrific', 'sad', 'sadli', 'safe', 'safeguard', 'safeti', 'said', 'sake', 'salari', 'sale', 'salesman', 'salesperson', 'salli', 'salliema', 'salvag', 'sam', 'sampl', 'sampson', 'sanction', 'sand', 'santand', 'sapphir', 'sarcast', 'sat', 'satisfact', 'satisfactori', 'satisfactorili', 'satisfi', 'saturday', 'save', 'saw', 'say', 'sc', 'scale', 'scam', 'scammer', 'scan', 'scandal', 'scare', 'scari', 'scenario', 'scene', 'schedul', 'scheme', 'scholarship', 'school', 'schwab', 'scope', 'score', 'scott', 'scottrad', 'scra', 'scrambl', 'scrape', 'scratch', 'scream', 'screen', 'screenshot', 'screw', 'script', 'scrutin', 'scrutini', 'sd', 'se', 'seal', 'seam', 'sear', 'search', 'season', 'seat', 'sec', 'second', 'secondari', 'secondli', 'secret', 'secretari', 'section', 'secur', 'securit', 'see', 'seek', 'seem', 'seemingli', 'seen', 'seiz', 'seizur', 'select', 'selen', 'self', 'sell', 'seller', 'semest', 'semi', 'senat', 'send', 'sender', 'seneca', 'senior', 'sens', 'sensit', 'sent', 'sentenc', 'separ', 'seper', 'septic', 'seq', 'sequenc', 'seri', 'serial', 'seriou', 'serious', 'serv', 'server', 'servic', 'servicememb', 'session', 'set', 'setback', 'seteru', 'settl', 'settlement', 'setup', 'seven', 'seventh', 'sever', 'sewer', 'sf', 'shadi', 'shake', 'shall', 'sham', 'shame', 'shape', 'share', 'sharehold', 'shark', 'shed', 'sheet', 'shell', 'shellpoint', 'shelter', 'sheriff', 'sherriff', 'shi', 'shift', 'ship', 'shipment', 'shock', 'shoddi', 'shoe', 'shop', 'shopper', 'shore', 'short', 'shortag', 'shorten', 'shorter', 'shortfal', 'shortli', 'shortsal', 'shot', 'shoulder', 'shouldnt', 'shout', 'show', 'shown', 'shred', 'shuffl', 'shut', 'shutdown', 'sibl', 'sick', 'side', 'sierra', 'sigh', 'sight', 'sign', 'signal', 'signatur', 'signer', 'signific', 'significantli', 'signor', 'signup', 'silenc', 'silent', 'silli', 'similar', 'similarli', 'simm', 'simon', 'simpl', 'simpli', 'simultan', 'sinc', 'sincer', 'sing', 'singl', 'sink', 'sir', 'sister', 'sit', 'site', 'situat', 'six', 'sixth', 'sixti', 'size', 'skeptic', 'sketchi', 'skill', 'skip', 'skirt', 'sky', 'skymil', 'skyrocket', 'sl', 'slam', 'slander', 'slap', 'slate', 'sleep', 'slight', 'slightli', 'slip', 'sloppi', 'slow', 'slowli', 'sm', 'small', 'smaller', 'smallest', 'smart', 'smell', 'smoke', 'smooth', 'smoothli', 'snail', 'snap', 'sneaki', 'snow', 'snowbal', 'soc', 'social', 'societi', 'sofa', 'sofi', 'soft', 'softwar', 'sol', 'sold', 'soldier', 'sole', 'solicit', 'solid', 'solomon', 'solut', 'solv', 'solvenc', 'somebodi', 'somehow', 'someon', 'someth', 'sometim', 'somewhat', 'somewher', 'son', 'soon', 'sooner', 'sophist', 'sorri', 'sort', 'sought', 'sound', 'sourc', 'south', 'southern', 'southwest', 'sp', 'space', 'spam', 'span', 'spare', 'spark', 'speak', 'speaker', 'special', 'specialist', 'specialti', 'specif', 'specifi', 'specul', 'speech', 'speed', 'speedi', 'spell', 'spend', 'spent', 'spin', 'spirit', 'spite', 'split', 'spoc', 'spoke', 'spoken', 'sponsor', 'spoof', 'sporad', 'spot', 'spotless', 'spotloan', 'spous', 'spousal', 'spread', 'spreadsheet', 'spring', 'springleaf', 'sprint', 'spv', 'sq', 'squar', 'squeez', 'sr', 'ss', 'ssa', 'ssan', 'ssi', 'ssn', 'st', 'stabil', 'stabl', 'stack', 'staf', 'staff', 'stafford', 'stage', 'stain', 'stake', 'stale', 'stalk', 'stall', 'stamp', 'stanc', 'stand', 'standard', 'star', 'stare', 'start', 'starter', 'stat', 'state', 'statebridg', 'statement', 'station', 'statment', 'statu', 'status', 'statut', 'statutori', 'stay', 'steadi', 'steadili', 'steal', 'stearn', 'steer', 'stellar', 'stem', 'step', 'sterl', 'stick', 'sticker', 'still', 'stipul', 'stmt', 'stock', 'stole', 'stolen', 'stone', 'stoneg', 'stonewal', 'stood', 'stop', 'storag', 'store', 'stori', 'storm', 'stove', 'straight', 'straighten', 'straightforward', 'strain', 'strand', 'strang', 'stranger', 'strategi', 'straw', 'stream', 'streamlin', 'street', 'stress', 'stretch', 'strict', 'strictli', 'strike', 'string', 'strip', 'strong', 'strongli', 'struck', 'structur', 'struggl', 'strung', 'stub', 'stuck', 'student', 'studi', 'stuff', 'stun', 'stupid', 'style', 'su', 'sub', 'subchapt', 'subdivis', 'subject', 'submiss', 'submit', 'submitt', 'subordin', 'subparagraph', 'subpoena', 'subprim', 'subscrib', 'subscript', 'subsect', 'subsequ', 'subsid', 'subsidiari', 'substant', 'substanti', 'substitut', 'subtract', 'succeed', 'success', 'successor', 'suck', 'sudden', 'suddenli', 'sue', 'suffer', 'suffic', 'suffici', 'suggest', 'suit', 'suitabl', 'sum', 'summar', 'summari', 'summer', 'summit', 'summon', 'sun', 'sunday', 'sunris', 'suntrust', 'super', 'superior', 'supersed', 'supervis', 'supervisor', 'supplement', 'suppli', 'supplier', 'support', 'suppos', 'supposedli', 'suppress', 'suprem', 'surcharg', 'sure', 'sureti', 'surfac', 'surgeri', 'surplu', 'surpris', 'surprisingli', 'surrend', 'surround', 'surveil', 'survey', 'surviv', 'suspect', 'suspend', 'suspens', 'suspici', 'suspicion', 'sustain', 'svc', 'swear', 'swindl', 'swipe', 'switch', 'swore', 'sworn', 'sychroni', 'sympathi', 'syncb', 'synchroni', 'syncroni', 'syndic', 'system', 'systemat', 'tab', 'tabl', 'tablet', 'tack', 'tactic', 'tag', 'take', 'taken', 'takeov', 'talk', 'tamper', 'tangibl', 'tank', 'tap', 'tape', 'target', 'tarnish', 'tarp', 'task', 'taught', 'tax', 'taxabl', 'taxi', 'taxpay', 'tcf', 'tcpa', 'td', 'tdbank', 'teach', 'teacher', 'team', 'tear', 'tech', 'technic', 'technician', 'techniqu', 'technolog', 'teeth', 'teh', 'tel', 'telecheck', 'telemarket', 'telephon', 'televis', 'tell', 'teller', 'temp', 'templat', 'temporari', 'temporarili', 'ten', 'tenant', 'tend', 'tender', 'tennesse', 'term', 'termin', 'termit', 'terribl', 'terrifi', 'terror', 'test', 'testifi', 'testimoni', 'texa', 'text', 'tf', 'th', 'thank', 'thankyou', 'that', 'thay', 'thee', 'theft', 'theori', 'therapi', 'there', 'thereaft', 'therebi', 'therefor', 'thereof', 'these', 'thi', 'thick', 'thief', 'thier', 'thiev', 'thin', 'thing', 'think', 'third', 'thirti', 'tho', 'thorough', 'thoroughli', 'thou', 'though', 'thought', 'thousand', 'threat', 'threaten', 'three', 'threshold', 'threw', 'throughout', 'throw', 'thrown', 'thru', 'thu', 'thursday', 'ti', 'tick', 'ticket', 'tie', 'tier', 'tight', 'til', 'tila', 'tile', 'till', 'time', 'timefram', 'timelin', 'timeshar', 'tini', 'tip', 'tire', 'titl', 'titlemax', 'tn', 'today', 'togeth', 'toilet', 'told', 'toler', 'toll', 'tomorrow', 'ton', 'tone', 'tonight', 'took', 'tool', 'top', 'topic', 'torn', 'toss', 'total', 'touch', 'tough', 'tour', 'tow', 'toward', 'tower', 'town', 'townhom', 'townhous', 'toxic', 'toyota', 'tpp', 'tr', 'trace', 'track', 'tracker', 'trade', 'tradelin', 'tradit', 'traffic', 'trail', 'trailer', 'train', 'tran', 'tranfer', 'transact', 'transcript', 'transfer', 'transit', 'translat', 'transmiss', 'transmit', 'transmitt', 'transpar', 'transpir', 'transport', 'transpos', 'transunion', 'transworld', 'tranunion', 'trap', 'trash', 'traumat', 'travel', 'treasur', 'treasuri', 'treat', 'treatment', 'tree', 'tremend', 'trend', 'trespass', 'tri', 'trial', 'tribal', 'trick', 'trickeri', 'trident', 'trigger', 'trip', 'tripl', 'troubl', 'truck', 'true', 'truli', 'trust', 'truste', 'trustworthi', 'truth', 'tsi', 'tu', 'tub', 'tue', 'tuesday', 'tuition', 'tune', 'turn', 'tv', 'twelv', 'twenti', 'twice', 'twist', 'two', 'tx', 'type', 'typic', 'typo', 'ua', 'ucc', 'udaap', 'ugli', 'uheaa', 'ultim', 'umpqua', 'un', 'unabl', 'unaccept', 'unaccount', 'unafford', 'unansw', 'unappli', 'unauthor', 'unavail', 'unawar', 'unbear', 'unbeknownst', 'unbeliev', 'unblock', 'uncal', 'uncar', 'uncertain', 'unchang', 'uncl', 'unclaim', 'unclear', 'uncollect', 'uncomfort', 'unconscion', 'uncoop', 'uncov', 'undat', 'undeliver', 'underemploy', 'undergo', 'underhand', 'underli', 'undermin', 'underneath', 'understand', 'understood', 'underwat', 'underwrit', 'underwritten', 'undisclos', 'undisput', 'undo', 'undu', 'unduli', 'unearn', 'unemploy', 'unenforc', 'uneth', 'unexpect', 'unexpectedli', 'unexplain', 'unfair', 'unfairli', 'unfamiliar', 'unfavor', 'unforeseen', 'unfortun', 'unfound', 'unfreez', 'unhappi', 'unhelp', 'unidentifi', 'uniform', 'unifund', 'unilater', 'uninform', 'uninsur', 'union', 'uniqu', 'unit', 'univers', 'unjust', 'unjustifi', 'unjustli', 'unknowingli', 'unknown', 'unlaw', 'unless', 'unlik', 'unlimit', 'unlist', 'unlock', 'unnecessari', 'unnecessarili', 'unpaid', 'unpleas', 'unprofession', 'unreal', 'unrealist', 'unreason', 'unrel', 'unreli', 'unresolv', 'unrespons', 'unreturn', 'unsaf', 'unsatisfactori', 'unsatisfi', 'unscrupul', 'unsecur', 'unsettl', 'unsign', 'unsolicit', 'unspecifi', 'unsubsid', 'unsubstanti', 'unsuccess', 'unsur', 'unsuspect', 'until', 'untim', 'untru', 'untruth', 'unus', 'unusu', 'unvalid', 'unverifi', 'unwant', 'unwarr', 'unwil', 'unwilling', 'up', 'upcom', 'updat', 'upfront', 'upgrad', 'upheld', 'uphold', 'upload', 'upon', 'upper', 'upset', 'upsid', 'upward', 'ur', 'urban', 'urg', 'urgenc', 'urgent', 'url', 'us', 'usa', 'usaa', 'usag', 'usbank', 'usc', 'usd', 'usda', 'use', 'useless', 'user', 'usernam', 'usp', 'usual', 'usuri', 'ut', 'utah', 'util', 'utter', 'utterli', 'va', 'vacant', 'vacat', 'vagu', 'vain', 'valid', 'valley', 'valu', 'valuabl', 'valuat', 'van', 'vandal', 'vanderbilt', 'vanish', 'vari', 'variabl', 'varianc', 'variat', 'varieti', 'variou', 'vast', 'vehicl', 'vendor', 'venmo', 'ventur', 'venu', 'verbal', 'verbatim', 'verbiag', 'verg', 'verif', 'verifi', 'verizon', 'vermont', 'versa', 'version', 'versu', 'vest', 'vet', 'veteran', 'vi', 'via', 'viabl', 'vice', 'viciou', 'victim', 'video', 'view', 'vigil', 'vin', 'violat', 'virginia', 'virtual', 'visa', 'visibl', 'visit', 'vital', 'vm', 'voic', 'voicemail', 'void', 'volkswagen', 'volum', 'volunt', 'voluntari', 'voluntarili', 'voucher', 'vp', 'vs', 'vsac', 'vulner', 'vw', 'wa', 'wachovia', 'wage', 'wait', 'waiv', 'waiver', 'wake', 'wakefield', 'wal', 'walk', 'wall', 'wallet', 'walmart', 'wamu', 'wan', 'want', 'war', 'warehous', 'warfield', 'warm', 'warn', 'warrant', 'warranti', 'wash', 'washer', 'washington', 'wasnt', 'wast', 'watch', 'water', 'wave', 'way', 'weak', 'wealth', 'wear', 'weather', 'web', 'weber', 'webpag', 'websit', 'webster', 'wed', 'wednesday', 'week', 'weekend', 'weekli', 'weight', 'weinberg', 'weiner', 'weird', 'welcom', 'welfar', 'well', 'wellsfargo', 'weltman', 'went', 'west', 'western', 'westlak', 'wet', 'wf', 'wfb', 'wfd', 'wfhm', 'what', 'whatev', 'whatsoev', 'wheel', 'whenev', 'wherea', 'whereabout', 'wherebi', 'wherein', 'wherev', 'whether', 'whichev', 'whim', 'white', 'whoever', 'whole', 'wholesal', 'wholli', 'whomev', 'whop', 'whose', 'wi', 'wich', 'wide', 'widow', 'wife', 'wild', 'will', 'william', 'willing', 'willingli', 'wilshir', 'win', 'wind', 'windham', 'window', 'winter', 'wipe', 'wire', 'wireless', 'wisconsin', 'wise', 'wish', 'wit', 'witch', 'with', 'withdraw', 'withdrawl', 'withdrawn', 'withdrew', 'withheld', 'withhold', 'within', 'without', 'wk', 'wo', 'woke', 'woman', 'women', 'wonder', 'wont', 'wood', 'word', 'work', 'worker', 'workman', 'workout', 'workplac', 'worksheet', 'world', 'worri', 'wors', 'worsen', 'worst', 'worth', 'worthi', 'worthless', 'would', 'wouldnt', 'wound', 'wow', 'wrap', 'wreck', 'writ', 'write', 'writer', 'written', 'wrong', 'wrongdo', 'wrongli', 'wrote', 'wu', 'www', 'xxxxaccount', 'xxxxaddress', 'xxxxand', 'xxxxbank', 'xxxxcompani', 'xxxxcredit', 'xxxxdate', 'xxxxdear', 'xxxxi', 'xxxxmi', 'xxxxon', 'xxxxorigin', 'xxxxpayment', 'xxxxphone', 'xxxxpleas', 'xxxxstatu', 'xxxxthe', 'xxxxthi', 'xxxxto', 'xxxxwe', 'xxxxxx', 'xxxxxxxx', 'xxxxxxxxi', 'xxxxxxxxxxxx', 'yard', 'ye', 'yeah', 'year', 'yearli', 'yell', 'yellow', 'yesterday', 'yet', 'yield', 'york', 'young', 'younger', 'youxxxx', 'yr', 'zero', 'zion', 'zip', 'zombi', 'zone']\n"
     ]
    }
   ],
   "source": [
    "# Take a look at the words in the vocabulary\n",
    "vocab = vectorizer.get_feature_names()\n",
    "print (vocab)"
   ]
  },
  {
   "cell_type": "code",
   "execution_count": 19,
   "metadata": {
    "collapsed": true
   },
   "outputs": [],
   "source": [
    "# Initialize a Random Forest classifier with 100 trees\n",
    "forest = RandomForestClassifier(n_estimators = 100) \n",
    "\n",
    "# Fit the forest to the training set, using the bag of words as \n",
    "# features and the sentiment labels as the response variable\n",
    "#\n",
    "# This may take a few minutes to run\n",
    "forest = forest.fit( train_data_features, train[\"Company_response_to_consumer\"] )"
   ]
  },
  {
   "cell_type": "code",
   "execution_count": 20,
   "metadata": {
    "collapsed": false
   },
   "outputs": [
    {
     "name": "stdout",
     "output_type": "stream",
     "text": [
      "Cleaning and parsing the test set movie reviews...\n",
      "\n",
      "Test narrative 5000 of 107884\n",
      "Test narrative 10000 of 107884\n",
      "Test narrative 15000 of 107884\n",
      "Test narrative 20000 of 107884\n",
      "Test narrative 25000 of 107884\n"
     ]
    }
   ],
   "source": [
    "# preprocess test narrative data\n",
    "count = 0\n",
    "# Create an empty list and append the clean reviews one by one\n",
    "num_narr = len(test[\"Consumer_complaint_narrative\"])\n",
    "clean_test_narr = [] \n",
    "\n",
    "print (\"Cleaning and parsing the test set movie reviews...\\n\")\n",
    "for item, frame in test[\"Consumer_complaint_narrative\"].iteritems():\n",
    "    # If the count is evenly divisible by 50000, print a message\n",
    "    count += 1\n",
    "    if( (count+1)%5000 == 0 ):\n",
    "        print (\"Test narrative %d of %d\" % ( count+1, num_narr ))\n",
    "    # Call our function for each one, and add the result to the list of\n",
    "    # clean reviews\n",
    "    if item in test.index:\n",
    "        clean_test_narr.append( narrative_to_words( frame ) )"
   ]
  },
  {
   "cell_type": "code",
   "execution_count": 51,
   "metadata": {
    "collapsed": false
   },
   "outputs": [
    {
     "data": {
      "text/plain": [
       "array([0, 0, 0, ..., 0, 0, 0], dtype=int8)"
      ]
     },
     "execution_count": 51,
     "metadata": {},
     "output_type": "execute_result"
    }
   ],
   "source": [
    "# Get a bag of words for the test set, and convert to a numpy array\n",
    "test_data_features = vectorizer.transform(clean_test_narr)\n",
    "test_data_features = test_data_features.toarray()\n",
    "\n",
    "# Use the random forest to make sentiment label predictions\n",
    "result = forest.predict(test_data_features)\n",
    "result\n",
    "\n",
    "## Copy the results to a pandas dataframe with an \"id\" column and\n",
    "## a \"sentiment\" column\n",
    "#output = pd.DataFrame( data={\"id\":test[\"id\"], \"sentiment\":result} )\n",
    "\n",
    "## Use pandas to write the comma-separated output file\n",
    "#output.to_csv( \"Bag_of_Words_model.csv\", index=False, quoting=3 )"
   ]
  },
  {
   "cell_type": "code",
   "execution_count": 22,
   "metadata": {
    "collapsed": false
   },
   "outputs": [
    {
     "data": {
      "text/plain": [
       "array([2, 0, 0, ..., 0, 2, 0], dtype=int8)"
      ]
     },
     "execution_count": 22,
     "metadata": {},
     "output_type": "execute_result"
    }
   ],
   "source": [
    "#get actual labels of test set in array form\n",
    "actual = np.array(test[\"Company_response_to_consumer\"])\n",
    "actual"
   ]
  },
  {
   "cell_type": "code",
   "execution_count": null,
   "metadata": {
    "collapsed": true
   },
   "outputs": [],
   "source": [
    "#count correct predictions\n",
    "actualExp = 0 # counts actual 'closed with explanation' OR (0) labels\n",
    "actualRel = 0 # counts actual 'closed with monetary relief' OR (1) labels\n",
    "actualNon = 0 # counts actual 'closed with non-monetary relief' OR (2) labels\n",
    "    \n",
    "predExp = 0 # counts correct predicted 0 labels\n",
    "predExp_Rel = 0 # counts incorrect predictions of 0 when 1\n",
    "predExp_Non = 0 # counts incorrect predictions of 0 when 2\n",
    "   \n",
    "predRel = 0 # counts correct predicted 1 labels\n",
    "predRel_Exp = 0 # counts incorrect predicitons of 1 when 0\n",
    "predRel_Non = 0 # counts incorrect predictions of 1 when 2\n",
    "    \n",
    "predNon = 0 # counts correct predicted 2 labels\n",
    "predNon_Exp = 0 # counts incorrect predictions of 2 when 0\n",
    "predNon_Rel = 0 # counts incorrect predicitons of 2 when 1"
   ]
  },
  {
   "cell_type": "code",
   "execution_count": 67,
   "metadata": {
    "collapsed": true
   },
   "outputs": [],
   "source": [
    "    for i in range (len(result)):\n",
    "        act = actual[i]\n",
    "        pred = result[i]\n",
    "        \n",
    "        if pred == act:\n",
    "            if act == 0:\n",
    "                predExp = predExp + 1\n",
    "                actualExp = actualExp + 1\n",
    "            elif act == 1:\n",
    "                predRel = predRel + 1\n",
    "                actualRel = actualRel + 1\n",
    "            elif act == 2:\n",
    "                predNon = predNon + 1\n",
    "                actualNon = actualNon + 1\n",
    "        \n",
    "        else:\n",
    "            if act == 0:\n",
    "                actualExp = actualExp + 1\n",
    "                if pred == 1:\n",
    "                    predRel_Exp = predRel_Exp + 1\n",
    "                elif pred == 2:\n",
    "                    predNon_Exp = predNon_Exp + 1\n",
    "            if act == 1:\n",
    "                actualRel = actualRel + 1\n",
    "                if pred == 0:\n",
    "                    predExp_Rel = predExp_Rel + 1\n",
    "                elif pred == 2:\n",
    "                    predNon_Rel = predNon_Rel + 1\n",
    "            if act == 2:\n",
    "                actualNon = actualNon + 1\n",
    "                if pred == 0:\n",
    "                    predExp_Non = predExp_Non + 1\n",
    "                elif pred == 1:\n",
    "                    predRel_Non = predRel_Non + 1"
   ]
  },
  {
   "cell_type": "code",
   "execution_count": 68,
   "metadata": {
    "collapsed": false
   },
   "outputs": [
    {
     "name": "stdout",
     "output_type": "stream",
     "text": [
      "predExp: 21591\n",
      "predExp_Rel: 2121\n",
      "predExp_Non: 2893\n",
      "predRel: 52\n",
      "predRel_Exp: 25\n",
      "predRel_Non: 1\n",
      "predNon: 159\n",
      "predNon_Exp: 121\n",
      "predNon_Rel: 7\n",
      "actualExp: 21737\n",
      "actualRel: 2180\n",
      "actualNon: 3053\n"
     ]
    },
    {
     "data": {
      "text/plain": [
       "0.8083796811271784"
      ]
     },
     "execution_count": 68,
     "metadata": {},
     "output_type": "execute_result"
    }
   ],
   "source": [
    "print (\"predExp: %d\" % ( predExp ))\n",
    "print (\"predExp_Rel: %d\" % ( predExp_Rel ))\n",
    "print (\"predExp_Non: %d\" % ( predExp_Non ))\n",
    "print (\"predRel: %d\" % ( predRel ))\n",
    "print (\"predRel_Exp: %d\" % ( predRel_Exp ))\n",
    "print (\"predRel_Non: %d\" % ( predRel_Non ))\n",
    "print (\"predNon: %d\" % ( predNon ))\n",
    "print (\"predNon_Exp: %d\" % ( predNon_Exp ))\n",
    "print (\"predNon_Rel: %d\" % ( predNon_Rel ))\n",
    "print (\"actualExp: %d\" % ( actualExp ))\n",
    "print (\"actualRel: %d\" % ( actualRel ))\n",
    "print (\"actualNon: %d\" % ( actualNon ))\n",
    "\n",
    "accuracy = (predExp+predRel+predNon)/(actualExp+actualRel+actualNon)\n",
    "accuracy"
   ]
  },
  {
   "cell_type": "code",
   "execution_count": null,
   "metadata": {
    "collapsed": true
   },
   "outputs": [],
   "source": []
  }
 ],
 "metadata": {
  "kernelspec": {
   "display_name": "Python [Root]",
   "language": "python",
   "name": "Python [Root]"
  },
  "language_info": {
   "codemirror_mode": {
    "name": "ipython",
    "version": 3
   },
   "file_extension": ".py",
   "mimetype": "text/x-python",
   "name": "python",
   "nbconvert_exporter": "python",
   "pygments_lexer": "ipython3",
   "version": "3.5.2"
  }
 },
 "nbformat": 4,
 "nbformat_minor": 0
}
